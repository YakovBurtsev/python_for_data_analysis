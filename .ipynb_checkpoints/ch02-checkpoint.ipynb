{
 "cells": [
  {
   "cell_type": "markdown",
   "metadata": {},
   "source": [
    "<h1>Introductory examples</h1>\n",
    "<h2>1.usa.gov data from bit.ly</h2>"
   ]
  },
  {
   "cell_type": "code",
   "execution_count": 8,
   "metadata": {
    "collapsed": true
   },
   "outputs": [],
   "source": [
    "import json\n",
    "path = 'ch02/usagov_bitly_data2012-03-16-1331923249.txt'\n",
    "records = [json.loads(line) for line in open(path)]"
   ]
  },
  {
   "cell_type": "code",
   "execution_count": 9,
   "metadata": {},
   "outputs": [
    {
     "data": {
      "text/plain": [
       "{'a': 'Mozilla/5.0 (Windows NT 6.1; WOW64) AppleWebKit/535.11 (KHTML, like Gecko) Chrome/17.0.963.78 Safari/535.11',\n",
       " 'al': 'en-US,en;q=0.8',\n",
       " 'c': 'US',\n",
       " 'cy': 'Danvers',\n",
       " 'g': 'A6qOVH',\n",
       " 'gr': 'MA',\n",
       " 'h': 'wfLQtf',\n",
       " 'hc': 1331822918,\n",
       " 'hh': '1.usa.gov',\n",
       " 'l': 'orofrog',\n",
       " 'll': [42.576698, -70.954903],\n",
       " 'nk': 1,\n",
       " 'r': 'http://www.facebook.com/l/7AQEFzjSi/1.usa.gov/wfLQtf',\n",
       " 't': 1331923247,\n",
       " 'tz': 'America/New_York',\n",
       " 'u': 'http://www.ncbi.nlm.nih.gov/pubmed/22415991'}"
      ]
     },
     "execution_count": 9,
     "metadata": {},
     "output_type": "execute_result"
    }
   ],
   "source": [
    "records[0]"
   ]
  },
  {
   "cell_type": "code",
   "execution_count": 10,
   "metadata": {},
   "outputs": [
    {
     "data": {
      "text/plain": [
       "'America/New_York'"
      ]
     },
     "execution_count": 10,
     "metadata": {},
     "output_type": "execute_result"
    }
   ],
   "source": [
    "records[0]['tz']"
   ]
  },
  {
   "cell_type": "markdown",
   "metadata": {},
   "source": [
    "<h3>Counting time zones in pure Python</h3>"
   ]
  },
  {
   "cell_type": "code",
   "execution_count": 11,
   "metadata": {
    "collapsed": true
   },
   "outputs": [],
   "source": [
    "time_zones = [rec['tz'] for rec in records if 'tz' in rec]"
   ]
  },
  {
   "cell_type": "code",
   "execution_count": 12,
   "metadata": {},
   "outputs": [
    {
     "data": {
      "text/plain": [
       "['America/New_York',\n",
       " 'America/Denver',\n",
       " 'America/New_York',\n",
       " 'America/Sao_Paulo',\n",
       " 'America/New_York',\n",
       " 'America/New_York',\n",
       " 'Europe/Warsaw',\n",
       " '',\n",
       " '',\n",
       " '']"
      ]
     },
     "execution_count": 12,
     "metadata": {},
     "output_type": "execute_result"
    }
   ],
   "source": [
    "time_zones[:10]"
   ]
  },
  {
   "cell_type": "code",
   "execution_count": 13,
   "metadata": {
    "collapsed": true
   },
   "outputs": [],
   "source": [
    "from collections import defaultdict\n",
    "\n",
    "def get_counts(sequence):\n",
    "    counts = defaultdict(int)  # values will initialize to 0\n",
    "    for x in sequence:\n",
    "        counts[x] += 1\n",
    "    return counts\n",
    "\n",
    "counts = get_counts(time_zones)"
   ]
  },
  {
   "cell_type": "code",
   "execution_count": 14,
   "metadata": {},
   "outputs": [
    {
     "data": {
      "text/plain": [
       "1251"
      ]
     },
     "execution_count": 14,
     "metadata": {},
     "output_type": "execute_result"
    }
   ],
   "source": [
    "counts['America/New_York']"
   ]
  },
  {
   "cell_type": "code",
   "execution_count": 15,
   "metadata": {},
   "outputs": [
    {
     "data": {
      "text/plain": [
       "3440"
      ]
     },
     "execution_count": 15,
     "metadata": {},
     "output_type": "execute_result"
    }
   ],
   "source": [
    "len(time_zones)"
   ]
  },
  {
   "cell_type": "code",
   "execution_count": 16,
   "metadata": {},
   "outputs": [
    {
     "data": {
      "text/plain": [
       "[(33, 'America/Sao_Paulo'),\n",
       " (35, 'Europe/Madrid'),\n",
       " (36, 'Pacific/Honolulu'),\n",
       " (37, 'Asia/Tokyo'),\n",
       " (74, 'Europe/London'),\n",
       " (191, 'America/Denver'),\n",
       " (382, 'America/Los_Angeles'),\n",
       " (400, 'America/Chicago'),\n",
       " (521, ''),\n",
       " (1251, 'America/New_York')]"
      ]
     },
     "execution_count": 16,
     "metadata": {},
     "output_type": "execute_result"
    }
   ],
   "source": [
    "def top_counts(count_dict, n=10):\n",
    "    value_key_pairs = [(count, tz) for tz, count in count_dict.items()]\n",
    "    value_key_pairs.sort()\n",
    "    return value_key_pairs[-n:]\n",
    "\n",
    "top_counts(counts)"
   ]
  },
  {
   "cell_type": "code",
   "execution_count": 17,
   "metadata": {},
   "outputs": [
    {
     "data": {
      "text/plain": [
       "[('America/New_York', 1251),\n",
       " ('', 521),\n",
       " ('America/Chicago', 400),\n",
       " ('America/Los_Angeles', 382),\n",
       " ('America/Denver', 191),\n",
       " ('Europe/London', 74),\n",
       " ('Asia/Tokyo', 37),\n",
       " ('Pacific/Honolulu', 36),\n",
       " ('Europe/Madrid', 35),\n",
       " ('America/Sao_Paulo', 33)]"
      ]
     },
     "execution_count": 17,
     "metadata": {},
     "output_type": "execute_result"
    }
   ],
   "source": [
    "from collections import Counter\n",
    "counts = Counter(time_zones)\n",
    "counts.most_common(10)"
   ]
  },
  {
   "cell_type": "markdown",
   "metadata": {},
   "source": [
    "<h3>Counting time zones with pandas</h3>"
   ]
  },
  {
   "cell_type": "code",
   "execution_count": 18,
   "metadata": {
    "collapsed": true
   },
   "outputs": [],
   "source": [
    "from pandas import DataFrame, Series"
   ]
  },
  {
   "cell_type": "code",
   "execution_count": 19,
   "metadata": {
    "collapsed": true
   },
   "outputs": [],
   "source": [
    "import pandas as pd"
   ]
  },
  {
   "cell_type": "code",
   "execution_count": 20,
   "metadata": {
    "collapsed": true
   },
   "outputs": [],
   "source": [
    "frame = DataFrame(records)"
   ]
  },
  {
   "cell_type": "code",
   "execution_count": 21,
   "metadata": {
    "scrolled": true
   },
   "outputs": [
    {
     "data": {
      "text/html": [
       "<div>\n",
       "<table border=\"1\" class=\"dataframe\">\n",
       "  <thead>\n",
       "    <tr style=\"text-align: right;\">\n",
       "      <th></th>\n",
       "      <th>_heartbeat_</th>\n",
       "      <th>a</th>\n",
       "      <th>al</th>\n",
       "      <th>c</th>\n",
       "      <th>cy</th>\n",
       "      <th>g</th>\n",
       "      <th>gr</th>\n",
       "      <th>h</th>\n",
       "      <th>hc</th>\n",
       "      <th>hh</th>\n",
       "      <th>kw</th>\n",
       "      <th>l</th>\n",
       "      <th>ll</th>\n",
       "      <th>nk</th>\n",
       "      <th>r</th>\n",
       "      <th>t</th>\n",
       "      <th>tz</th>\n",
       "      <th>u</th>\n",
       "    </tr>\n",
       "  </thead>\n",
       "  <tbody>\n",
       "    <tr>\n",
       "      <th>0</th>\n",
       "      <td>NaN</td>\n",
       "      <td>Mozilla/5.0 (Windows NT 6.1; WOW64) AppleWebKi...</td>\n",
       "      <td>en-US,en;q=0.8</td>\n",
       "      <td>US</td>\n",
       "      <td>Danvers</td>\n",
       "      <td>A6qOVH</td>\n",
       "      <td>MA</td>\n",
       "      <td>wfLQtf</td>\n",
       "      <td>1.331823e+09</td>\n",
       "      <td>1.usa.gov</td>\n",
       "      <td>NaN</td>\n",
       "      <td>orofrog</td>\n",
       "      <td>[42.576698, -70.954903]</td>\n",
       "      <td>1.0</td>\n",
       "      <td>http://www.facebook.com/l/7AQEFzjSi/1.usa.gov/...</td>\n",
       "      <td>1.331923e+09</td>\n",
       "      <td>America/New_York</td>\n",
       "      <td>http://www.ncbi.nlm.nih.gov/pubmed/22415991</td>\n",
       "    </tr>\n",
       "    <tr>\n",
       "      <th>1</th>\n",
       "      <td>NaN</td>\n",
       "      <td>GoogleMaps/RochesterNY</td>\n",
       "      <td>NaN</td>\n",
       "      <td>US</td>\n",
       "      <td>Provo</td>\n",
       "      <td>mwszkS</td>\n",
       "      <td>UT</td>\n",
       "      <td>mwszkS</td>\n",
       "      <td>1.308262e+09</td>\n",
       "      <td>j.mp</td>\n",
       "      <td>NaN</td>\n",
       "      <td>bitly</td>\n",
       "      <td>[40.218102, -111.613297]</td>\n",
       "      <td>0.0</td>\n",
       "      <td>http://www.AwareMap.com/</td>\n",
       "      <td>1.331923e+09</td>\n",
       "      <td>America/Denver</td>\n",
       "      <td>http://www.monroecounty.gov/etc/911/rss.php</td>\n",
       "    </tr>\n",
       "    <tr>\n",
       "      <th>2</th>\n",
       "      <td>NaN</td>\n",
       "      <td>Mozilla/4.0 (compatible; MSIE 8.0; Windows NT ...</td>\n",
       "      <td>en-US</td>\n",
       "      <td>US</td>\n",
       "      <td>Washington</td>\n",
       "      <td>xxr3Qb</td>\n",
       "      <td>DC</td>\n",
       "      <td>xxr3Qb</td>\n",
       "      <td>1.331920e+09</td>\n",
       "      <td>1.usa.gov</td>\n",
       "      <td>NaN</td>\n",
       "      <td>bitly</td>\n",
       "      <td>[38.9007, -77.043098]</td>\n",
       "      <td>1.0</td>\n",
       "      <td>http://t.co/03elZC4Q</td>\n",
       "      <td>1.331923e+09</td>\n",
       "      <td>America/New_York</td>\n",
       "      <td>http://boxer.senate.gov/en/press/releases/0316...</td>\n",
       "    </tr>\n",
       "    <tr>\n",
       "      <th>3</th>\n",
       "      <td>NaN</td>\n",
       "      <td>Mozilla/5.0 (Macintosh; Intel Mac OS X 10_6_8)...</td>\n",
       "      <td>pt-br</td>\n",
       "      <td>BR</td>\n",
       "      <td>Braz</td>\n",
       "      <td>zCaLwp</td>\n",
       "      <td>27</td>\n",
       "      <td>zUtuOu</td>\n",
       "      <td>1.331923e+09</td>\n",
       "      <td>1.usa.gov</td>\n",
       "      <td>NaN</td>\n",
       "      <td>alelex88</td>\n",
       "      <td>[-23.549999, -46.616699]</td>\n",
       "      <td>0.0</td>\n",
       "      <td>direct</td>\n",
       "      <td>1.331923e+09</td>\n",
       "      <td>America/Sao_Paulo</td>\n",
       "      <td>http://apod.nasa.gov/apod/ap120312.html</td>\n",
       "    </tr>\n",
       "    <tr>\n",
       "      <th>4</th>\n",
       "      <td>NaN</td>\n",
       "      <td>Mozilla/5.0 (Windows NT 6.1; WOW64) AppleWebKi...</td>\n",
       "      <td>en-US,en;q=0.8</td>\n",
       "      <td>US</td>\n",
       "      <td>Shrewsbury</td>\n",
       "      <td>9b6kNl</td>\n",
       "      <td>MA</td>\n",
       "      <td>9b6kNl</td>\n",
       "      <td>1.273672e+09</td>\n",
       "      <td>bit.ly</td>\n",
       "      <td>NaN</td>\n",
       "      <td>bitly</td>\n",
       "      <td>[42.286499, -71.714699]</td>\n",
       "      <td>0.0</td>\n",
       "      <td>http://www.shrewsbury-ma.gov/selco/</td>\n",
       "      <td>1.331923e+09</td>\n",
       "      <td>America/New_York</td>\n",
       "      <td>http://www.shrewsbury-ma.gov/egov/gallery/1341...</td>\n",
       "    </tr>\n",
       "    <tr>\n",
       "      <th>5</th>\n",
       "      <td>NaN</td>\n",
       "      <td>Mozilla/5.0 (Windows NT 6.1; WOW64) AppleWebKi...</td>\n",
       "      <td>en-US,en;q=0.8</td>\n",
       "      <td>US</td>\n",
       "      <td>Shrewsbury</td>\n",
       "      <td>axNK8c</td>\n",
       "      <td>MA</td>\n",
       "      <td>axNK8c</td>\n",
       "      <td>1.273673e+09</td>\n",
       "      <td>bit.ly</td>\n",
       "      <td>NaN</td>\n",
       "      <td>bitly</td>\n",
       "      <td>[42.286499, -71.714699]</td>\n",
       "      <td>0.0</td>\n",
       "      <td>http://www.shrewsbury-ma.gov/selco/</td>\n",
       "      <td>1.331923e+09</td>\n",
       "      <td>America/New_York</td>\n",
       "      <td>http://www.shrewsbury-ma.gov/egov/gallery/1341...</td>\n",
       "    </tr>\n",
       "    <tr>\n",
       "      <th>6</th>\n",
       "      <td>NaN</td>\n",
       "      <td>Mozilla/5.0 (Windows NT 5.1) AppleWebKit/535.1...</td>\n",
       "      <td>pl-PL,pl;q=0.8,en-US;q=0.6,en;q=0.4</td>\n",
       "      <td>PL</td>\n",
       "      <td>Luban</td>\n",
       "      <td>wcndER</td>\n",
       "      <td>77</td>\n",
       "      <td>zkpJBR</td>\n",
       "      <td>1.331923e+09</td>\n",
       "      <td>1.usa.gov</td>\n",
       "      <td>NaN</td>\n",
       "      <td>bnjacobs</td>\n",
       "      <td>[51.116699, 15.2833]</td>\n",
       "      <td>0.0</td>\n",
       "      <td>http://plus.url.google.com/url?sa=z&amp;n=13319232...</td>\n",
       "      <td>1.331923e+09</td>\n",
       "      <td>Europe/Warsaw</td>\n",
       "      <td>http://www.nasa.gov/mission_pages/nustar/main/...</td>\n",
       "    </tr>\n",
       "    <tr>\n",
       "      <th>7</th>\n",
       "      <td>NaN</td>\n",
       "      <td>Mozilla/5.0 (Windows NT 6.1; rv:2.0.1) Gecko/2...</td>\n",
       "      <td>bg,en-us;q=0.7,en;q=0.3</td>\n",
       "      <td>None</td>\n",
       "      <td>NaN</td>\n",
       "      <td>wcndER</td>\n",
       "      <td>NaN</td>\n",
       "      <td>zkpJBR</td>\n",
       "      <td>1.331923e+09</td>\n",
       "      <td>1.usa.gov</td>\n",
       "      <td>NaN</td>\n",
       "      <td>bnjacobs</td>\n",
       "      <td>NaN</td>\n",
       "      <td>0.0</td>\n",
       "      <td>http://www.facebook.com/</td>\n",
       "      <td>1.331923e+09</td>\n",
       "      <td></td>\n",
       "      <td>http://www.nasa.gov/mission_pages/nustar/main/...</td>\n",
       "    </tr>\n",
       "    <tr>\n",
       "      <th>8</th>\n",
       "      <td>NaN</td>\n",
       "      <td>Opera/9.80 (X11; Linux zbov; U; en) Presto/2.1...</td>\n",
       "      <td>en-US, en</td>\n",
       "      <td>None</td>\n",
       "      <td>NaN</td>\n",
       "      <td>wcndER</td>\n",
       "      <td>NaN</td>\n",
       "      <td>zkpJBR</td>\n",
       "      <td>1.331923e+09</td>\n",
       "      <td>1.usa.gov</td>\n",
       "      <td>NaN</td>\n",
       "      <td>bnjacobs</td>\n",
       "      <td>NaN</td>\n",
       "      <td>0.0</td>\n",
       "      <td>http://www.facebook.com/l.php?u=http%3A%2F%2F1...</td>\n",
       "      <td>1.331923e+09</td>\n",
       "      <td></td>\n",
       "      <td>http://www.nasa.gov/mission_pages/nustar/main/...</td>\n",
       "    </tr>\n",
       "    <tr>\n",
       "      <th>9</th>\n",
       "      <td>NaN</td>\n",
       "      <td>Mozilla/5.0 (Windows NT 6.1; WOW64) AppleWebKi...</td>\n",
       "      <td>pt-BR,pt;q=0.8,en-US;q=0.6,en;q=0.4</td>\n",
       "      <td>None</td>\n",
       "      <td>NaN</td>\n",
       "      <td>zCaLwp</td>\n",
       "      <td>NaN</td>\n",
       "      <td>zUtuOu</td>\n",
       "      <td>1.331923e+09</td>\n",
       "      <td>1.usa.gov</td>\n",
       "      <td>NaN</td>\n",
       "      <td>alelex88</td>\n",
       "      <td>NaN</td>\n",
       "      <td>0.0</td>\n",
       "      <td>http://t.co/o1Pd0WeV</td>\n",
       "      <td>1.331923e+09</td>\n",
       "      <td></td>\n",
       "      <td>http://apod.nasa.gov/apod/ap120312.html</td>\n",
       "    </tr>\n",
       "    <tr>\n",
       "      <th>10</th>\n",
       "      <td>NaN</td>\n",
       "      <td>Mozilla/5.0 (Windows NT 6.1; WOW64; rv:10.0.2)...</td>\n",
       "      <td>en-us,en;q=0.5</td>\n",
       "      <td>US</td>\n",
       "      <td>Seattle</td>\n",
       "      <td>vNJS4H</td>\n",
       "      <td>WA</td>\n",
       "      <td>u0uD9q</td>\n",
       "      <td>1.319564e+09</td>\n",
       "      <td>1.usa.gov</td>\n",
       "      <td>NaN</td>\n",
       "      <td>o_4us71ccioa</td>\n",
       "      <td>[47.5951, -122.332603]</td>\n",
       "      <td>1.0</td>\n",
       "      <td>direct</td>\n",
       "      <td>1.331923e+09</td>\n",
       "      <td>America/Los_Angeles</td>\n",
       "      <td>https://www.nysdot.gov/rexdesign/design/commun...</td>\n",
       "    </tr>\n",
       "    <tr>\n",
       "      <th>11</th>\n",
       "      <td>NaN</td>\n",
       "      <td>Mozilla/5.0 (Macintosh; U; Intel Mac OS X 10.4...</td>\n",
       "      <td>en-us,en;q=0.5</td>\n",
       "      <td>US</td>\n",
       "      <td>Washington</td>\n",
       "      <td>wG7OIH</td>\n",
       "      <td>DC</td>\n",
       "      <td>A0nRz4</td>\n",
       "      <td>1.331816e+09</td>\n",
       "      <td>1.usa.gov</td>\n",
       "      <td>NaN</td>\n",
       "      <td>darrellissa</td>\n",
       "      <td>[38.937599, -77.092796]</td>\n",
       "      <td>0.0</td>\n",
       "      <td>http://t.co/ND7SoPyo</td>\n",
       "      <td>1.331923e+09</td>\n",
       "      <td>America/New_York</td>\n",
       "      <td>http://oversight.house.gov/wp-content/uploads/...</td>\n",
       "    </tr>\n",
       "    <tr>\n",
       "      <th>12</th>\n",
       "      <td>NaN</td>\n",
       "      <td>Mozilla/5.0 (Windows NT 6.1; WOW64; rv:10.0.2)...</td>\n",
       "      <td>en-us,en;q=0.5</td>\n",
       "      <td>US</td>\n",
       "      <td>Alexandria</td>\n",
       "      <td>vNJS4H</td>\n",
       "      <td>VA</td>\n",
       "      <td>u0uD9q</td>\n",
       "      <td>1.319564e+09</td>\n",
       "      <td>1.usa.gov</td>\n",
       "      <td>NaN</td>\n",
       "      <td>o_4us71ccioa</td>\n",
       "      <td>[38.790901, -77.094704]</td>\n",
       "      <td>1.0</td>\n",
       "      <td>direct</td>\n",
       "      <td>1.331923e+09</td>\n",
       "      <td>America/New_York</td>\n",
       "      <td>https://www.nysdot.gov/rexdesign/design/commun...</td>\n",
       "    </tr>\n",
       "    <tr>\n",
       "      <th>13</th>\n",
       "      <td>1.331923e+09</td>\n",
       "      <td>NaN</td>\n",
       "      <td>NaN</td>\n",
       "      <td>NaN</td>\n",
       "      <td>NaN</td>\n",
       "      <td>NaN</td>\n",
       "      <td>NaN</td>\n",
       "      <td>NaN</td>\n",
       "      <td>NaN</td>\n",
       "      <td>NaN</td>\n",
       "      <td>NaN</td>\n",
       "      <td>NaN</td>\n",
       "      <td>NaN</td>\n",
       "      <td>NaN</td>\n",
       "      <td>NaN</td>\n",
       "      <td>NaN</td>\n",
       "      <td>NaN</td>\n",
       "      <td>NaN</td>\n",
       "    </tr>\n",
       "    <tr>\n",
       "      <th>14</th>\n",
       "      <td>NaN</td>\n",
       "      <td>Mozilla/5.0 (Windows; U; Windows NT 6.1; en-US...</td>\n",
       "      <td>en-us,en;q=0.5</td>\n",
       "      <td>US</td>\n",
       "      <td>Marietta</td>\n",
       "      <td>2rOUYc</td>\n",
       "      <td>GA</td>\n",
       "      <td>2rOUYc</td>\n",
       "      <td>1.255770e+09</td>\n",
       "      <td>1.usa.gov</td>\n",
       "      <td>NaN</td>\n",
       "      <td>bitly</td>\n",
       "      <td>[33.953201, -84.5177]</td>\n",
       "      <td>1.0</td>\n",
       "      <td>direct</td>\n",
       "      <td>1.331923e+09</td>\n",
       "      <td>America/New_York</td>\n",
       "      <td>http://toxtown.nlm.nih.gov/index.php</td>\n",
       "    </tr>\n",
       "    <tr>\n",
       "      <th>15</th>\n",
       "      <td>NaN</td>\n",
       "      <td>Mozilla/5.0 (Windows NT 6.1) AppleWebKit/535.1...</td>\n",
       "      <td>zh-TW,zh;q=0.8,en-US;q=0.6,en;q=0.4</td>\n",
       "      <td>HK</td>\n",
       "      <td>Central District</td>\n",
       "      <td>nQvgJp</td>\n",
       "      <td>00</td>\n",
       "      <td>rtrrth</td>\n",
       "      <td>1.317318e+09</td>\n",
       "      <td>j.mp</td>\n",
       "      <td>NaN</td>\n",
       "      <td>walkeryuen</td>\n",
       "      <td>[22.2833, 114.150002]</td>\n",
       "      <td>1.0</td>\n",
       "      <td>http://forum2.hkgolden.com/view.aspx?type=BW&amp;m...</td>\n",
       "      <td>1.331923e+09</td>\n",
       "      <td>Asia/Hong_Kong</td>\n",
       "      <td>http://www.ssd.noaa.gov/PS/TROP/TCFP/data/curr...</td>\n",
       "    </tr>\n",
       "    <tr>\n",
       "      <th>16</th>\n",
       "      <td>NaN</td>\n",
       "      <td>Mozilla/5.0 (Windows NT 6.1) AppleWebKit/535.1...</td>\n",
       "      <td>zh-TW,zh;q=0.8,en-US;q=0.6,en;q=0.4</td>\n",
       "      <td>HK</td>\n",
       "      <td>Central District</td>\n",
       "      <td>XdUNr</td>\n",
       "      <td>00</td>\n",
       "      <td>qWkgbq</td>\n",
       "      <td>1.317318e+09</td>\n",
       "      <td>j.mp</td>\n",
       "      <td>NaN</td>\n",
       "      <td>walkeryuen</td>\n",
       "      <td>[22.2833, 114.150002]</td>\n",
       "      <td>1.0</td>\n",
       "      <td>http://forum2.hkgolden.com/view.aspx?type=BW&amp;m...</td>\n",
       "      <td>1.331923e+09</td>\n",
       "      <td>Asia/Hong_Kong</td>\n",
       "      <td>http://www.usno.navy.mil/NOOC/nmfc-ph/RSS/jtwc...</td>\n",
       "    </tr>\n",
       "    <tr>\n",
       "      <th>17</th>\n",
       "      <td>NaN</td>\n",
       "      <td>Mozilla/5.0 (Macintosh; Intel Mac OS X 10.5; r...</td>\n",
       "      <td>en-us,en;q=0.5</td>\n",
       "      <td>US</td>\n",
       "      <td>Buckfield</td>\n",
       "      <td>zH1BFf</td>\n",
       "      <td>ME</td>\n",
       "      <td>x3jOIv</td>\n",
       "      <td>1.331840e+09</td>\n",
       "      <td>1.usa.gov</td>\n",
       "      <td>NaN</td>\n",
       "      <td>andyzieminski</td>\n",
       "      <td>[44.299702, -70.369797]</td>\n",
       "      <td>0.0</td>\n",
       "      <td>http://t.co/6Cx4ROLs</td>\n",
       "      <td>1.331923e+09</td>\n",
       "      <td>America/New_York</td>\n",
       "      <td>http://www.usda.gov/wps/portal/usda/usdahome?c...</td>\n",
       "    </tr>\n",
       "    <tr>\n",
       "      <th>18</th>\n",
       "      <td>NaN</td>\n",
       "      <td>GoogleMaps/RochesterNY</td>\n",
       "      <td>NaN</td>\n",
       "      <td>US</td>\n",
       "      <td>Provo</td>\n",
       "      <td>mwszkS</td>\n",
       "      <td>UT</td>\n",
       "      <td>mwszkS</td>\n",
       "      <td>1.308262e+09</td>\n",
       "      <td>1.usa.gov</td>\n",
       "      <td>NaN</td>\n",
       "      <td>bitly</td>\n",
       "      <td>[40.218102, -111.613297]</td>\n",
       "      <td>0.0</td>\n",
       "      <td>http://www.AwareMap.com/</td>\n",
       "      <td>1.331923e+09</td>\n",
       "      <td>America/Denver</td>\n",
       "      <td>http://www.monroecounty.gov/etc/911/rss.php</td>\n",
       "    </tr>\n",
       "    <tr>\n",
       "      <th>19</th>\n",
       "      <td>NaN</td>\n",
       "      <td>Mozilla/5.0 (Windows NT 6.1; WOW64) AppleWebKi...</td>\n",
       "      <td>it-IT,it;q=0.8,en-US;q=0.6,en;q=0.4</td>\n",
       "      <td>IT</td>\n",
       "      <td>Venice</td>\n",
       "      <td>wcndER</td>\n",
       "      <td>20</td>\n",
       "      <td>zkpJBR</td>\n",
       "      <td>1.331923e+09</td>\n",
       "      <td>1.usa.gov</td>\n",
       "      <td>NaN</td>\n",
       "      <td>bnjacobs</td>\n",
       "      <td>[45.438599, 12.3267]</td>\n",
       "      <td>0.0</td>\n",
       "      <td>http://www.facebook.com/</td>\n",
       "      <td>1.331923e+09</td>\n",
       "      <td>Europe/Rome</td>\n",
       "      <td>http://www.nasa.gov/mission_pages/nustar/main/...</td>\n",
       "    </tr>\n",
       "    <tr>\n",
       "      <th>20</th>\n",
       "      <td>NaN</td>\n",
       "      <td>Mozilla/5.0 (compatible; MSIE 9.0; Windows NT ...</td>\n",
       "      <td>es-ES</td>\n",
       "      <td>ES</td>\n",
       "      <td>Alcal</td>\n",
       "      <td>zQ95Hi</td>\n",
       "      <td>51</td>\n",
       "      <td>ytZYWR</td>\n",
       "      <td>1.331671e+09</td>\n",
       "      <td>bitly.com</td>\n",
       "      <td>NaN</td>\n",
       "      <td>jplnews</td>\n",
       "      <td>[37.516701, -5.9833]</td>\n",
       "      <td>0.0</td>\n",
       "      <td>http://www.facebook.com/</td>\n",
       "      <td>1.331923e+09</td>\n",
       "      <td>Africa/Ceuta</td>\n",
       "      <td>http://voyager.jpl.nasa.gov/imagesvideo/uranus...</td>\n",
       "    </tr>\n",
       "    <tr>\n",
       "      <th>21</th>\n",
       "      <td>NaN</td>\n",
       "      <td>Mozilla/5.0 (Macintosh; U; Intel Mac OS X 10.6...</td>\n",
       "      <td>en-us,en;q=0.5</td>\n",
       "      <td>US</td>\n",
       "      <td>Davidsonville</td>\n",
       "      <td>wcndER</td>\n",
       "      <td>MD</td>\n",
       "      <td>zkpJBR</td>\n",
       "      <td>1.331923e+09</td>\n",
       "      <td>1.usa.gov</td>\n",
       "      <td>NaN</td>\n",
       "      <td>bnjacobs</td>\n",
       "      <td>[38.939201, -76.635002]</td>\n",
       "      <td>0.0</td>\n",
       "      <td>http://www.facebook.com/</td>\n",
       "      <td>1.331923e+09</td>\n",
       "      <td>America/New_York</td>\n",
       "      <td>http://www.nasa.gov/mission_pages/nustar/main/...</td>\n",
       "    </tr>\n",
       "    <tr>\n",
       "      <th>22</th>\n",
       "      <td>NaN</td>\n",
       "      <td>Mozilla/4.0 (compatible; MSIE 8.0; Windows NT ...</td>\n",
       "      <td>en-us</td>\n",
       "      <td>US</td>\n",
       "      <td>Hockessin</td>\n",
       "      <td>y3ZImz</td>\n",
       "      <td>DE</td>\n",
       "      <td>y3ZImz</td>\n",
       "      <td>1.331064e+09</td>\n",
       "      <td>1.usa.gov</td>\n",
       "      <td>NaN</td>\n",
       "      <td>bitly</td>\n",
       "      <td>[39.785, -75.682297]</td>\n",
       "      <td>0.0</td>\n",
       "      <td>direct</td>\n",
       "      <td>1.331923e+09</td>\n",
       "      <td>America/New_York</td>\n",
       "      <td>http://portal.hud.gov/hudportal/documents/hudd...</td>\n",
       "    </tr>\n",
       "    <tr>\n",
       "      <th>23</th>\n",
       "      <td>NaN</td>\n",
       "      <td>Mozilla/5.0 (Macintosh; Intel Mac OS X 10_7_3)...</td>\n",
       "      <td>en-us</td>\n",
       "      <td>US</td>\n",
       "      <td>Lititz</td>\n",
       "      <td>wWiOiD</td>\n",
       "      <td>PA</td>\n",
       "      <td>wWiOiD</td>\n",
       "      <td>1.330218e+09</td>\n",
       "      <td>1.usa.gov</td>\n",
       "      <td>NaN</td>\n",
       "      <td>bitly</td>\n",
       "      <td>[40.174999, -76.3078]</td>\n",
       "      <td>0.0</td>\n",
       "      <td>http://www.facebook.com/l.php?u=http%3A%2F%2F1...</td>\n",
       "      <td>1.331923e+09</td>\n",
       "      <td>America/New_York</td>\n",
       "      <td>http://www.tricare.mil/mybenefit/ProfileFilter...</td>\n",
       "    </tr>\n",
       "    <tr>\n",
       "      <th>24</th>\n",
       "      <td>NaN</td>\n",
       "      <td>Mozilla/5.0 (Windows; U; Windows NT 5.1; es-ES...</td>\n",
       "      <td>es-es,es;q=0.8,en-us;q=0.5,en;q=0.3</td>\n",
       "      <td>ES</td>\n",
       "      <td>Bilbao</td>\n",
       "      <td>wcndER</td>\n",
       "      <td>59</td>\n",
       "      <td>zkpJBR</td>\n",
       "      <td>1.331923e+09</td>\n",
       "      <td>1.usa.gov</td>\n",
       "      <td>NaN</td>\n",
       "      <td>bnjacobs</td>\n",
       "      <td>[43.25, -2.9667]</td>\n",
       "      <td>0.0</td>\n",
       "      <td>http://www.facebook.com/</td>\n",
       "      <td>1.331923e+09</td>\n",
       "      <td>Europe/Madrid</td>\n",
       "      <td>http://www.nasa.gov/mission_pages/nustar/main/...</td>\n",
       "    </tr>\n",
       "    <tr>\n",
       "      <th>25</th>\n",
       "      <td>NaN</td>\n",
       "      <td>Mozilla/5.0 (Windows NT 6.1) AppleWebKit/535.1...</td>\n",
       "      <td>en-GB,en;q=0.8,en-US;q=0.6,en-AU;q=0.4</td>\n",
       "      <td>MY</td>\n",
       "      <td>Kuala Lumpur</td>\n",
       "      <td>wcndER</td>\n",
       "      <td>14</td>\n",
       "      <td>zkpJBR</td>\n",
       "      <td>1.331923e+09</td>\n",
       "      <td>1.usa.gov</td>\n",
       "      <td>NaN</td>\n",
       "      <td>bnjacobs</td>\n",
       "      <td>[3.1667, 101.699997]</td>\n",
       "      <td>0.0</td>\n",
       "      <td>http://www.facebook.com/</td>\n",
       "      <td>1.331923e+09</td>\n",
       "      <td>Asia/Kuala_Lumpur</td>\n",
       "      <td>http://www.nasa.gov/mission_pages/nustar/main/...</td>\n",
       "    </tr>\n",
       "    <tr>\n",
       "      <th>26</th>\n",
       "      <td>NaN</td>\n",
       "      <td>Mozilla/5.0 (Windows NT 6.1) AppleWebKit/535.1...</td>\n",
       "      <td>ro-RO,ro;q=0.8,en-US;q=0.6,en;q=0.4</td>\n",
       "      <td>CY</td>\n",
       "      <td>Nicosia</td>\n",
       "      <td>wcndER</td>\n",
       "      <td>04</td>\n",
       "      <td>zkpJBR</td>\n",
       "      <td>1.331923e+09</td>\n",
       "      <td>1.usa.gov</td>\n",
       "      <td>NaN</td>\n",
       "      <td>bnjacobs</td>\n",
       "      <td>[35.166698, 33.366699]</td>\n",
       "      <td>0.0</td>\n",
       "      <td>http://www.facebook.com/?ref=tn_tnmn</td>\n",
       "      <td>1.331923e+09</td>\n",
       "      <td>Asia/Nicosia</td>\n",
       "      <td>http://www.nasa.gov/mission_pages/nustar/main/...</td>\n",
       "    </tr>\n",
       "    <tr>\n",
       "      <th>27</th>\n",
       "      <td>NaN</td>\n",
       "      <td>Mozilla/5.0 (Macintosh; Intel Mac OS X 10_6_8)...</td>\n",
       "      <td>en-US,en;q=0.8</td>\n",
       "      <td>BR</td>\n",
       "      <td>SPaulo</td>\n",
       "      <td>zCaLwp</td>\n",
       "      <td>27</td>\n",
       "      <td>zUtuOu</td>\n",
       "      <td>1.331923e+09</td>\n",
       "      <td>1.usa.gov</td>\n",
       "      <td>NaN</td>\n",
       "      <td>alelex88</td>\n",
       "      <td>[-23.5333, -46.616699]</td>\n",
       "      <td>0.0</td>\n",
       "      <td>direct</td>\n",
       "      <td>1.331923e+09</td>\n",
       "      <td>America/Sao_Paulo</td>\n",
       "      <td>http://apod.nasa.gov/apod/ap120312.html</td>\n",
       "    </tr>\n",
       "    <tr>\n",
       "      <th>28</th>\n",
       "      <td>NaN</td>\n",
       "      <td>Mozilla/5.0 (iPad; CPU OS 5_0_1 like Mac OS X)...</td>\n",
       "      <td>en-us</td>\n",
       "      <td>None</td>\n",
       "      <td>NaN</td>\n",
       "      <td>vNJS4H</td>\n",
       "      <td>NaN</td>\n",
       "      <td>u0uD9q</td>\n",
       "      <td>1.319564e+09</td>\n",
       "      <td>1.usa.gov</td>\n",
       "      <td>NaN</td>\n",
       "      <td>o_4us71ccioa</td>\n",
       "      <td>NaN</td>\n",
       "      <td>0.0</td>\n",
       "      <td>direct</td>\n",
       "      <td>1.331923e+09</td>\n",
       "      <td></td>\n",
       "      <td>https://www.nysdot.gov/rexdesign/design/commun...</td>\n",
       "    </tr>\n",
       "    <tr>\n",
       "      <th>29</th>\n",
       "      <td>NaN</td>\n",
       "      <td>Mozilla/5.0 (iPad; U; CPU OS 3_2 like Mac OS X...</td>\n",
       "      <td>en-us</td>\n",
       "      <td>None</td>\n",
       "      <td>NaN</td>\n",
       "      <td>FPX0IM</td>\n",
       "      <td>NaN</td>\n",
       "      <td>FPX0IL</td>\n",
       "      <td>1.331923e+09</td>\n",
       "      <td>1.usa.gov</td>\n",
       "      <td>NaN</td>\n",
       "      <td>twittershare</td>\n",
       "      <td>NaN</td>\n",
       "      <td>1.0</td>\n",
       "      <td>http://t.co/5xlp0B34</td>\n",
       "      <td>1.331923e+09</td>\n",
       "      <td></td>\n",
       "      <td>http://www.ed.gov/news/media-advisories/us-dep...</td>\n",
       "    </tr>\n",
       "    <tr>\n",
       "      <th>...</th>\n",
       "      <td>...</td>\n",
       "      <td>...</td>\n",
       "      <td>...</td>\n",
       "      <td>...</td>\n",
       "      <td>...</td>\n",
       "      <td>...</td>\n",
       "      <td>...</td>\n",
       "      <td>...</td>\n",
       "      <td>...</td>\n",
       "      <td>...</td>\n",
       "      <td>...</td>\n",
       "      <td>...</td>\n",
       "      <td>...</td>\n",
       "      <td>...</td>\n",
       "      <td>...</td>\n",
       "      <td>...</td>\n",
       "      <td>...</td>\n",
       "      <td>...</td>\n",
       "    </tr>\n",
       "    <tr>\n",
       "      <th>3530</th>\n",
       "      <td>NaN</td>\n",
       "      <td>Mozilla/5.0 (Windows NT 6.0) AppleWebKit/535.1...</td>\n",
       "      <td>en-US,en;q=0.8</td>\n",
       "      <td>US</td>\n",
       "      <td>San Francisco</td>\n",
       "      <td>xVZg4P</td>\n",
       "      <td>CA</td>\n",
       "      <td>wqUkTo</td>\n",
       "      <td>1.331908e+09</td>\n",
       "      <td>go.nasa.gov</td>\n",
       "      <td>NaN</td>\n",
       "      <td>nasatwitter</td>\n",
       "      <td>[37.7645, -122.429398]</td>\n",
       "      <td>0.0</td>\n",
       "      <td>http://www.facebook.com/l.php?u=http%3A%2F%2Fg...</td>\n",
       "      <td>1.331927e+09</td>\n",
       "      <td>America/Los_Angeles</td>\n",
       "      <td>http://www.nasa.gov/multimedia/imagegallery/im...</td>\n",
       "    </tr>\n",
       "    <tr>\n",
       "      <th>3531</th>\n",
       "      <td>NaN</td>\n",
       "      <td>Mozilla/5.0 (Macintosh; U; Intel Mac OS X 10_6...</td>\n",
       "      <td>en-US</td>\n",
       "      <td>None</td>\n",
       "      <td>NaN</td>\n",
       "      <td>wcndER</td>\n",
       "      <td>NaN</td>\n",
       "      <td>zkpJBR</td>\n",
       "      <td>1.331923e+09</td>\n",
       "      <td>1.usa.gov</td>\n",
       "      <td>NaN</td>\n",
       "      <td>bnjacobs</td>\n",
       "      <td>NaN</td>\n",
       "      <td>0.0</td>\n",
       "      <td>direct</td>\n",
       "      <td>1.331927e+09</td>\n",
       "      <td></td>\n",
       "      <td>http://www.nasa.gov/mission_pages/nustar/main/...</td>\n",
       "    </tr>\n",
       "    <tr>\n",
       "      <th>3532</th>\n",
       "      <td>NaN</td>\n",
       "      <td>Mozilla/5.0 (Windows NT 6.1; WOW64; rv:10.0.2)...</td>\n",
       "      <td>en-us,en;q=0.5</td>\n",
       "      <td>US</td>\n",
       "      <td>Washington</td>\n",
       "      <td>Au3aUS</td>\n",
       "      <td>DC</td>\n",
       "      <td>A9ct6C</td>\n",
       "      <td>1.331926e+09</td>\n",
       "      <td>1.usa.gov</td>\n",
       "      <td>NaN</td>\n",
       "      <td>ncsha</td>\n",
       "      <td>[38.904202, -77.031998]</td>\n",
       "      <td>1.0</td>\n",
       "      <td>http://www.ncsha.org/</td>\n",
       "      <td>1.331927e+09</td>\n",
       "      <td>America/New_York</td>\n",
       "      <td>http://portal.hud.gov/hudportal/HUD?src=/press...</td>\n",
       "    </tr>\n",
       "    <tr>\n",
       "      <th>3533</th>\n",
       "      <td>NaN</td>\n",
       "      <td>Mozilla/5.0 (iPad; CPU OS 5_1 like Mac OS X) A...</td>\n",
       "      <td>en-us</td>\n",
       "      <td>US</td>\n",
       "      <td>Jacksonville</td>\n",
       "      <td>b2UtUJ</td>\n",
       "      <td>FL</td>\n",
       "      <td>ieCdgH</td>\n",
       "      <td>1.301393e+09</td>\n",
       "      <td>go.nasa.gov</td>\n",
       "      <td>NaN</td>\n",
       "      <td>nasatwitter</td>\n",
       "      <td>[30.279301, -81.585098]</td>\n",
       "      <td>1.0</td>\n",
       "      <td>direct</td>\n",
       "      <td>1.331927e+09</td>\n",
       "      <td>America/New_York</td>\n",
       "      <td>http://apod.nasa.gov/apod/</td>\n",
       "    </tr>\n",
       "    <tr>\n",
       "      <th>3534</th>\n",
       "      <td>NaN</td>\n",
       "      <td>Mozilla/5.0 (Macintosh; Intel Mac OS X 10_6_8)...</td>\n",
       "      <td>en-us</td>\n",
       "      <td>US</td>\n",
       "      <td>Frisco</td>\n",
       "      <td>vNJS4H</td>\n",
       "      <td>TX</td>\n",
       "      <td>u0uD9q</td>\n",
       "      <td>1.319564e+09</td>\n",
       "      <td>1.usa.gov</td>\n",
       "      <td>NaN</td>\n",
       "      <td>o_4us71ccioa</td>\n",
       "      <td>[33.149899, -96.855499]</td>\n",
       "      <td>1.0</td>\n",
       "      <td>direct</td>\n",
       "      <td>1.331927e+09</td>\n",
       "      <td>America/Chicago</td>\n",
       "      <td>https://www.nysdot.gov/rexdesign/design/commun...</td>\n",
       "    </tr>\n",
       "    <tr>\n",
       "      <th>3535</th>\n",
       "      <td>NaN</td>\n",
       "      <td>Mozilla/5.0 (Windows NT 5.1; rv:10.0.2) Gecko/...</td>\n",
       "      <td>en-us</td>\n",
       "      <td>US</td>\n",
       "      <td>Houston</td>\n",
       "      <td>zIgLx8</td>\n",
       "      <td>TX</td>\n",
       "      <td>yrPaLt</td>\n",
       "      <td>1.331903e+09</td>\n",
       "      <td>aash.to</td>\n",
       "      <td>NaN</td>\n",
       "      <td>aashto</td>\n",
       "      <td>[29.775499, -95.415199]</td>\n",
       "      <td>1.0</td>\n",
       "      <td>direct</td>\n",
       "      <td>1.331927e+09</td>\n",
       "      <td>America/Chicago</td>\n",
       "      <td>http://ntl.bts.gov/lib/44000/44300/44374/FHWA-...</td>\n",
       "    </tr>\n",
       "    <tr>\n",
       "      <th>3536</th>\n",
       "      <td>NaN</td>\n",
       "      <td>Mozilla/5.0 (BlackBerry; U; BlackBerry 9800; e...</td>\n",
       "      <td>en-US,en;q=0.5</td>\n",
       "      <td>None</td>\n",
       "      <td>NaN</td>\n",
       "      <td>xIcyim</td>\n",
       "      <td>NaN</td>\n",
       "      <td>yG1TTf</td>\n",
       "      <td>1.331728e+09</td>\n",
       "      <td>go.nasa.gov</td>\n",
       "      <td>NaN</td>\n",
       "      <td>nasatwitter</td>\n",
       "      <td>NaN</td>\n",
       "      <td>0.0</td>\n",
       "      <td>http://t.co/g1VKE8zS</td>\n",
       "      <td>1.331927e+09</td>\n",
       "      <td></td>\n",
       "      <td>http://www.nasa.gov/mission_pages/hurricanes/a...</td>\n",
       "    </tr>\n",
       "    <tr>\n",
       "      <th>3537</th>\n",
       "      <td>NaN</td>\n",
       "      <td>Mozilla/5.0 (Windows NT 6.1; WOW64; rv:10.0.2)...</td>\n",
       "      <td>es-es,es;q=0.8,en-us;q=0.5,en;q=0.3</td>\n",
       "      <td>HN</td>\n",
       "      <td>Tegucigalpa</td>\n",
       "      <td>zCaLwp</td>\n",
       "      <td>08</td>\n",
       "      <td>w63FZW</td>\n",
       "      <td>1.331547e+09</td>\n",
       "      <td>1.usa.gov</td>\n",
       "      <td>NaN</td>\n",
       "      <td>bufferapp</td>\n",
       "      <td>[14.1, -87.216698]</td>\n",
       "      <td>0.0</td>\n",
       "      <td>http://t.co/A8TJyibE</td>\n",
       "      <td>1.331927e+09</td>\n",
       "      <td>America/Tegucigalpa</td>\n",
       "      <td>http://apod.nasa.gov/apod/ap120312.html</td>\n",
       "    </tr>\n",
       "    <tr>\n",
       "      <th>3538</th>\n",
       "      <td>NaN</td>\n",
       "      <td>Mozilla/5.0 (iPhone; CPU iPhone OS 5_1 like Ma...</td>\n",
       "      <td>en-us</td>\n",
       "      <td>US</td>\n",
       "      <td>Los Angeles</td>\n",
       "      <td>qMac9k</td>\n",
       "      <td>CA</td>\n",
       "      <td>qds1Ge</td>\n",
       "      <td>1.310474e+09</td>\n",
       "      <td>1.usa.gov</td>\n",
       "      <td>NaN</td>\n",
       "      <td>healthypeople</td>\n",
       "      <td>[34.041599, -118.298798]</td>\n",
       "      <td>0.0</td>\n",
       "      <td>direct</td>\n",
       "      <td>1.331927e+09</td>\n",
       "      <td>America/Los_Angeles</td>\n",
       "      <td>http://healthypeople.gov/2020/connect/webinars...</td>\n",
       "    </tr>\n",
       "    <tr>\n",
       "      <th>3539</th>\n",
       "      <td>NaN</td>\n",
       "      <td>Mozilla/5.0 (compatible; Fedora Core 3) FC3 KDE</td>\n",
       "      <td>NaN</td>\n",
       "      <td>US</td>\n",
       "      <td>Bellevue</td>\n",
       "      <td>zu2M5o</td>\n",
       "      <td>WA</td>\n",
       "      <td>zDhdro</td>\n",
       "      <td>1.331586e+09</td>\n",
       "      <td>bit.ly</td>\n",
       "      <td>NaN</td>\n",
       "      <td>glimtwin</td>\n",
       "      <td>[47.615398, -122.210297]</td>\n",
       "      <td>0.0</td>\n",
       "      <td>direct</td>\n",
       "      <td>1.331927e+09</td>\n",
       "      <td>America/Los_Angeles</td>\n",
       "      <td>http://www.federalreserve.gov/newsevents/press...</td>\n",
       "    </tr>\n",
       "    <tr>\n",
       "      <th>3540</th>\n",
       "      <td>NaN</td>\n",
       "      <td>Mozilla/5.0 (Windows NT 6.1; WOW64) AppleWebKi...</td>\n",
       "      <td>en-US,en;q=0.8</td>\n",
       "      <td>US</td>\n",
       "      <td>Payson</td>\n",
       "      <td>wcndER</td>\n",
       "      <td>UT</td>\n",
       "      <td>zkpJBR</td>\n",
       "      <td>1.331923e+09</td>\n",
       "      <td>1.usa.gov</td>\n",
       "      <td>NaN</td>\n",
       "      <td>bnjacobs</td>\n",
       "      <td>[40.014198, -111.738899]</td>\n",
       "      <td>0.0</td>\n",
       "      <td>http://www.facebook.com/l.php?u=http%3A%2F%2F1...</td>\n",
       "      <td>1.331927e+09</td>\n",
       "      <td>America/Denver</td>\n",
       "      <td>http://www.nasa.gov/mission_pages/nustar/main/...</td>\n",
       "    </tr>\n",
       "    <tr>\n",
       "      <th>3541</th>\n",
       "      <td>NaN</td>\n",
       "      <td>Mozilla/5.0 (X11; U; OpenVMS AlphaServer_ES40;...</td>\n",
       "      <td>NaN</td>\n",
       "      <td>US</td>\n",
       "      <td>Bellevue</td>\n",
       "      <td>zu2M5o</td>\n",
       "      <td>WA</td>\n",
       "      <td>zDhdro</td>\n",
       "      <td>1.331586e+09</td>\n",
       "      <td>1.usa.gov</td>\n",
       "      <td>NaN</td>\n",
       "      <td>glimtwin</td>\n",
       "      <td>[47.615398, -122.210297]</td>\n",
       "      <td>0.0</td>\n",
       "      <td>direct</td>\n",
       "      <td>1.331927e+09</td>\n",
       "      <td>America/Los_Angeles</td>\n",
       "      <td>http://www.federalreserve.gov/newsevents/press...</td>\n",
       "    </tr>\n",
       "    <tr>\n",
       "      <th>3542</th>\n",
       "      <td>NaN</td>\n",
       "      <td>Mozilla/5.0 (compatible; MSIE 9.0; Windows NT ...</td>\n",
       "      <td>en-us</td>\n",
       "      <td>US</td>\n",
       "      <td>Pittsburg</td>\n",
       "      <td>y3reI1</td>\n",
       "      <td>CA</td>\n",
       "      <td>y3reI1</td>\n",
       "      <td>1.331926e+09</td>\n",
       "      <td>1.usa.gov</td>\n",
       "      <td>NaN</td>\n",
       "      <td>bitly</td>\n",
       "      <td>[38.0051, -121.838699]</td>\n",
       "      <td>0.0</td>\n",
       "      <td>http://www.facebook.com/l.php?u=http%3A%2F%2F1...</td>\n",
       "      <td>1.331927e+09</td>\n",
       "      <td>America/Los_Angeles</td>\n",
       "      <td>http://www.sba.gov/community/blogs/community-b...</td>\n",
       "    </tr>\n",
       "    <tr>\n",
       "      <th>3543</th>\n",
       "      <td>1.331927e+09</td>\n",
       "      <td>NaN</td>\n",
       "      <td>NaN</td>\n",
       "      <td>NaN</td>\n",
       "      <td>NaN</td>\n",
       "      <td>NaN</td>\n",
       "      <td>NaN</td>\n",
       "      <td>NaN</td>\n",
       "      <td>NaN</td>\n",
       "      <td>NaN</td>\n",
       "      <td>NaN</td>\n",
       "      <td>NaN</td>\n",
       "      <td>NaN</td>\n",
       "      <td>NaN</td>\n",
       "      <td>NaN</td>\n",
       "      <td>NaN</td>\n",
       "      <td>NaN</td>\n",
       "      <td>NaN</td>\n",
       "    </tr>\n",
       "    <tr>\n",
       "      <th>3544</th>\n",
       "      <td>NaN</td>\n",
       "      <td>Mozilla/5.0 (Windows NT 6.1; WOW64; rv:5.0.1) ...</td>\n",
       "      <td>en-us,en;q=0.5</td>\n",
       "      <td>US</td>\n",
       "      <td>Wentzville</td>\n",
       "      <td>vNJS4H</td>\n",
       "      <td>MO</td>\n",
       "      <td>u0uD9q</td>\n",
       "      <td>1.319564e+09</td>\n",
       "      <td>1.usa.gov</td>\n",
       "      <td>NaN</td>\n",
       "      <td>o_4us71ccioa</td>\n",
       "      <td>[38.790001, -90.854897]</td>\n",
       "      <td>1.0</td>\n",
       "      <td>direct</td>\n",
       "      <td>1.331927e+09</td>\n",
       "      <td>America/Chicago</td>\n",
       "      <td>https://www.nysdot.gov/rexdesign/design/commun...</td>\n",
       "    </tr>\n",
       "    <tr>\n",
       "      <th>3545</th>\n",
       "      <td>NaN</td>\n",
       "      <td>Mozilla/5.0 (Windows NT 6.1; WOW64; rv:10.0.2)...</td>\n",
       "      <td>en-us,en;q=0.5</td>\n",
       "      <td>US</td>\n",
       "      <td>Saint Charles</td>\n",
       "      <td>vNJS4H</td>\n",
       "      <td>IL</td>\n",
       "      <td>u0uD9q</td>\n",
       "      <td>1.319564e+09</td>\n",
       "      <td>1.usa.gov</td>\n",
       "      <td>NaN</td>\n",
       "      <td>o_4us71ccioa</td>\n",
       "      <td>[41.9352, -88.290901]</td>\n",
       "      <td>1.0</td>\n",
       "      <td>direct</td>\n",
       "      <td>1.331927e+09</td>\n",
       "      <td>America/Chicago</td>\n",
       "      <td>https://www.nysdot.gov/rexdesign/design/commun...</td>\n",
       "    </tr>\n",
       "    <tr>\n",
       "      <th>3546</th>\n",
       "      <td>NaN</td>\n",
       "      <td>Mozilla/5.0 (iPhone; CPU iPhone OS 5_1 like Ma...</td>\n",
       "      <td>en-us</td>\n",
       "      <td>US</td>\n",
       "      <td>Los Angeles</td>\n",
       "      <td>qMac9k</td>\n",
       "      <td>CA</td>\n",
       "      <td>qds1Ge</td>\n",
       "      <td>1.310474e+09</td>\n",
       "      <td>1.usa.gov</td>\n",
       "      <td>NaN</td>\n",
       "      <td>healthypeople</td>\n",
       "      <td>[34.041599, -118.298798]</td>\n",
       "      <td>1.0</td>\n",
       "      <td>direct</td>\n",
       "      <td>1.331927e+09</td>\n",
       "      <td>America/Los_Angeles</td>\n",
       "      <td>http://healthypeople.gov/2020/connect/webinars...</td>\n",
       "    </tr>\n",
       "    <tr>\n",
       "      <th>3547</th>\n",
       "      <td>NaN</td>\n",
       "      <td>Mozilla/5.0 (Macintosh; Intel Mac OS X 10_6_8)...</td>\n",
       "      <td>en-us</td>\n",
       "      <td>US</td>\n",
       "      <td>Silver Spring</td>\n",
       "      <td>y0jYkg</td>\n",
       "      <td>MD</td>\n",
       "      <td>y0jYkg</td>\n",
       "      <td>1.331852e+09</td>\n",
       "      <td>1.usa.gov</td>\n",
       "      <td>NaN</td>\n",
       "      <td>bitly</td>\n",
       "      <td>[39.052101, -77.014999]</td>\n",
       "      <td>1.0</td>\n",
       "      <td>direct</td>\n",
       "      <td>1.331927e+09</td>\n",
       "      <td>America/New_York</td>\n",
       "      <td>http://www.epa.gov/otaq/regs/fuels/additive/e1...</td>\n",
       "    </tr>\n",
       "    <tr>\n",
       "      <th>3548</th>\n",
       "      <td>NaN</td>\n",
       "      <td>Mozilla/5.0 (iPhone; CPU iPhone OS 5_1 like Ma...</td>\n",
       "      <td>en-us</td>\n",
       "      <td>US</td>\n",
       "      <td>Mcgehee</td>\n",
       "      <td>y5rMac</td>\n",
       "      <td>AR</td>\n",
       "      <td>xANY6O</td>\n",
       "      <td>1.331916e+09</td>\n",
       "      <td>1.usa.gov</td>\n",
       "      <td>NaN</td>\n",
       "      <td>twitterfeed</td>\n",
       "      <td>[33.628399, -91.356903]</td>\n",
       "      <td>1.0</td>\n",
       "      <td>https://twitter.com/fdarecalls/status/18069759...</td>\n",
       "      <td>1.331927e+09</td>\n",
       "      <td>America/Chicago</td>\n",
       "      <td>http://www.fda.gov/Safety/Recalls/ucm296326.htm</td>\n",
       "    </tr>\n",
       "    <tr>\n",
       "      <th>3549</th>\n",
       "      <td>NaN</td>\n",
       "      <td>Mozilla/5.0 (Windows NT 6.1; WOW64) AppleWebKi...</td>\n",
       "      <td>sv-SE,sv;q=0.8,en-US;q=0.6,en;q=0.4</td>\n",
       "      <td>SE</td>\n",
       "      <td>Sollefte</td>\n",
       "      <td>eH8wu</td>\n",
       "      <td>24</td>\n",
       "      <td>7dtjei</td>\n",
       "      <td>1.260316e+09</td>\n",
       "      <td>1.usa.gov</td>\n",
       "      <td>NaN</td>\n",
       "      <td>tweetdeckapi</td>\n",
       "      <td>[63.166698, 17.266701]</td>\n",
       "      <td>1.0</td>\n",
       "      <td>direct</td>\n",
       "      <td>1.331927e+09</td>\n",
       "      <td>Europe/Stockholm</td>\n",
       "      <td>http://www.nasa.gov/mission_pages/WISE/main/in...</td>\n",
       "    </tr>\n",
       "    <tr>\n",
       "      <th>3550</th>\n",
       "      <td>NaN</td>\n",
       "      <td>Mozilla/4.0 (compatible; MSIE 8.0; Windows NT ...</td>\n",
       "      <td>en-us</td>\n",
       "      <td>US</td>\n",
       "      <td>Conshohocken</td>\n",
       "      <td>A00b72</td>\n",
       "      <td>PA</td>\n",
       "      <td>yGSwzn</td>\n",
       "      <td>1.331918e+09</td>\n",
       "      <td>1.usa.gov</td>\n",
       "      <td>NaN</td>\n",
       "      <td>addthis</td>\n",
       "      <td>[40.0798, -75.2855]</td>\n",
       "      <td>0.0</td>\n",
       "      <td>http://www.linkedin.com/home?trk=hb_tab_home_top</td>\n",
       "      <td>1.331927e+09</td>\n",
       "      <td>America/New_York</td>\n",
       "      <td>http://www.nlm.nih.gov/medlineplus/news/fullst...</td>\n",
       "    </tr>\n",
       "    <tr>\n",
       "      <th>3551</th>\n",
       "      <td>NaN</td>\n",
       "      <td>Mozilla/5.0 (Windows NT 6.1; WOW64) AppleWebKi...</td>\n",
       "      <td>en-US,en;q=0.8</td>\n",
       "      <td>None</td>\n",
       "      <td>NaN</td>\n",
       "      <td>wcndER</td>\n",
       "      <td>NaN</td>\n",
       "      <td>zkpJBR</td>\n",
       "      <td>1.331923e+09</td>\n",
       "      <td>1.usa.gov</td>\n",
       "      <td>NaN</td>\n",
       "      <td>bnjacobs</td>\n",
       "      <td>NaN</td>\n",
       "      <td>0.0</td>\n",
       "      <td>http://plus.url.google.com/url?sa=z&amp;n=13319268...</td>\n",
       "      <td>1.331927e+09</td>\n",
       "      <td></td>\n",
       "      <td>http://www.nasa.gov/mission_pages/nustar/main/...</td>\n",
       "    </tr>\n",
       "    <tr>\n",
       "      <th>3552</th>\n",
       "      <td>NaN</td>\n",
       "      <td>Mozilla/5.0 (Windows; U; Windows NT 6.1; en-US...</td>\n",
       "      <td>NaN</td>\n",
       "      <td>US</td>\n",
       "      <td>Decatur</td>\n",
       "      <td>rqgJuE</td>\n",
       "      <td>AL</td>\n",
       "      <td>xcz8vt</td>\n",
       "      <td>1.331227e+09</td>\n",
       "      <td>1.usa.gov</td>\n",
       "      <td>NaN</td>\n",
       "      <td>bootsnall</td>\n",
       "      <td>[34.572701, -86.940598]</td>\n",
       "      <td>0.0</td>\n",
       "      <td>direct</td>\n",
       "      <td>1.331927e+09</td>\n",
       "      <td>America/Chicago</td>\n",
       "      <td>http://travel.state.gov/passport/passport_5535...</td>\n",
       "    </tr>\n",
       "    <tr>\n",
       "      <th>3553</th>\n",
       "      <td>NaN</td>\n",
       "      <td>Mozilla/4.0 (compatible; MSIE 7.0; Windows NT ...</td>\n",
       "      <td>en-us</td>\n",
       "      <td>US</td>\n",
       "      <td>Shrewsbury</td>\n",
       "      <td>9b6kNl</td>\n",
       "      <td>MA</td>\n",
       "      <td>9b6kNl</td>\n",
       "      <td>1.273672e+09</td>\n",
       "      <td>bit.ly</td>\n",
       "      <td>NaN</td>\n",
       "      <td>bitly</td>\n",
       "      <td>[42.286499, -71.714699]</td>\n",
       "      <td>0.0</td>\n",
       "      <td>http://www.shrewsbury-ma.gov/selco/</td>\n",
       "      <td>1.331927e+09</td>\n",
       "      <td>America/New_York</td>\n",
       "      <td>http://www.shrewsbury-ma.gov/egov/gallery/1341...</td>\n",
       "    </tr>\n",
       "    <tr>\n",
       "      <th>3554</th>\n",
       "      <td>NaN</td>\n",
       "      <td>Mozilla/4.0 (compatible; MSIE 7.0; Windows NT ...</td>\n",
       "      <td>en-us</td>\n",
       "      <td>US</td>\n",
       "      <td>Shrewsbury</td>\n",
       "      <td>axNK8c</td>\n",
       "      <td>MA</td>\n",
       "      <td>axNK8c</td>\n",
       "      <td>1.273673e+09</td>\n",
       "      <td>bit.ly</td>\n",
       "      <td>NaN</td>\n",
       "      <td>bitly</td>\n",
       "      <td>[42.286499, -71.714699]</td>\n",
       "      <td>0.0</td>\n",
       "      <td>http://www.shrewsbury-ma.gov/selco/</td>\n",
       "      <td>1.331927e+09</td>\n",
       "      <td>America/New_York</td>\n",
       "      <td>http://www.shrewsbury-ma.gov/egov/gallery/1341...</td>\n",
       "    </tr>\n",
       "    <tr>\n",
       "      <th>3555</th>\n",
       "      <td>NaN</td>\n",
       "      <td>Mozilla/4.0 (compatible; MSIE 9.0; Windows NT ...</td>\n",
       "      <td>en</td>\n",
       "      <td>US</td>\n",
       "      <td>Paramus</td>\n",
       "      <td>e5SvKE</td>\n",
       "      <td>NJ</td>\n",
       "      <td>fqPSr9</td>\n",
       "      <td>1.301298e+09</td>\n",
       "      <td>1.usa.gov</td>\n",
       "      <td>NaN</td>\n",
       "      <td>tweetdeckapi</td>\n",
       "      <td>[40.9445, -74.07]</td>\n",
       "      <td>1.0</td>\n",
       "      <td>direct</td>\n",
       "      <td>1.331927e+09</td>\n",
       "      <td>America/New_York</td>\n",
       "      <td>http://www.fda.gov/AdvisoryCommittees/Committe...</td>\n",
       "    </tr>\n",
       "    <tr>\n",
       "      <th>3556</th>\n",
       "      <td>NaN</td>\n",
       "      <td>Mozilla/5.0 (Windows NT 5.1) AppleWebKit/535.1...</td>\n",
       "      <td>en-US,en;q=0.8</td>\n",
       "      <td>US</td>\n",
       "      <td>Oklahoma City</td>\n",
       "      <td>jQLtP4</td>\n",
       "      <td>OK</td>\n",
       "      <td>jQLtP4</td>\n",
       "      <td>1.307530e+09</td>\n",
       "      <td>1.usa.gov</td>\n",
       "      <td>NaN</td>\n",
       "      <td>bitly</td>\n",
       "      <td>[35.4715, -97.518997]</td>\n",
       "      <td>0.0</td>\n",
       "      <td>http://www.facebook.com/l.php?u=http%3A%2F%2F1...</td>\n",
       "      <td>1.331927e+09</td>\n",
       "      <td>America/Chicago</td>\n",
       "      <td>http://www.okc.gov/PublicNotificationSystem/Fo...</td>\n",
       "    </tr>\n",
       "    <tr>\n",
       "      <th>3557</th>\n",
       "      <td>NaN</td>\n",
       "      <td>GoogleMaps/RochesterNY</td>\n",
       "      <td>NaN</td>\n",
       "      <td>US</td>\n",
       "      <td>Provo</td>\n",
       "      <td>mwszkS</td>\n",
       "      <td>UT</td>\n",
       "      <td>mwszkS</td>\n",
       "      <td>1.308262e+09</td>\n",
       "      <td>j.mp</td>\n",
       "      <td>NaN</td>\n",
       "      <td>bitly</td>\n",
       "      <td>[40.218102, -111.613297]</td>\n",
       "      <td>0.0</td>\n",
       "      <td>http://www.AwareMap.com/</td>\n",
       "      <td>1.331927e+09</td>\n",
       "      <td>America/Denver</td>\n",
       "      <td>http://www.monroecounty.gov/etc/911/rss.php</td>\n",
       "    </tr>\n",
       "    <tr>\n",
       "      <th>3558</th>\n",
       "      <td>NaN</td>\n",
       "      <td>GoogleProducer</td>\n",
       "      <td>NaN</td>\n",
       "      <td>US</td>\n",
       "      <td>Mountain View</td>\n",
       "      <td>zjtI4X</td>\n",
       "      <td>CA</td>\n",
       "      <td>zjtI4X</td>\n",
       "      <td>1.327529e+09</td>\n",
       "      <td>1.usa.gov</td>\n",
       "      <td>NaN</td>\n",
       "      <td>bitly</td>\n",
       "      <td>[37.419201, -122.057404]</td>\n",
       "      <td>0.0</td>\n",
       "      <td>direct</td>\n",
       "      <td>1.331927e+09</td>\n",
       "      <td>America/Los_Angeles</td>\n",
       "      <td>http://www.ahrq.gov/qual/qitoolkit/</td>\n",
       "    </tr>\n",
       "    <tr>\n",
       "      <th>3559</th>\n",
       "      <td>NaN</td>\n",
       "      <td>Mozilla/4.0 (compatible; MSIE 8.0; Windows NT ...</td>\n",
       "      <td>en-US</td>\n",
       "      <td>US</td>\n",
       "      <td>Mc Lean</td>\n",
       "      <td>qxKrTK</td>\n",
       "      <td>VA</td>\n",
       "      <td>qxKrTK</td>\n",
       "      <td>1.312898e+09</td>\n",
       "      <td>1.usa.gov</td>\n",
       "      <td>NaN</td>\n",
       "      <td>bitly</td>\n",
       "      <td>[38.935799, -77.162102]</td>\n",
       "      <td>0.0</td>\n",
       "      <td>http://t.co/OEEEvwjU</td>\n",
       "      <td>1.331927e+09</td>\n",
       "      <td>America/New_York</td>\n",
       "      <td>http://herndon-va.gov/Content/public_safety/Pu...</td>\n",
       "    </tr>\n",
       "  </tbody>\n",
       "</table>\n",
       "<p>3560 rows × 18 columns</p>\n",
       "</div>"
      ],
      "text/plain": [
       "       _heartbeat_                                                  a  \\\n",
       "0              NaN  Mozilla/5.0 (Windows NT 6.1; WOW64) AppleWebKi...   \n",
       "1              NaN                             GoogleMaps/RochesterNY   \n",
       "2              NaN  Mozilla/4.0 (compatible; MSIE 8.0; Windows NT ...   \n",
       "3              NaN  Mozilla/5.0 (Macintosh; Intel Mac OS X 10_6_8)...   \n",
       "4              NaN  Mozilla/5.0 (Windows NT 6.1; WOW64) AppleWebKi...   \n",
       "5              NaN  Mozilla/5.0 (Windows NT 6.1; WOW64) AppleWebKi...   \n",
       "6              NaN  Mozilla/5.0 (Windows NT 5.1) AppleWebKit/535.1...   \n",
       "7              NaN  Mozilla/5.0 (Windows NT 6.1; rv:2.0.1) Gecko/2...   \n",
       "8              NaN  Opera/9.80 (X11; Linux zbov; U; en) Presto/2.1...   \n",
       "9              NaN  Mozilla/5.0 (Windows NT 6.1; WOW64) AppleWebKi...   \n",
       "10             NaN  Mozilla/5.0 (Windows NT 6.1; WOW64; rv:10.0.2)...   \n",
       "11             NaN  Mozilla/5.0 (Macintosh; U; Intel Mac OS X 10.4...   \n",
       "12             NaN  Mozilla/5.0 (Windows NT 6.1; WOW64; rv:10.0.2)...   \n",
       "13    1.331923e+09                                                NaN   \n",
       "14             NaN  Mozilla/5.0 (Windows; U; Windows NT 6.1; en-US...   \n",
       "15             NaN  Mozilla/5.0 (Windows NT 6.1) AppleWebKit/535.1...   \n",
       "16             NaN  Mozilla/5.0 (Windows NT 6.1) AppleWebKit/535.1...   \n",
       "17             NaN  Mozilla/5.0 (Macintosh; Intel Mac OS X 10.5; r...   \n",
       "18             NaN                             GoogleMaps/RochesterNY   \n",
       "19             NaN  Mozilla/5.0 (Windows NT 6.1; WOW64) AppleWebKi...   \n",
       "20             NaN  Mozilla/5.0 (compatible; MSIE 9.0; Windows NT ...   \n",
       "21             NaN  Mozilla/5.0 (Macintosh; U; Intel Mac OS X 10.6...   \n",
       "22             NaN  Mozilla/4.0 (compatible; MSIE 8.0; Windows NT ...   \n",
       "23             NaN  Mozilla/5.0 (Macintosh; Intel Mac OS X 10_7_3)...   \n",
       "24             NaN  Mozilla/5.0 (Windows; U; Windows NT 5.1; es-ES...   \n",
       "25             NaN  Mozilla/5.0 (Windows NT 6.1) AppleWebKit/535.1...   \n",
       "26             NaN  Mozilla/5.0 (Windows NT 6.1) AppleWebKit/535.1...   \n",
       "27             NaN  Mozilla/5.0 (Macintosh; Intel Mac OS X 10_6_8)...   \n",
       "28             NaN  Mozilla/5.0 (iPad; CPU OS 5_0_1 like Mac OS X)...   \n",
       "29             NaN  Mozilla/5.0 (iPad; U; CPU OS 3_2 like Mac OS X...   \n",
       "...            ...                                                ...   \n",
       "3530           NaN  Mozilla/5.0 (Windows NT 6.0) AppleWebKit/535.1...   \n",
       "3531           NaN  Mozilla/5.0 (Macintosh; U; Intel Mac OS X 10_6...   \n",
       "3532           NaN  Mozilla/5.0 (Windows NT 6.1; WOW64; rv:10.0.2)...   \n",
       "3533           NaN  Mozilla/5.0 (iPad; CPU OS 5_1 like Mac OS X) A...   \n",
       "3534           NaN  Mozilla/5.0 (Macintosh; Intel Mac OS X 10_6_8)...   \n",
       "3535           NaN  Mozilla/5.0 (Windows NT 5.1; rv:10.0.2) Gecko/...   \n",
       "3536           NaN  Mozilla/5.0 (BlackBerry; U; BlackBerry 9800; e...   \n",
       "3537           NaN  Mozilla/5.0 (Windows NT 6.1; WOW64; rv:10.0.2)...   \n",
       "3538           NaN  Mozilla/5.0 (iPhone; CPU iPhone OS 5_1 like Ma...   \n",
       "3539           NaN    Mozilla/5.0 (compatible; Fedora Core 3) FC3 KDE   \n",
       "3540           NaN  Mozilla/5.0 (Windows NT 6.1; WOW64) AppleWebKi...   \n",
       "3541           NaN  Mozilla/5.0 (X11; U; OpenVMS AlphaServer_ES40;...   \n",
       "3542           NaN  Mozilla/5.0 (compatible; MSIE 9.0; Windows NT ...   \n",
       "3543  1.331927e+09                                                NaN   \n",
       "3544           NaN  Mozilla/5.0 (Windows NT 6.1; WOW64; rv:5.0.1) ...   \n",
       "3545           NaN  Mozilla/5.0 (Windows NT 6.1; WOW64; rv:10.0.2)...   \n",
       "3546           NaN  Mozilla/5.0 (iPhone; CPU iPhone OS 5_1 like Ma...   \n",
       "3547           NaN  Mozilla/5.0 (Macintosh; Intel Mac OS X 10_6_8)...   \n",
       "3548           NaN  Mozilla/5.0 (iPhone; CPU iPhone OS 5_1 like Ma...   \n",
       "3549           NaN  Mozilla/5.0 (Windows NT 6.1; WOW64) AppleWebKi...   \n",
       "3550           NaN  Mozilla/4.0 (compatible; MSIE 8.0; Windows NT ...   \n",
       "3551           NaN  Mozilla/5.0 (Windows NT 6.1; WOW64) AppleWebKi...   \n",
       "3552           NaN  Mozilla/5.0 (Windows; U; Windows NT 6.1; en-US...   \n",
       "3553           NaN  Mozilla/4.0 (compatible; MSIE 7.0; Windows NT ...   \n",
       "3554           NaN  Mozilla/4.0 (compatible; MSIE 7.0; Windows NT ...   \n",
       "3555           NaN  Mozilla/4.0 (compatible; MSIE 9.0; Windows NT ...   \n",
       "3556           NaN  Mozilla/5.0 (Windows NT 5.1) AppleWebKit/535.1...   \n",
       "3557           NaN                             GoogleMaps/RochesterNY   \n",
       "3558           NaN                                     GoogleProducer   \n",
       "3559           NaN  Mozilla/4.0 (compatible; MSIE 8.0; Windows NT ...   \n",
       "\n",
       "                                          al     c                cy       g  \\\n",
       "0                             en-US,en;q=0.8    US           Danvers  A6qOVH   \n",
       "1                                        NaN    US             Provo  mwszkS   \n",
       "2                                      en-US    US        Washington  xxr3Qb   \n",
       "3                                      pt-br    BR              Braz  zCaLwp   \n",
       "4                             en-US,en;q=0.8    US        Shrewsbury  9b6kNl   \n",
       "5                             en-US,en;q=0.8    US        Shrewsbury  axNK8c   \n",
       "6        pl-PL,pl;q=0.8,en-US;q=0.6,en;q=0.4    PL             Luban  wcndER   \n",
       "7                    bg,en-us;q=0.7,en;q=0.3  None               NaN  wcndER   \n",
       "8                                  en-US, en  None               NaN  wcndER   \n",
       "9        pt-BR,pt;q=0.8,en-US;q=0.6,en;q=0.4  None               NaN  zCaLwp   \n",
       "10                            en-us,en;q=0.5    US           Seattle  vNJS4H   \n",
       "11                            en-us,en;q=0.5    US        Washington  wG7OIH   \n",
       "12                            en-us,en;q=0.5    US        Alexandria  vNJS4H   \n",
       "13                                       NaN   NaN               NaN     NaN   \n",
       "14                            en-us,en;q=0.5    US          Marietta  2rOUYc   \n",
       "15       zh-TW,zh;q=0.8,en-US;q=0.6,en;q=0.4    HK  Central District  nQvgJp   \n",
       "16       zh-TW,zh;q=0.8,en-US;q=0.6,en;q=0.4    HK  Central District   XdUNr   \n",
       "17                            en-us,en;q=0.5    US         Buckfield  zH1BFf   \n",
       "18                                       NaN    US             Provo  mwszkS   \n",
       "19       it-IT,it;q=0.8,en-US;q=0.6,en;q=0.4    IT            Venice  wcndER   \n",
       "20                                     es-ES    ES             Alcal  zQ95Hi   \n",
       "21                            en-us,en;q=0.5    US     Davidsonville  wcndER   \n",
       "22                                     en-us    US         Hockessin  y3ZImz   \n",
       "23                                     en-us    US            Lititz  wWiOiD   \n",
       "24       es-es,es;q=0.8,en-us;q=0.5,en;q=0.3    ES            Bilbao  wcndER   \n",
       "25    en-GB,en;q=0.8,en-US;q=0.6,en-AU;q=0.4    MY      Kuala Lumpur  wcndER   \n",
       "26       ro-RO,ro;q=0.8,en-US;q=0.6,en;q=0.4    CY           Nicosia  wcndER   \n",
       "27                            en-US,en;q=0.8    BR            SPaulo  zCaLwp   \n",
       "28                                     en-us  None               NaN  vNJS4H   \n",
       "29                                     en-us  None               NaN  FPX0IM   \n",
       "...                                      ...   ...               ...     ...   \n",
       "3530                          en-US,en;q=0.8    US     San Francisco  xVZg4P   \n",
       "3531                                   en-US  None               NaN  wcndER   \n",
       "3532                          en-us,en;q=0.5    US        Washington  Au3aUS   \n",
       "3533                                   en-us    US      Jacksonville  b2UtUJ   \n",
       "3534                                   en-us    US            Frisco  vNJS4H   \n",
       "3535                                   en-us    US           Houston  zIgLx8   \n",
       "3536                          en-US,en;q=0.5  None               NaN  xIcyim   \n",
       "3537     es-es,es;q=0.8,en-us;q=0.5,en;q=0.3    HN       Tegucigalpa  zCaLwp   \n",
       "3538                                   en-us    US       Los Angeles  qMac9k   \n",
       "3539                                     NaN    US          Bellevue  zu2M5o   \n",
       "3540                          en-US,en;q=0.8    US            Payson  wcndER   \n",
       "3541                                     NaN    US          Bellevue  zu2M5o   \n",
       "3542                                   en-us    US         Pittsburg  y3reI1   \n",
       "3543                                     NaN   NaN               NaN     NaN   \n",
       "3544                          en-us,en;q=0.5    US        Wentzville  vNJS4H   \n",
       "3545                          en-us,en;q=0.5    US     Saint Charles  vNJS4H   \n",
       "3546                                   en-us    US       Los Angeles  qMac9k   \n",
       "3547                                   en-us    US     Silver Spring  y0jYkg   \n",
       "3548                                   en-us    US           Mcgehee  y5rMac   \n",
       "3549     sv-SE,sv;q=0.8,en-US;q=0.6,en;q=0.4    SE          Sollefte   eH8wu   \n",
       "3550                                   en-us    US      Conshohocken  A00b72   \n",
       "3551                          en-US,en;q=0.8  None               NaN  wcndER   \n",
       "3552                                     NaN    US           Decatur  rqgJuE   \n",
       "3553                                   en-us    US        Shrewsbury  9b6kNl   \n",
       "3554                                   en-us    US        Shrewsbury  axNK8c   \n",
       "3555                                      en    US           Paramus  e5SvKE   \n",
       "3556                          en-US,en;q=0.8    US     Oklahoma City  jQLtP4   \n",
       "3557                                     NaN    US             Provo  mwszkS   \n",
       "3558                                     NaN    US     Mountain View  zjtI4X   \n",
       "3559                                   en-US    US           Mc Lean  qxKrTK   \n",
       "\n",
       "       gr       h            hc           hh   kw              l  \\\n",
       "0      MA  wfLQtf  1.331823e+09    1.usa.gov  NaN        orofrog   \n",
       "1      UT  mwszkS  1.308262e+09         j.mp  NaN          bitly   \n",
       "2      DC  xxr3Qb  1.331920e+09    1.usa.gov  NaN          bitly   \n",
       "3      27  zUtuOu  1.331923e+09    1.usa.gov  NaN       alelex88   \n",
       "4      MA  9b6kNl  1.273672e+09       bit.ly  NaN          bitly   \n",
       "5      MA  axNK8c  1.273673e+09       bit.ly  NaN          bitly   \n",
       "6      77  zkpJBR  1.331923e+09    1.usa.gov  NaN       bnjacobs   \n",
       "7     NaN  zkpJBR  1.331923e+09    1.usa.gov  NaN       bnjacobs   \n",
       "8     NaN  zkpJBR  1.331923e+09    1.usa.gov  NaN       bnjacobs   \n",
       "9     NaN  zUtuOu  1.331923e+09    1.usa.gov  NaN       alelex88   \n",
       "10     WA  u0uD9q  1.319564e+09    1.usa.gov  NaN   o_4us71ccioa   \n",
       "11     DC  A0nRz4  1.331816e+09    1.usa.gov  NaN    darrellissa   \n",
       "12     VA  u0uD9q  1.319564e+09    1.usa.gov  NaN   o_4us71ccioa   \n",
       "13    NaN     NaN           NaN          NaN  NaN            NaN   \n",
       "14     GA  2rOUYc  1.255770e+09    1.usa.gov  NaN          bitly   \n",
       "15     00  rtrrth  1.317318e+09         j.mp  NaN     walkeryuen   \n",
       "16     00  qWkgbq  1.317318e+09         j.mp  NaN     walkeryuen   \n",
       "17     ME  x3jOIv  1.331840e+09    1.usa.gov  NaN  andyzieminski   \n",
       "18     UT  mwszkS  1.308262e+09    1.usa.gov  NaN          bitly   \n",
       "19     20  zkpJBR  1.331923e+09    1.usa.gov  NaN       bnjacobs   \n",
       "20     51  ytZYWR  1.331671e+09    bitly.com  NaN        jplnews   \n",
       "21     MD  zkpJBR  1.331923e+09    1.usa.gov  NaN       bnjacobs   \n",
       "22     DE  y3ZImz  1.331064e+09    1.usa.gov  NaN          bitly   \n",
       "23     PA  wWiOiD  1.330218e+09    1.usa.gov  NaN          bitly   \n",
       "24     59  zkpJBR  1.331923e+09    1.usa.gov  NaN       bnjacobs   \n",
       "25     14  zkpJBR  1.331923e+09    1.usa.gov  NaN       bnjacobs   \n",
       "26     04  zkpJBR  1.331923e+09    1.usa.gov  NaN       bnjacobs   \n",
       "27     27  zUtuOu  1.331923e+09    1.usa.gov  NaN       alelex88   \n",
       "28    NaN  u0uD9q  1.319564e+09    1.usa.gov  NaN   o_4us71ccioa   \n",
       "29    NaN  FPX0IL  1.331923e+09    1.usa.gov  NaN   twittershare   \n",
       "...   ...     ...           ...          ...  ...            ...   \n",
       "3530   CA  wqUkTo  1.331908e+09  go.nasa.gov  NaN    nasatwitter   \n",
       "3531  NaN  zkpJBR  1.331923e+09    1.usa.gov  NaN       bnjacobs   \n",
       "3532   DC  A9ct6C  1.331926e+09    1.usa.gov  NaN          ncsha   \n",
       "3533   FL  ieCdgH  1.301393e+09  go.nasa.gov  NaN    nasatwitter   \n",
       "3534   TX  u0uD9q  1.319564e+09    1.usa.gov  NaN   o_4us71ccioa   \n",
       "3535   TX  yrPaLt  1.331903e+09      aash.to  NaN         aashto   \n",
       "3536  NaN  yG1TTf  1.331728e+09  go.nasa.gov  NaN    nasatwitter   \n",
       "3537   08  w63FZW  1.331547e+09    1.usa.gov  NaN      bufferapp   \n",
       "3538   CA  qds1Ge  1.310474e+09    1.usa.gov  NaN  healthypeople   \n",
       "3539   WA  zDhdro  1.331586e+09       bit.ly  NaN       glimtwin   \n",
       "3540   UT  zkpJBR  1.331923e+09    1.usa.gov  NaN       bnjacobs   \n",
       "3541   WA  zDhdro  1.331586e+09    1.usa.gov  NaN       glimtwin   \n",
       "3542   CA  y3reI1  1.331926e+09    1.usa.gov  NaN          bitly   \n",
       "3543  NaN     NaN           NaN          NaN  NaN            NaN   \n",
       "3544   MO  u0uD9q  1.319564e+09    1.usa.gov  NaN   o_4us71ccioa   \n",
       "3545   IL  u0uD9q  1.319564e+09    1.usa.gov  NaN   o_4us71ccioa   \n",
       "3546   CA  qds1Ge  1.310474e+09    1.usa.gov  NaN  healthypeople   \n",
       "3547   MD  y0jYkg  1.331852e+09    1.usa.gov  NaN          bitly   \n",
       "3548   AR  xANY6O  1.331916e+09    1.usa.gov  NaN    twitterfeed   \n",
       "3549   24  7dtjei  1.260316e+09    1.usa.gov  NaN   tweetdeckapi   \n",
       "3550   PA  yGSwzn  1.331918e+09    1.usa.gov  NaN        addthis   \n",
       "3551  NaN  zkpJBR  1.331923e+09    1.usa.gov  NaN       bnjacobs   \n",
       "3552   AL  xcz8vt  1.331227e+09    1.usa.gov  NaN      bootsnall   \n",
       "3553   MA  9b6kNl  1.273672e+09       bit.ly  NaN          bitly   \n",
       "3554   MA  axNK8c  1.273673e+09       bit.ly  NaN          bitly   \n",
       "3555   NJ  fqPSr9  1.301298e+09    1.usa.gov  NaN   tweetdeckapi   \n",
       "3556   OK  jQLtP4  1.307530e+09    1.usa.gov  NaN          bitly   \n",
       "3557   UT  mwszkS  1.308262e+09         j.mp  NaN          bitly   \n",
       "3558   CA  zjtI4X  1.327529e+09    1.usa.gov  NaN          bitly   \n",
       "3559   VA  qxKrTK  1.312898e+09    1.usa.gov  NaN          bitly   \n",
       "\n",
       "                            ll   nk  \\\n",
       "0      [42.576698, -70.954903]  1.0   \n",
       "1     [40.218102, -111.613297]  0.0   \n",
       "2        [38.9007, -77.043098]  1.0   \n",
       "3     [-23.549999, -46.616699]  0.0   \n",
       "4      [42.286499, -71.714699]  0.0   \n",
       "5      [42.286499, -71.714699]  0.0   \n",
       "6         [51.116699, 15.2833]  0.0   \n",
       "7                          NaN  0.0   \n",
       "8                          NaN  0.0   \n",
       "9                          NaN  0.0   \n",
       "10      [47.5951, -122.332603]  1.0   \n",
       "11     [38.937599, -77.092796]  0.0   \n",
       "12     [38.790901, -77.094704]  1.0   \n",
       "13                         NaN  NaN   \n",
       "14       [33.953201, -84.5177]  1.0   \n",
       "15       [22.2833, 114.150002]  1.0   \n",
       "16       [22.2833, 114.150002]  1.0   \n",
       "17     [44.299702, -70.369797]  0.0   \n",
       "18    [40.218102, -111.613297]  0.0   \n",
       "19        [45.438599, 12.3267]  0.0   \n",
       "20        [37.516701, -5.9833]  0.0   \n",
       "21     [38.939201, -76.635002]  0.0   \n",
       "22        [39.785, -75.682297]  0.0   \n",
       "23       [40.174999, -76.3078]  0.0   \n",
       "24            [43.25, -2.9667]  0.0   \n",
       "25        [3.1667, 101.699997]  0.0   \n",
       "26      [35.166698, 33.366699]  0.0   \n",
       "27      [-23.5333, -46.616699]  0.0   \n",
       "28                         NaN  0.0   \n",
       "29                         NaN  1.0   \n",
       "...                        ...  ...   \n",
       "3530    [37.7645, -122.429398]  0.0   \n",
       "3531                       NaN  0.0   \n",
       "3532   [38.904202, -77.031998]  1.0   \n",
       "3533   [30.279301, -81.585098]  1.0   \n",
       "3534   [33.149899, -96.855499]  1.0   \n",
       "3535   [29.775499, -95.415199]  1.0   \n",
       "3536                       NaN  0.0   \n",
       "3537        [14.1, -87.216698]  0.0   \n",
       "3538  [34.041599, -118.298798]  0.0   \n",
       "3539  [47.615398, -122.210297]  0.0   \n",
       "3540  [40.014198, -111.738899]  0.0   \n",
       "3541  [47.615398, -122.210297]  0.0   \n",
       "3542    [38.0051, -121.838699]  0.0   \n",
       "3543                       NaN  NaN   \n",
       "3544   [38.790001, -90.854897]  1.0   \n",
       "3545     [41.9352, -88.290901]  1.0   \n",
       "3546  [34.041599, -118.298798]  1.0   \n",
       "3547   [39.052101, -77.014999]  1.0   \n",
       "3548   [33.628399, -91.356903]  1.0   \n",
       "3549    [63.166698, 17.266701]  1.0   \n",
       "3550       [40.0798, -75.2855]  0.0   \n",
       "3551                       NaN  0.0   \n",
       "3552   [34.572701, -86.940598]  0.0   \n",
       "3553   [42.286499, -71.714699]  0.0   \n",
       "3554   [42.286499, -71.714699]  0.0   \n",
       "3555         [40.9445, -74.07]  1.0   \n",
       "3556     [35.4715, -97.518997]  0.0   \n",
       "3557  [40.218102, -111.613297]  0.0   \n",
       "3558  [37.419201, -122.057404]  0.0   \n",
       "3559   [38.935799, -77.162102]  0.0   \n",
       "\n",
       "                                                      r             t  \\\n",
       "0     http://www.facebook.com/l/7AQEFzjSi/1.usa.gov/...  1.331923e+09   \n",
       "1                              http://www.AwareMap.com/  1.331923e+09   \n",
       "2                                  http://t.co/03elZC4Q  1.331923e+09   \n",
       "3                                                direct  1.331923e+09   \n",
       "4                   http://www.shrewsbury-ma.gov/selco/  1.331923e+09   \n",
       "5                   http://www.shrewsbury-ma.gov/selco/  1.331923e+09   \n",
       "6     http://plus.url.google.com/url?sa=z&n=13319232...  1.331923e+09   \n",
       "7                              http://www.facebook.com/  1.331923e+09   \n",
       "8     http://www.facebook.com/l.php?u=http%3A%2F%2F1...  1.331923e+09   \n",
       "9                                  http://t.co/o1Pd0WeV  1.331923e+09   \n",
       "10                                               direct  1.331923e+09   \n",
       "11                                 http://t.co/ND7SoPyo  1.331923e+09   \n",
       "12                                               direct  1.331923e+09   \n",
       "13                                                  NaN           NaN   \n",
       "14                                               direct  1.331923e+09   \n",
       "15    http://forum2.hkgolden.com/view.aspx?type=BW&m...  1.331923e+09   \n",
       "16    http://forum2.hkgolden.com/view.aspx?type=BW&m...  1.331923e+09   \n",
       "17                                 http://t.co/6Cx4ROLs  1.331923e+09   \n",
       "18                             http://www.AwareMap.com/  1.331923e+09   \n",
       "19                             http://www.facebook.com/  1.331923e+09   \n",
       "20                             http://www.facebook.com/  1.331923e+09   \n",
       "21                             http://www.facebook.com/  1.331923e+09   \n",
       "22                                               direct  1.331923e+09   \n",
       "23    http://www.facebook.com/l.php?u=http%3A%2F%2F1...  1.331923e+09   \n",
       "24                             http://www.facebook.com/  1.331923e+09   \n",
       "25                             http://www.facebook.com/  1.331923e+09   \n",
       "26                 http://www.facebook.com/?ref=tn_tnmn  1.331923e+09   \n",
       "27                                               direct  1.331923e+09   \n",
       "28                                               direct  1.331923e+09   \n",
       "29                                 http://t.co/5xlp0B34  1.331923e+09   \n",
       "...                                                 ...           ...   \n",
       "3530  http://www.facebook.com/l.php?u=http%3A%2F%2Fg...  1.331927e+09   \n",
       "3531                                             direct  1.331927e+09   \n",
       "3532                              http://www.ncsha.org/  1.331927e+09   \n",
       "3533                                             direct  1.331927e+09   \n",
       "3534                                             direct  1.331927e+09   \n",
       "3535                                             direct  1.331927e+09   \n",
       "3536                               http://t.co/g1VKE8zS  1.331927e+09   \n",
       "3537                               http://t.co/A8TJyibE  1.331927e+09   \n",
       "3538                                             direct  1.331927e+09   \n",
       "3539                                             direct  1.331927e+09   \n",
       "3540  http://www.facebook.com/l.php?u=http%3A%2F%2F1...  1.331927e+09   \n",
       "3541                                             direct  1.331927e+09   \n",
       "3542  http://www.facebook.com/l.php?u=http%3A%2F%2F1...  1.331927e+09   \n",
       "3543                                                NaN           NaN   \n",
       "3544                                             direct  1.331927e+09   \n",
       "3545                                             direct  1.331927e+09   \n",
       "3546                                             direct  1.331927e+09   \n",
       "3547                                             direct  1.331927e+09   \n",
       "3548  https://twitter.com/fdarecalls/status/18069759...  1.331927e+09   \n",
       "3549                                             direct  1.331927e+09   \n",
       "3550   http://www.linkedin.com/home?trk=hb_tab_home_top  1.331927e+09   \n",
       "3551  http://plus.url.google.com/url?sa=z&n=13319268...  1.331927e+09   \n",
       "3552                                             direct  1.331927e+09   \n",
       "3553                http://www.shrewsbury-ma.gov/selco/  1.331927e+09   \n",
       "3554                http://www.shrewsbury-ma.gov/selco/  1.331927e+09   \n",
       "3555                                             direct  1.331927e+09   \n",
       "3556  http://www.facebook.com/l.php?u=http%3A%2F%2F1...  1.331927e+09   \n",
       "3557                           http://www.AwareMap.com/  1.331927e+09   \n",
       "3558                                             direct  1.331927e+09   \n",
       "3559                               http://t.co/OEEEvwjU  1.331927e+09   \n",
       "\n",
       "                       tz                                                  u  \n",
       "0        America/New_York        http://www.ncbi.nlm.nih.gov/pubmed/22415991  \n",
       "1          America/Denver        http://www.monroecounty.gov/etc/911/rss.php  \n",
       "2        America/New_York  http://boxer.senate.gov/en/press/releases/0316...  \n",
       "3       America/Sao_Paulo            http://apod.nasa.gov/apod/ap120312.html  \n",
       "4        America/New_York  http://www.shrewsbury-ma.gov/egov/gallery/1341...  \n",
       "5        America/New_York  http://www.shrewsbury-ma.gov/egov/gallery/1341...  \n",
       "6           Europe/Warsaw  http://www.nasa.gov/mission_pages/nustar/main/...  \n",
       "7                          http://www.nasa.gov/mission_pages/nustar/main/...  \n",
       "8                          http://www.nasa.gov/mission_pages/nustar/main/...  \n",
       "9                                    http://apod.nasa.gov/apod/ap120312.html  \n",
       "10    America/Los_Angeles  https://www.nysdot.gov/rexdesign/design/commun...  \n",
       "11       America/New_York  http://oversight.house.gov/wp-content/uploads/...  \n",
       "12       America/New_York  https://www.nysdot.gov/rexdesign/design/commun...  \n",
       "13                    NaN                                                NaN  \n",
       "14       America/New_York               http://toxtown.nlm.nih.gov/index.php  \n",
       "15         Asia/Hong_Kong  http://www.ssd.noaa.gov/PS/TROP/TCFP/data/curr...  \n",
       "16         Asia/Hong_Kong  http://www.usno.navy.mil/NOOC/nmfc-ph/RSS/jtwc...  \n",
       "17       America/New_York  http://www.usda.gov/wps/portal/usda/usdahome?c...  \n",
       "18         America/Denver        http://www.monroecounty.gov/etc/911/rss.php  \n",
       "19            Europe/Rome  http://www.nasa.gov/mission_pages/nustar/main/...  \n",
       "20           Africa/Ceuta  http://voyager.jpl.nasa.gov/imagesvideo/uranus...  \n",
       "21       America/New_York  http://www.nasa.gov/mission_pages/nustar/main/...  \n",
       "22       America/New_York  http://portal.hud.gov/hudportal/documents/hudd...  \n",
       "23       America/New_York  http://www.tricare.mil/mybenefit/ProfileFilter...  \n",
       "24          Europe/Madrid  http://www.nasa.gov/mission_pages/nustar/main/...  \n",
       "25      Asia/Kuala_Lumpur  http://www.nasa.gov/mission_pages/nustar/main/...  \n",
       "26           Asia/Nicosia  http://www.nasa.gov/mission_pages/nustar/main/...  \n",
       "27      America/Sao_Paulo            http://apod.nasa.gov/apod/ap120312.html  \n",
       "28                         https://www.nysdot.gov/rexdesign/design/commun...  \n",
       "29                         http://www.ed.gov/news/media-advisories/us-dep...  \n",
       "...                   ...                                                ...  \n",
       "3530  America/Los_Angeles  http://www.nasa.gov/multimedia/imagegallery/im...  \n",
       "3531                       http://www.nasa.gov/mission_pages/nustar/main/...  \n",
       "3532     America/New_York  http://portal.hud.gov/hudportal/HUD?src=/press...  \n",
       "3533     America/New_York                         http://apod.nasa.gov/apod/  \n",
       "3534      America/Chicago  https://www.nysdot.gov/rexdesign/design/commun...  \n",
       "3535      America/Chicago  http://ntl.bts.gov/lib/44000/44300/44374/FHWA-...  \n",
       "3536                       http://www.nasa.gov/mission_pages/hurricanes/a...  \n",
       "3537  America/Tegucigalpa            http://apod.nasa.gov/apod/ap120312.html  \n",
       "3538  America/Los_Angeles  http://healthypeople.gov/2020/connect/webinars...  \n",
       "3539  America/Los_Angeles  http://www.federalreserve.gov/newsevents/press...  \n",
       "3540       America/Denver  http://www.nasa.gov/mission_pages/nustar/main/...  \n",
       "3541  America/Los_Angeles  http://www.federalreserve.gov/newsevents/press...  \n",
       "3542  America/Los_Angeles  http://www.sba.gov/community/blogs/community-b...  \n",
       "3543                  NaN                                                NaN  \n",
       "3544      America/Chicago  https://www.nysdot.gov/rexdesign/design/commun...  \n",
       "3545      America/Chicago  https://www.nysdot.gov/rexdesign/design/commun...  \n",
       "3546  America/Los_Angeles  http://healthypeople.gov/2020/connect/webinars...  \n",
       "3547     America/New_York  http://www.epa.gov/otaq/regs/fuels/additive/e1...  \n",
       "3548      America/Chicago    http://www.fda.gov/Safety/Recalls/ucm296326.htm  \n",
       "3549     Europe/Stockholm  http://www.nasa.gov/mission_pages/WISE/main/in...  \n",
       "3550     America/New_York  http://www.nlm.nih.gov/medlineplus/news/fullst...  \n",
       "3551                       http://www.nasa.gov/mission_pages/nustar/main/...  \n",
       "3552      America/Chicago  http://travel.state.gov/passport/passport_5535...  \n",
       "3553     America/New_York  http://www.shrewsbury-ma.gov/egov/gallery/1341...  \n",
       "3554     America/New_York  http://www.shrewsbury-ma.gov/egov/gallery/1341...  \n",
       "3555     America/New_York  http://www.fda.gov/AdvisoryCommittees/Committe...  \n",
       "3556      America/Chicago  http://www.okc.gov/PublicNotificationSystem/Fo...  \n",
       "3557       America/Denver        http://www.monroecounty.gov/etc/911/rss.php  \n",
       "3558  America/Los_Angeles                http://www.ahrq.gov/qual/qitoolkit/  \n",
       "3559     America/New_York  http://herndon-va.gov/Content/public_safety/Pu...  \n",
       "\n",
       "[3560 rows x 18 columns]"
      ]
     },
     "execution_count": 21,
     "metadata": {},
     "output_type": "execute_result"
    }
   ],
   "source": [
    "frame"
   ]
  },
  {
   "cell_type": "code",
   "execution_count": 22,
   "metadata": {},
   "outputs": [
    {
     "data": {
      "text/plain": [
       "0     America/New_York\n",
       "1       America/Denver\n",
       "2     America/New_York\n",
       "3    America/Sao_Paulo\n",
       "4     America/New_York\n",
       "5     America/New_York\n",
       "6        Europe/Warsaw\n",
       "7                     \n",
       "8                     \n",
       "9                     \n",
       "Name: tz, dtype: object"
      ]
     },
     "execution_count": 22,
     "metadata": {},
     "output_type": "execute_result"
    }
   ],
   "source": [
    "frame['tz'][:10]"
   ]
  },
  {
   "cell_type": "code",
   "execution_count": 23,
   "metadata": {
    "collapsed": true
   },
   "outputs": [],
   "source": [
    "tz_counts = frame['tz'].value_counts()"
   ]
  },
  {
   "cell_type": "code",
   "execution_count": 24,
   "metadata": {},
   "outputs": [
    {
     "data": {
      "text/plain": [
       "America/New_York       1251\n",
       "                        521\n",
       "America/Chicago         400\n",
       "America/Los_Angeles     382\n",
       "America/Denver          191\n",
       "Europe/London            74\n",
       "Asia/Tokyo               37\n",
       "Pacific/Honolulu         36\n",
       "Europe/Madrid            35\n",
       "America/Sao_Paulo        33\n",
       "Name: tz, dtype: int64"
      ]
     },
     "execution_count": 24,
     "metadata": {},
     "output_type": "execute_result"
    }
   ],
   "source": [
    "tz_counts[:10]"
   ]
  },
  {
   "cell_type": "code",
   "execution_count": 25,
   "metadata": {
    "collapsed": true
   },
   "outputs": [],
   "source": [
    "clean_tz = frame['tz'].fillna('Missing')"
   ]
  },
  {
   "cell_type": "code",
   "execution_count": 26,
   "metadata": {
    "collapsed": true
   },
   "outputs": [],
   "source": [
    "clean_tz[clean_tz == ''] = 'Unknown'"
   ]
  },
  {
   "cell_type": "code",
   "execution_count": 27,
   "metadata": {
    "collapsed": true
   },
   "outputs": [],
   "source": [
    "tz_counts = clean_tz.value_counts()"
   ]
  },
  {
   "cell_type": "code",
   "execution_count": 28,
   "metadata": {},
   "outputs": [
    {
     "data": {
      "text/plain": [
       "America/New_York       1251\n",
       "Unknown                 521\n",
       "America/Chicago         400\n",
       "America/Los_Angeles     382\n",
       "America/Denver          191\n",
       "Missing                 120\n",
       "Europe/London            74\n",
       "Asia/Tokyo               37\n",
       "Pacific/Honolulu         36\n",
       "Europe/Madrid            35\n",
       "Name: tz, dtype: int64"
      ]
     },
     "execution_count": 28,
     "metadata": {},
     "output_type": "execute_result"
    }
   ],
   "source": [
    "tz_counts[:10]"
   ]
  },
  {
   "cell_type": "code",
   "execution_count": 30,
   "metadata": {},
   "outputs": [
    {
     "name": "stdout",
     "output_type": "stream",
     "text": [
      "Populating the interactive namespace from numpy and matplotlib\n"
     ]
    }
   ],
   "source": [
    "%pylab inline"
   ]
  },
  {
   "cell_type": "code",
   "execution_count": 31,
   "metadata": {},
   "outputs": [
    {
     "data": {
      "text/plain": [
       "<matplotlib.axes._subplots.AxesSubplot at 0x7f38680fb358>"
      ]
     },
     "execution_count": 31,
     "metadata": {},
     "output_type": "execute_result"
    },
    {
     "data": {
      "image/png": "[encoded data removed]",
      "text/plain": [
       "<matplotlib.figure.Figure at 0x7f38680e7908>"
      ]
     },
     "metadata": {},
     "output_type": "display_data"
    }
   ],
   "source": [
    "tz_counts[:10].plot(kind='barh', rot=0)"
   ]
  },
  {
   "cell_type": "code",
   "execution_count": 36,
   "metadata": {
    "collapsed": true
   },
   "outputs": [],
   "source": [
    "results = Series([x.split()[0] for x in frame.a.dropna()])"
   ]
  },
  {
   "cell_type": "code",
   "execution_count": 37,
   "metadata": {},
   "outputs": [
    {
     "data": {
      "text/plain": [
       "0               Mozilla/5.0\n",
       "1    GoogleMaps/RochesterNY\n",
       "2               Mozilla/4.0\n",
       "3               Mozilla/5.0\n",
       "4               Mozilla/5.0\n",
       "dtype: object"
      ]
     },
     "execution_count": 37,
     "metadata": {},
     "output_type": "execute_result"
    }
   ],
   "source": [
    "results[:5]"
   ]
  },
  {
   "cell_type": "code",
   "execution_count": 38,
   "metadata": {},
   "outputs": [
    {
     "data": {
      "text/plain": [
       "Mozilla/5.0                 2594\n",
       "Mozilla/4.0                  601\n",
       "GoogleMaps/RochesterNY       121\n",
       "Opera/9.80                    34\n",
       "TEST_INTERNET_AGENT           24\n",
       "GoogleProducer                21\n",
       "Mozilla/6.0                    5\n",
       "BlackBerry8520/5.0.0.681       4\n",
       "dtype: int64"
      ]
     },
     "execution_count": 38,
     "metadata": {},
     "output_type": "execute_result"
    }
   ],
   "source": [
    "results.value_counts()[:8]"
   ]
  },
  {
   "cell_type": "code",
   "execution_count": 39,
   "metadata": {
    "collapsed": true
   },
   "outputs": [],
   "source": [
    "cframe = frame[frame.a.notnull()]"
   ]
  },
  {
   "cell_type": "code",
   "execution_count": 42,
   "metadata": {
    "collapsed": true
   },
   "outputs": [],
   "source": [
    "import numpy as np\n",
    "operating_system = np.where(cframe['a'].str.contains('Windows'), 'Windows', 'Not Windows')"
   ]
  },
  {
   "cell_type": "code",
   "execution_count": 43,
   "metadata": {},
   "outputs": [
    {
     "data": {
      "text/plain": [
       "array(['Windows', 'Not Windows', 'Windows', 'Not Windows', 'Windows'], \n",
       "      dtype='<U11')"
      ]
     },
     "execution_count": 43,
     "metadata": {},
     "output_type": "execute_result"
    }
   ],
   "source": [
    "operating_system[:5]"
   ]
  },
  {
   "cell_type": "code",
   "execution_count": 44,
   "metadata": {
    "collapsed": true
   },
   "outputs": [],
   "source": [
    "by_tz_os = cframe.groupby(['tz', operating_system])"
   ]
  },
  {
   "cell_type": "code",
   "execution_count": 47,
   "metadata": {},
   "outputs": [
    {
     "data": {
      "text/plain": [
       "<pandas.core.groupby.DataFrameGroupBy object at 0x7f3867ff1cc0>"
      ]
     },
     "execution_count": 47,
     "metadata": {},
     "output_type": "execute_result"
    }
   ],
   "source": [
    "by_tz_os"
   ]
  },
  {
   "cell_type": "code",
   "execution_count": 48,
   "metadata": {},
   "outputs": [
    {
     "data": {
      "text/plain": [
       "tz                                         \n",
       "                                Not Windows    245\n",
       "                                Windows        276\n",
       "Africa/Cairo                    Windows          3\n",
       "Africa/Casablanca               Windows          1\n",
       "Africa/Ceuta                    Windows          2\n",
       "Africa/Johannesburg             Windows          1\n",
       "Africa/Lusaka                   Windows          1\n",
       "America/Anchorage               Not Windows      4\n",
       "                                Windows          1\n",
       "America/Argentina/Buenos_Aires  Not Windows      1\n",
       "America/Argentina/Cordoba       Windows          1\n",
       "America/Argentina/Mendoza       Windows          1\n",
       "America/Bogota                  Not Windows      1\n",
       "                                Windows          2\n",
       "America/Caracas                 Windows          1\n",
       "America/Chicago                 Not Windows    115\n",
       "                                Windows        285\n",
       "America/Chihuahua               Not Windows      1\n",
       "                                Windows          1\n",
       "America/Costa_Rica              Windows          1\n",
       "America/Denver                  Not Windows    132\n",
       "                                Windows         59\n",
       "America/Edmonton                Not Windows      2\n",
       "                                Windows          4\n",
       "America/Guayaquil               Not Windows      2\n",
       "America/Halifax                 Not Windows      1\n",
       "                                Windows          3\n",
       "America/Indianapolis            Not Windows      8\n",
       "                                Windows         12\n",
       "America/La_Paz                  Windows          1\n",
       "                                              ... \n",
       "Europe/Madrid                   Not Windows     16\n",
       "                                Windows         19\n",
       "Europe/Malta                    Windows          2\n",
       "Europe/Moscow                   Not Windows      1\n",
       "                                Windows          9\n",
       "Europe/Oslo                     Not Windows      2\n",
       "                                Windows          8\n",
       "Europe/Paris                    Not Windows      4\n",
       "                                Windows         10\n",
       "Europe/Prague                   Not Windows      3\n",
       "                                Windows          7\n",
       "Europe/Riga                     Not Windows      1\n",
       "                                Windows          1\n",
       "Europe/Rome                     Not Windows      8\n",
       "                                Windows         19\n",
       "Europe/Skopje                   Windows          1\n",
       "Europe/Sofia                    Windows          1\n",
       "Europe/Stockholm                Not Windows      2\n",
       "                                Windows         12\n",
       "Europe/Uzhgorod                 Windows          1\n",
       "Europe/Vienna                   Not Windows      3\n",
       "                                Windows          3\n",
       "Europe/Vilnius                  Windows          2\n",
       "Europe/Volgograd                Windows          1\n",
       "Europe/Warsaw                   Not Windows      1\n",
       "                                Windows         15\n",
       "Europe/Zurich                   Not Windows      4\n",
       "Pacific/Auckland                Not Windows      3\n",
       "                                Windows          8\n",
       "Pacific/Honolulu                Windows         36\n",
       "dtype: int64"
      ]
     },
     "execution_count": 48,
     "metadata": {},
     "output_type": "execute_result"
    }
   ],
   "source": [
    "by_tz_os.size()"
   ]
  },
  {
   "cell_type": "code",
   "execution_count": 49,
   "metadata": {},
   "outputs": [
    {
     "data": {
      "text/html": [
       "<div>\n",
       "<table border=\"1\" class=\"dataframe\">\n",
       "  <thead>\n",
       "    <tr style=\"text-align: right;\">\n",
       "      <th></th>\n",
       "      <th>Not Windows</th>\n",
       "      <th>Windows</th>\n",
       "    </tr>\n",
       "    <tr>\n",
       "      <th>tz</th>\n",
       "      <th></th>\n",
       "      <th></th>\n",
       "    </tr>\n",
       "  </thead>\n",
       "  <tbody>\n",
       "    <tr>\n",
       "      <th></th>\n",
       "      <td>245.0</td>\n",
       "      <td>276.0</td>\n",
       "    </tr>\n",
       "    <tr>\n",
       "      <th>Africa/Cairo</th>\n",
       "      <td>NaN</td>\n",
       "      <td>3.0</td>\n",
       "    </tr>\n",
       "    <tr>\n",
       "      <th>Africa/Casablanca</th>\n",
       "      <td>NaN</td>\n",
       "      <td>1.0</td>\n",
       "    </tr>\n",
       "    <tr>\n",
       "      <th>Africa/Ceuta</th>\n",
       "      <td>NaN</td>\n",
       "      <td>2.0</td>\n",
       "    </tr>\n",
       "    <tr>\n",
       "      <th>Africa/Johannesburg</th>\n",
       "      <td>NaN</td>\n",
       "      <td>1.0</td>\n",
       "    </tr>\n",
       "    <tr>\n",
       "      <th>Africa/Lusaka</th>\n",
       "      <td>NaN</td>\n",
       "      <td>1.0</td>\n",
       "    </tr>\n",
       "    <tr>\n",
       "      <th>America/Anchorage</th>\n",
       "      <td>4.0</td>\n",
       "      <td>1.0</td>\n",
       "    </tr>\n",
       "    <tr>\n",
       "      <th>America/Argentina/Buenos_Aires</th>\n",
       "      <td>1.0</td>\n",
       "      <td>NaN</td>\n",
       "    </tr>\n",
       "    <tr>\n",
       "      <th>America/Argentina/Cordoba</th>\n",
       "      <td>NaN</td>\n",
       "      <td>1.0</td>\n",
       "    </tr>\n",
       "    <tr>\n",
       "      <th>America/Argentina/Mendoza</th>\n",
       "      <td>NaN</td>\n",
       "      <td>1.0</td>\n",
       "    </tr>\n",
       "    <tr>\n",
       "      <th>America/Bogota</th>\n",
       "      <td>1.0</td>\n",
       "      <td>2.0</td>\n",
       "    </tr>\n",
       "    <tr>\n",
       "      <th>America/Caracas</th>\n",
       "      <td>NaN</td>\n",
       "      <td>1.0</td>\n",
       "    </tr>\n",
       "    <tr>\n",
       "      <th>America/Chicago</th>\n",
       "      <td>115.0</td>\n",
       "      <td>285.0</td>\n",
       "    </tr>\n",
       "    <tr>\n",
       "      <th>America/Chihuahua</th>\n",
       "      <td>1.0</td>\n",
       "      <td>1.0</td>\n",
       "    </tr>\n",
       "    <tr>\n",
       "      <th>America/Costa_Rica</th>\n",
       "      <td>NaN</td>\n",
       "      <td>1.0</td>\n",
       "    </tr>\n",
       "    <tr>\n",
       "      <th>America/Denver</th>\n",
       "      <td>132.0</td>\n",
       "      <td>59.0</td>\n",
       "    </tr>\n",
       "    <tr>\n",
       "      <th>America/Edmonton</th>\n",
       "      <td>2.0</td>\n",
       "      <td>4.0</td>\n",
       "    </tr>\n",
       "    <tr>\n",
       "      <th>America/Guayaquil</th>\n",
       "      <td>2.0</td>\n",
       "      <td>NaN</td>\n",
       "    </tr>\n",
       "    <tr>\n",
       "      <th>America/Halifax</th>\n",
       "      <td>1.0</td>\n",
       "      <td>3.0</td>\n",
       "    </tr>\n",
       "    <tr>\n",
       "      <th>America/Indianapolis</th>\n",
       "      <td>8.0</td>\n",
       "      <td>12.0</td>\n",
       "    </tr>\n",
       "    <tr>\n",
       "      <th>America/La_Paz</th>\n",
       "      <td>NaN</td>\n",
       "      <td>1.0</td>\n",
       "    </tr>\n",
       "    <tr>\n",
       "      <th>America/Lima</th>\n",
       "      <td>NaN</td>\n",
       "      <td>1.0</td>\n",
       "    </tr>\n",
       "    <tr>\n",
       "      <th>America/Los_Angeles</th>\n",
       "      <td>130.0</td>\n",
       "      <td>252.0</td>\n",
       "    </tr>\n",
       "    <tr>\n",
       "      <th>America/Managua</th>\n",
       "      <td>NaN</td>\n",
       "      <td>3.0</td>\n",
       "    </tr>\n",
       "    <tr>\n",
       "      <th>America/Mazatlan</th>\n",
       "      <td>1.0</td>\n",
       "      <td>NaN</td>\n",
       "    </tr>\n",
       "    <tr>\n",
       "      <th>America/Mexico_City</th>\n",
       "      <td>7.0</td>\n",
       "      <td>8.0</td>\n",
       "    </tr>\n",
       "    <tr>\n",
       "      <th>America/Monterrey</th>\n",
       "      <td>1.0</td>\n",
       "      <td>NaN</td>\n",
       "    </tr>\n",
       "    <tr>\n",
       "      <th>America/Montevideo</th>\n",
       "      <td>NaN</td>\n",
       "      <td>1.0</td>\n",
       "    </tr>\n",
       "    <tr>\n",
       "      <th>America/Montreal</th>\n",
       "      <td>3.0</td>\n",
       "      <td>6.0</td>\n",
       "    </tr>\n",
       "    <tr>\n",
       "      <th>America/New_York</th>\n",
       "      <td>339.0</td>\n",
       "      <td>912.0</td>\n",
       "    </tr>\n",
       "    <tr>\n",
       "      <th>...</th>\n",
       "      <td>...</td>\n",
       "      <td>...</td>\n",
       "    </tr>\n",
       "    <tr>\n",
       "      <th>Europe/Berlin</th>\n",
       "      <td>9.0</td>\n",
       "      <td>19.0</td>\n",
       "    </tr>\n",
       "    <tr>\n",
       "      <th>Europe/Bratislava</th>\n",
       "      <td>1.0</td>\n",
       "      <td>2.0</td>\n",
       "    </tr>\n",
       "    <tr>\n",
       "      <th>Europe/Brussels</th>\n",
       "      <td>1.0</td>\n",
       "      <td>3.0</td>\n",
       "    </tr>\n",
       "    <tr>\n",
       "      <th>Europe/Bucharest</th>\n",
       "      <td>1.0</td>\n",
       "      <td>3.0</td>\n",
       "    </tr>\n",
       "    <tr>\n",
       "      <th>Europe/Budapest</th>\n",
       "      <td>NaN</td>\n",
       "      <td>5.0</td>\n",
       "    </tr>\n",
       "    <tr>\n",
       "      <th>Europe/Copenhagen</th>\n",
       "      <td>2.0</td>\n",
       "      <td>3.0</td>\n",
       "    </tr>\n",
       "    <tr>\n",
       "      <th>Europe/Dublin</th>\n",
       "      <td>1.0</td>\n",
       "      <td>2.0</td>\n",
       "    </tr>\n",
       "    <tr>\n",
       "      <th>Europe/Helsinki</th>\n",
       "      <td>2.0</td>\n",
       "      <td>8.0</td>\n",
       "    </tr>\n",
       "    <tr>\n",
       "      <th>Europe/Lisbon</th>\n",
       "      <td>1.0</td>\n",
       "      <td>7.0</td>\n",
       "    </tr>\n",
       "    <tr>\n",
       "      <th>Europe/Ljubljana</th>\n",
       "      <td>NaN</td>\n",
       "      <td>1.0</td>\n",
       "    </tr>\n",
       "    <tr>\n",
       "      <th>Europe/London</th>\n",
       "      <td>43.0</td>\n",
       "      <td>31.0</td>\n",
       "    </tr>\n",
       "    <tr>\n",
       "      <th>Europe/Madrid</th>\n",
       "      <td>16.0</td>\n",
       "      <td>19.0</td>\n",
       "    </tr>\n",
       "    <tr>\n",
       "      <th>Europe/Malta</th>\n",
       "      <td>NaN</td>\n",
       "      <td>2.0</td>\n",
       "    </tr>\n",
       "    <tr>\n",
       "      <th>Europe/Moscow</th>\n",
       "      <td>1.0</td>\n",
       "      <td>9.0</td>\n",
       "    </tr>\n",
       "    <tr>\n",
       "      <th>Europe/Oslo</th>\n",
       "      <td>2.0</td>\n",
       "      <td>8.0</td>\n",
       "    </tr>\n",
       "    <tr>\n",
       "      <th>Europe/Paris</th>\n",
       "      <td>4.0</td>\n",
       "      <td>10.0</td>\n",
       "    </tr>\n",
       "    <tr>\n",
       "      <th>Europe/Prague</th>\n",
       "      <td>3.0</td>\n",
       "      <td>7.0</td>\n",
       "    </tr>\n",
       "    <tr>\n",
       "      <th>Europe/Riga</th>\n",
       "      <td>1.0</td>\n",
       "      <td>1.0</td>\n",
       "    </tr>\n",
       "    <tr>\n",
       "      <th>Europe/Rome</th>\n",
       "      <td>8.0</td>\n",
       "      <td>19.0</td>\n",
       "    </tr>\n",
       "    <tr>\n",
       "      <th>Europe/Skopje</th>\n",
       "      <td>NaN</td>\n",
       "      <td>1.0</td>\n",
       "    </tr>\n",
       "    <tr>\n",
       "      <th>Europe/Sofia</th>\n",
       "      <td>NaN</td>\n",
       "      <td>1.0</td>\n",
       "    </tr>\n",
       "    <tr>\n",
       "      <th>Europe/Stockholm</th>\n",
       "      <td>2.0</td>\n",
       "      <td>12.0</td>\n",
       "    </tr>\n",
       "    <tr>\n",
       "      <th>Europe/Uzhgorod</th>\n",
       "      <td>NaN</td>\n",
       "      <td>1.0</td>\n",
       "    </tr>\n",
       "    <tr>\n",
       "      <th>Europe/Vienna</th>\n",
       "      <td>3.0</td>\n",
       "      <td>3.0</td>\n",
       "    </tr>\n",
       "    <tr>\n",
       "      <th>Europe/Vilnius</th>\n",
       "      <td>NaN</td>\n",
       "      <td>2.0</td>\n",
       "    </tr>\n",
       "    <tr>\n",
       "      <th>Europe/Volgograd</th>\n",
       "      <td>NaN</td>\n",
       "      <td>1.0</td>\n",
       "    </tr>\n",
       "    <tr>\n",
       "      <th>Europe/Warsaw</th>\n",
       "      <td>1.0</td>\n",
       "      <td>15.0</td>\n",
       "    </tr>\n",
       "    <tr>\n",
       "      <th>Europe/Zurich</th>\n",
       "      <td>4.0</td>\n",
       "      <td>NaN</td>\n",
       "    </tr>\n",
       "    <tr>\n",
       "      <th>Pacific/Auckland</th>\n",
       "      <td>3.0</td>\n",
       "      <td>8.0</td>\n",
       "    </tr>\n",
       "    <tr>\n",
       "      <th>Pacific/Honolulu</th>\n",
       "      <td>NaN</td>\n",
       "      <td>36.0</td>\n",
       "    </tr>\n",
       "  </tbody>\n",
       "</table>\n",
       "<p>97 rows × 2 columns</p>\n",
       "</div>"
      ],
      "text/plain": [
       "                                Not Windows  Windows\n",
       "tz                                                  \n",
       "                                      245.0    276.0\n",
       "Africa/Cairo                            NaN      3.0\n",
       "Africa/Casablanca                       NaN      1.0\n",
       "Africa/Ceuta                            NaN      2.0\n",
       "Africa/Johannesburg                     NaN      1.0\n",
       "Africa/Lusaka                           NaN      1.0\n",
       "America/Anchorage                       4.0      1.0\n",
       "America/Argentina/Buenos_Aires          1.0      NaN\n",
       "America/Argentina/Cordoba               NaN      1.0\n",
       "America/Argentina/Mendoza               NaN      1.0\n",
       "America/Bogota                          1.0      2.0\n",
       "America/Caracas                         NaN      1.0\n",
       "America/Chicago                       115.0    285.0\n",
       "America/Chihuahua                       1.0      1.0\n",
       "America/Costa_Rica                      NaN      1.0\n",
       "America/Denver                        132.0     59.0\n",
       "America/Edmonton                        2.0      4.0\n",
       "America/Guayaquil                       2.0      NaN\n",
       "America/Halifax                         1.0      3.0\n",
       "America/Indianapolis                    8.0     12.0\n",
       "America/La_Paz                          NaN      1.0\n",
       "America/Lima                            NaN      1.0\n",
       "America/Los_Angeles                   130.0    252.0\n",
       "America/Managua                         NaN      3.0\n",
       "America/Mazatlan                        1.0      NaN\n",
       "America/Mexico_City                     7.0      8.0\n",
       "America/Monterrey                       1.0      NaN\n",
       "America/Montevideo                      NaN      1.0\n",
       "America/Montreal                        3.0      6.0\n",
       "America/New_York                      339.0    912.0\n",
       "...                                     ...      ...\n",
       "Europe/Berlin                           9.0     19.0\n",
       "Europe/Bratislava                       1.0      2.0\n",
       "Europe/Brussels                         1.0      3.0\n",
       "Europe/Bucharest                        1.0      3.0\n",
       "Europe/Budapest                         NaN      5.0\n",
       "Europe/Copenhagen                       2.0      3.0\n",
       "Europe/Dublin                           1.0      2.0\n",
       "Europe/Helsinki                         2.0      8.0\n",
       "Europe/Lisbon                           1.0      7.0\n",
       "Europe/Ljubljana                        NaN      1.0\n",
       "Europe/London                          43.0     31.0\n",
       "Europe/Madrid                          16.0     19.0\n",
       "Europe/Malta                            NaN      2.0\n",
       "Europe/Moscow                           1.0      9.0\n",
       "Europe/Oslo                             2.0      8.0\n",
       "Europe/Paris                            4.0     10.0\n",
       "Europe/Prague                           3.0      7.0\n",
       "Europe/Riga                             1.0      1.0\n",
       "Europe/Rome                             8.0     19.0\n",
       "Europe/Skopje                           NaN      1.0\n",
       "Europe/Sofia                            NaN      1.0\n",
       "Europe/Stockholm                        2.0     12.0\n",
       "Europe/Uzhgorod                         NaN      1.0\n",
       "Europe/Vienna                           3.0      3.0\n",
       "Europe/Vilnius                          NaN      2.0\n",
       "Europe/Volgograd                        NaN      1.0\n",
       "Europe/Warsaw                           1.0     15.0\n",
       "Europe/Zurich                           4.0      NaN\n",
       "Pacific/Auckland                        3.0      8.0\n",
       "Pacific/Honolulu                        NaN     36.0\n",
       "\n",
       "[97 rows x 2 columns]"
      ]
     },
     "execution_count": 49,
     "metadata": {},
     "output_type": "execute_result"
    }
   ],
   "source": [
    "by_tz_os.size().unstack()"
   ]
  },
  {
   "cell_type": "code",
   "execution_count": 56,
   "metadata": {
    "collapsed": true
   },
   "outputs": [],
   "source": [
    "agg_counts = by_tz_os.size().unstack().fillna(0)"
   ]
  },
  {
   "cell_type": "code",
   "execution_count": 57,
   "metadata": {},
   "outputs": [
    {
     "data": {
      "text/html": [
       "<div>\n",
       "<table border=\"1\" class=\"dataframe\">\n",
       "  <thead>\n",
       "    <tr style=\"text-align: right;\">\n",
       "      <th></th>\n",
       "      <th>Not Windows</th>\n",
       "      <th>Windows</th>\n",
       "    </tr>\n",
       "    <tr>\n",
       "      <th>tz</th>\n",
       "      <th></th>\n",
       "      <th></th>\n",
       "    </tr>\n",
       "  </thead>\n",
       "  <tbody>\n",
       "    <tr>\n",
       "      <th></th>\n",
       "      <td>245.0</td>\n",
       "      <td>276.0</td>\n",
       "    </tr>\n",
       "    <tr>\n",
       "      <th>Africa/Cairo</th>\n",
       "      <td>0.0</td>\n",
       "      <td>3.0</td>\n",
       "    </tr>\n",
       "    <tr>\n",
       "      <th>Africa/Casablanca</th>\n",
       "      <td>0.0</td>\n",
       "      <td>1.0</td>\n",
       "    </tr>\n",
       "    <tr>\n",
       "      <th>Africa/Ceuta</th>\n",
       "      <td>0.0</td>\n",
       "      <td>2.0</td>\n",
       "    </tr>\n",
       "    <tr>\n",
       "      <th>Africa/Johannesburg</th>\n",
       "      <td>0.0</td>\n",
       "      <td>1.0</td>\n",
       "    </tr>\n",
       "    <tr>\n",
       "      <th>Africa/Lusaka</th>\n",
       "      <td>0.0</td>\n",
       "      <td>1.0</td>\n",
       "    </tr>\n",
       "    <tr>\n",
       "      <th>America/Anchorage</th>\n",
       "      <td>4.0</td>\n",
       "      <td>1.0</td>\n",
       "    </tr>\n",
       "    <tr>\n",
       "      <th>America/Argentina/Buenos_Aires</th>\n",
       "      <td>1.0</td>\n",
       "      <td>0.0</td>\n",
       "    </tr>\n",
       "    <tr>\n",
       "      <th>America/Argentina/Cordoba</th>\n",
       "      <td>0.0</td>\n",
       "      <td>1.0</td>\n",
       "    </tr>\n",
       "    <tr>\n",
       "      <th>America/Argentina/Mendoza</th>\n",
       "      <td>0.0</td>\n",
       "      <td>1.0</td>\n",
       "    </tr>\n",
       "  </tbody>\n",
       "</table>\n",
       "</div>"
      ],
      "text/plain": [
       "                                Not Windows  Windows\n",
       "tz                                                  \n",
       "                                      245.0    276.0\n",
       "Africa/Cairo                            0.0      3.0\n",
       "Africa/Casablanca                       0.0      1.0\n",
       "Africa/Ceuta                            0.0      2.0\n",
       "Africa/Johannesburg                     0.0      1.0\n",
       "Africa/Lusaka                           0.0      1.0\n",
       "America/Anchorage                       4.0      1.0\n",
       "America/Argentina/Buenos_Aires          1.0      0.0\n",
       "America/Argentina/Cordoba               0.0      1.0\n",
       "America/Argentina/Mendoza               0.0      1.0"
      ]
     },
     "execution_count": 57,
     "metadata": {},
     "output_type": "execute_result"
    }
   ],
   "source": [
    "agg_counts[:10]"
   ]
  },
  {
   "cell_type": "code",
   "execution_count": 58,
   "metadata": {
    "collapsed": true
   },
   "outputs": [],
   "source": [
    "indexer = agg_counts.sum(1)"
   ]
  },
  {
   "cell_type": "code",
   "execution_count": 71,
   "metadata": {},
   "outputs": [
    {
     "data": {
      "text/plain": [
       "tz\n",
       "                                  24\n",
       "Africa/Cairo                      20\n",
       "Africa/Casablanca                 21\n",
       "Africa/Ceuta                      92\n",
       "Africa/Johannesburg               87\n",
       "Africa/Lusaka                     53\n",
       "America/Anchorage                 54\n",
       "America/Argentina/Buenos_Aires    57\n",
       "America/Argentina/Cordoba         26\n",
       "America/Argentina/Mendoza         55\n",
       "dtype: int64"
      ]
     },
     "execution_count": 71,
     "metadata": {},
     "output_type": "execute_result"
    }
   ],
   "source": [
    "indexer[:10]"
   ]
  },
  {
   "cell_type": "code",
   "execution_count": 60,
   "metadata": {
    "collapsed": true
   },
   "outputs": [],
   "source": [
    "indexer = agg_counts.sum(1).argsort()"
   ]
  },
  {
   "cell_type": "code",
   "execution_count": 69,
   "metadata": {},
   "outputs": [
    {
     "data": {
      "text/plain": [
       "tz\n",
       "                                  24\n",
       "Africa/Cairo                      20\n",
       "Africa/Casablanca                 21\n",
       "Africa/Ceuta                      92\n",
       "Africa/Johannesburg               87\n",
       "Africa/Lusaka                     53\n",
       "America/Anchorage                 54\n",
       "America/Argentina/Buenos_Aires    57\n",
       "America/Argentina/Cordoba         26\n",
       "America/Argentina/Mendoza         55\n",
       "dtype: int64"
      ]
     },
     "execution_count": 69,
     "metadata": {},
     "output_type": "execute_result"
    }
   ],
   "source": [
    "indexer[:10]"
   ]
  },
  {
   "cell_type": "code",
   "execution_count": 64,
   "metadata": {
    "collapsed": true
   },
   "outputs": [],
   "source": [
    "count_subset = agg_counts.take(indexer)[-10:]"
   ]
  },
  {
   "cell_type": "code",
   "execution_count": 65,
   "metadata": {},
   "outputs": [
    {
     "data": {
      "text/html": [
       "<div>\n",
       "<table border=\"1\" class=\"dataframe\">\n",
       "  <thead>\n",
       "    <tr style=\"text-align: right;\">\n",
       "      <th></th>\n",
       "      <th>Not Windows</th>\n",
       "      <th>Windows</th>\n",
       "    </tr>\n",
       "    <tr>\n",
       "      <th>tz</th>\n",
       "      <th></th>\n",
       "      <th></th>\n",
       "    </tr>\n",
       "  </thead>\n",
       "  <tbody>\n",
       "    <tr>\n",
       "      <th>America/Sao_Paulo</th>\n",
       "      <td>13.0</td>\n",
       "      <td>20.0</td>\n",
       "    </tr>\n",
       "    <tr>\n",
       "      <th>Europe/Madrid</th>\n",
       "      <td>16.0</td>\n",
       "      <td>19.0</td>\n",
       "    </tr>\n",
       "    <tr>\n",
       "      <th>Pacific/Honolulu</th>\n",
       "      <td>0.0</td>\n",
       "      <td>36.0</td>\n",
       "    </tr>\n",
       "    <tr>\n",
       "      <th>Asia/Tokyo</th>\n",
       "      <td>2.0</td>\n",
       "      <td>35.0</td>\n",
       "    </tr>\n",
       "    <tr>\n",
       "      <th>Europe/London</th>\n",
       "      <td>43.0</td>\n",
       "      <td>31.0</td>\n",
       "    </tr>\n",
       "    <tr>\n",
       "      <th>America/Denver</th>\n",
       "      <td>132.0</td>\n",
       "      <td>59.0</td>\n",
       "    </tr>\n",
       "    <tr>\n",
       "      <th>America/Los_Angeles</th>\n",
       "      <td>130.0</td>\n",
       "      <td>252.0</td>\n",
       "    </tr>\n",
       "    <tr>\n",
       "      <th>America/Chicago</th>\n",
       "      <td>115.0</td>\n",
       "      <td>285.0</td>\n",
       "    </tr>\n",
       "    <tr>\n",
       "      <th></th>\n",
       "      <td>245.0</td>\n",
       "      <td>276.0</td>\n",
       "    </tr>\n",
       "    <tr>\n",
       "      <th>America/New_York</th>\n",
       "      <td>339.0</td>\n",
       "      <td>912.0</td>\n",
       "    </tr>\n",
       "  </tbody>\n",
       "</table>\n",
       "</div>"
      ],
      "text/plain": [
       "                     Not Windows  Windows\n",
       "tz                                       \n",
       "America/Sao_Paulo           13.0     20.0\n",
       "Europe/Madrid               16.0     19.0\n",
       "Pacific/Honolulu             0.0     36.0\n",
       "Asia/Tokyo                   2.0     35.0\n",
       "Europe/London               43.0     31.0\n",
       "America/Denver             132.0     59.0\n",
       "America/Los_Angeles        130.0    252.0\n",
       "America/Chicago            115.0    285.0\n",
       "                           245.0    276.0\n",
       "America/New_York           339.0    912.0"
      ]
     },
     "execution_count": 65,
     "metadata": {},
     "output_type": "execute_result"
    }
   ],
   "source": [
    "count_subset"
   ]
  },
  {
   "cell_type": "code",
   "execution_count": 66,
   "metadata": {},
   "outputs": [
    {
     "data": {
      "text/plain": [
       "<matplotlib.axes._subplots.AxesSubplot at 0x7f3867e89320>"
      ]
     },
     "execution_count": 66,
     "metadata": {},
     "output_type": "execute_result"
    },
    {
     "data": {
      "image/png": "[encoded data removed]",
      "text/plain": [
       "<matplotlib.figure.Figure at 0x7f3867e891d0>"
      ]
     },
     "metadata": {},
     "output_type": "display_data"
    }
   ],
   "source": [
    "count_subset.plot(kind='barh', stacked=True)"
   ]
  },
  {
   "cell_type": "code",
   "execution_count": 67,
   "metadata": {
    "collapsed": true
   },
   "outputs": [],
   "source": [
    "normed_subset = count_subset.div(count_subset.sum(1), axis=0)"
   ]
  },
  {
   "cell_type": "code",
   "execution_count": 68,
   "metadata": {},
   "outputs": [
    {
     "data": {
      "text/plain": [
       "<matplotlib.axes._subplots.AxesSubplot at 0x7f3867e89470>"
      ]
     },
     "execution_count": 68,
     "metadata": {},
     "output_type": "execute_result"
    },
    {
     "data": {
      "image/png": "[encoded data removed]",
      "text/plain": [
       "<matplotlib.figure.Figure at 0x7f3867dff748>"
      ]
     },
     "metadata": {},
     "output_type": "display_data"
    }
   ],
   "source": [
    "normed_subset.plot(kind='barh', stacked=True)"
   ]
  },
  {
   "cell_type": "markdown",
   "metadata": {},
   "source": [
    "<h2>MovieLens 1M data set</h2>"
   ]
  },
  {
   "cell_type": "code",
   "execution_count": 4,
   "metadata": {
    "collapsed": true
   },
   "outputs": [],
   "source": [
    "import pandas as pd\n",
    "\n",
    "unames = ['user_id', 'gender', 'age', 'occupation', 'zip']\n",
    "users = pd.read_table('ch02/movielens/users.dat', sep='::', header=None, names=unames, engine='python')\n",
    "rnames = ['user_id', 'movie_id', 'rating', 'timestamp']\n",
    "ratings = pd.read_table('ch02/movielens/ratings.dat', sep='::', header=None, names=rnames, engine='python')\n",
    "mnames = ['movie_id', 'title', 'genres']\n",
    "movies = pd.read_table('ch02/movielens/movies.dat', sep='::', header=None, names=mnames, engine='python')"
   ]
  },
  {
   "cell_type": "code",
   "execution_count": 5,
   "metadata": {},
   "outputs": [
    {
     "data": {
      "text/html": [
       "<div>\n",
       "<style>\n",
       "    .dataframe thead tr:only-child th {\n",
       "        text-align: right;\n",
       "    }\n",
       "\n",
       "    .dataframe thead th {\n",
       "        text-align: left;\n",
       "    }\n",
       "\n",
       "    .dataframe tbody tr th {\n",
       "        vertical-align: top;\n",
       "    }\n",
       "</style>\n",
       "<table border=\"1\" class=\"dataframe\">\n",
       "  <thead>\n",
       "    <tr style=\"text-align: right;\">\n",
       "      <th></th>\n",
       "      <th>user_id</th>\n",
       "      <th>gender</th>\n",
       "      <th>age</th>\n",
       "      <th>occupation</th>\n",
       "      <th>zip</th>\n",
       "    </tr>\n",
       "  </thead>\n",
       "  <tbody>\n",
       "    <tr>\n",
       "      <th>0</th>\n",
       "      <td>1</td>\n",
       "      <td>F</td>\n",
       "      <td>1</td>\n",
       "      <td>10</td>\n",
       "      <td>48067</td>\n",
       "    </tr>\n",
       "    <tr>\n",
       "      <th>1</th>\n",
       "      <td>2</td>\n",
       "      <td>M</td>\n",
       "      <td>56</td>\n",
       "      <td>16</td>\n",
       "      <td>70072</td>\n",
       "    </tr>\n",
       "    <tr>\n",
       "      <th>2</th>\n",
       "      <td>3</td>\n",
       "      <td>M</td>\n",
       "      <td>25</td>\n",
       "      <td>15</td>\n",
       "      <td>55117</td>\n",
       "    </tr>\n",
       "    <tr>\n",
       "      <th>3</th>\n",
       "      <td>4</td>\n",
       "      <td>M</td>\n",
       "      <td>45</td>\n",
       "      <td>7</td>\n",
       "      <td>02460</td>\n",
       "    </tr>\n",
       "    <tr>\n",
       "      <th>4</th>\n",
       "      <td>5</td>\n",
       "      <td>M</td>\n",
       "      <td>25</td>\n",
       "      <td>20</td>\n",
       "      <td>55455</td>\n",
       "    </tr>\n",
       "  </tbody>\n",
       "</table>\n",
       "</div>"
      ],
      "text/plain": [
       "   user_id gender  age  occupation    zip\n",
       "0        1      F    1          10  48067\n",
       "1        2      M   56          16  70072\n",
       "2        3      M   25          15  55117\n",
       "3        4      M   45           7  02460\n",
       "4        5      M   25          20  55455"
      ]
     },
     "execution_count": 5,
     "metadata": {},
     "output_type": "execute_result"
    }
   ],
   "source": [
    "users[:5]"
   ]
  },
  {
   "cell_type": "code",
   "execution_count": 6,
   "metadata": {},
   "outputs": [
    {
     "data": {
      "text/html": [
       "<div>\n",
       "<style>\n",
       "    .dataframe thead tr:only-child th {\n",
       "        text-align: right;\n",
       "    }\n",
       "\n",
       "    .dataframe thead th {\n",
       "        text-align: left;\n",
       "    }\n",
       "\n",
       "    .dataframe tbody tr th {\n",
       "        vertical-align: top;\n",
       "    }\n",
       "</style>\n",
       "<table border=\"1\" class=\"dataframe\">\n",
       "  <thead>\n",
       "    <tr style=\"text-align: right;\">\n",
       "      <th></th>\n",
       "      <th>user_id</th>\n",
       "      <th>movie_id</th>\n",
       "      <th>rating</th>\n",
       "      <th>timestamp</th>\n",
       "    </tr>\n",
       "  </thead>\n",
       "  <tbody>\n",
       "    <tr>\n",
       "      <th>0</th>\n",
       "      <td>1</td>\n",
       "      <td>1193</td>\n",
       "      <td>5</td>\n",
       "      <td>978300760</td>\n",
       "    </tr>\n",
       "    <tr>\n",
       "      <th>1</th>\n",
       "      <td>1</td>\n",
       "      <td>661</td>\n",
       "      <td>3</td>\n",
       "      <td>978302109</td>\n",
       "    </tr>\n",
       "    <tr>\n",
       "      <th>2</th>\n",
       "      <td>1</td>\n",
       "      <td>914</td>\n",
       "      <td>3</td>\n",
       "      <td>978301968</td>\n",
       "    </tr>\n",
       "    <tr>\n",
       "      <th>3</th>\n",
       "      <td>1</td>\n",
       "      <td>3408</td>\n",
       "      <td>4</td>\n",
       "      <td>978300275</td>\n",
       "    </tr>\n",
       "    <tr>\n",
       "      <th>4</th>\n",
       "      <td>1</td>\n",
       "      <td>2355</td>\n",
       "      <td>5</td>\n",
       "      <td>978824291</td>\n",
       "    </tr>\n",
       "  </tbody>\n",
       "</table>\n",
       "</div>"
      ],
      "text/plain": [
       "   user_id  movie_id  rating  timestamp\n",
       "0        1      1193       5  978300760\n",
       "1        1       661       3  978302109\n",
       "2        1       914       3  978301968\n",
       "3        1      3408       4  978300275\n",
       "4        1      2355       5  978824291"
      ]
     },
     "execution_count": 6,
     "metadata": {},
     "output_type": "execute_result"
    }
   ],
   "source": [
    "ratings[:5]"
   ]
  },
  {
   "cell_type": "code",
   "execution_count": 7,
   "metadata": {},
   "outputs": [
    {
     "data": {
      "text/html": [
       "<div>\n",
       "<style>\n",
       "    .dataframe thead tr:only-child th {\n",
       "        text-align: right;\n",
       "    }\n",
       "\n",
       "    .dataframe thead th {\n",
       "        text-align: left;\n",
       "    }\n",
       "\n",
       "    .dataframe tbody tr th {\n",
       "        vertical-align: top;\n",
       "    }\n",
       "</style>\n",
       "<table border=\"1\" class=\"dataframe\">\n",
       "  <thead>\n",
       "    <tr style=\"text-align: right;\">\n",
       "      <th></th>\n",
       "      <th>movie_id</th>\n",
       "      <th>title</th>\n",
       "      <th>genres</th>\n",
       "    </tr>\n",
       "  </thead>\n",
       "  <tbody>\n",
       "    <tr>\n",
       "      <th>0</th>\n",
       "      <td>1</td>\n",
       "      <td>Toy Story (1995)</td>\n",
       "      <td>Animation|Children's|Comedy</td>\n",
       "    </tr>\n",
       "    <tr>\n",
       "      <th>1</th>\n",
       "      <td>2</td>\n",
       "      <td>Jumanji (1995)</td>\n",
       "      <td>Adventure|Children's|Fantasy</td>\n",
       "    </tr>\n",
       "    <tr>\n",
       "      <th>2</th>\n",
       "      <td>3</td>\n",
       "      <td>Grumpier Old Men (1995)</td>\n",
       "      <td>Comedy|Romance</td>\n",
       "    </tr>\n",
       "    <tr>\n",
       "      <th>3</th>\n",
       "      <td>4</td>\n",
       "      <td>Waiting to Exhale (1995)</td>\n",
       "      <td>Comedy|Drama</td>\n",
       "    </tr>\n",
       "    <tr>\n",
       "      <th>4</th>\n",
       "      <td>5</td>\n",
       "      <td>Father of the Bride Part II (1995)</td>\n",
       "      <td>Comedy</td>\n",
       "    </tr>\n",
       "  </tbody>\n",
       "</table>\n",
       "</div>"
      ],
      "text/plain": [
       "   movie_id                               title                        genres\n",
       "0         1                    Toy Story (1995)   Animation|Children's|Comedy\n",
       "1         2                      Jumanji (1995)  Adventure|Children's|Fantasy\n",
       "2         3             Grumpier Old Men (1995)                Comedy|Romance\n",
       "3         4            Waiting to Exhale (1995)                  Comedy|Drama\n",
       "4         5  Father of the Bride Part II (1995)                        Comedy"
      ]
     },
     "execution_count": 7,
     "metadata": {},
     "output_type": "execute_result"
    }
   ],
   "source": [
    "movies[:5]"
   ]
  },
  {
   "cell_type": "code",
   "execution_count": 8,
   "metadata": {
    "collapsed": true
   },
   "outputs": [],
   "source": [
    "data = pd.merge(pd.merge(ratings, users), movies)"
   ]
  },
  {
   "cell_type": "code",
   "execution_count": 9,
   "metadata": {},
   "outputs": [
    {
     "name": "stdout",
     "output_type": "stream",
     "text": [
      "<class 'pandas.core.frame.DataFrame'>\n",
      "Int64Index: 1000209 entries, 0 to 1000208\n",
      "Data columns (total 10 columns):\n",
      "user_id       1000209 non-null int64\n",
      "movie_id      1000209 non-null int64\n",
      "rating        1000209 non-null int64\n",
      "timestamp     1000209 non-null int64\n",
      "gender        1000209 non-null object\n",
      "age           1000209 non-null int64\n",
      "occupation    1000209 non-null int64\n",
      "zip           1000209 non-null object\n",
      "title         1000209 non-null object\n",
      "genres        1000209 non-null object\n",
      "dtypes: int64(6), object(4)\n",
      "memory usage: 83.9+ MB\n"
     ]
    }
   ],
   "source": [
    "data.info()"
   ]
  },
  {
   "cell_type": "code",
   "execution_count": 11,
   "metadata": {},
   "outputs": [
    {
     "data": {
      "text/plain": [
       "user_id                                            1\n",
       "movie_id                                        1193\n",
       "rating                                             5\n",
       "timestamp                                  978300760\n",
       "gender                                             F\n",
       "age                                                1\n",
       "occupation                                        10\n",
       "zip                                            48067\n",
       "title         One Flew Over the Cuckoo's Nest (1975)\n",
       "genres                                         Drama\n",
       "Name: 0, dtype: object"
      ]
     },
     "execution_count": 11,
     "metadata": {},
     "output_type": "execute_result"
    }
   ],
   "source": [
    "data.loc[0]"
   ]
  },
  {
   "cell_type": "code",
   "execution_count": 13,
   "metadata": {
    "collapsed": true
   },
   "outputs": [],
   "source": [
    "mean_ratings = data.pivot_table(values ='rating', index='title', columns='gender', aggfunc='mean')"
   ]
  },
  {
   "cell_type": "code",
   "execution_count": 14,
   "metadata": {},
   "outputs": [
    {
     "data": {
      "text/html": [
       "<div>\n",
       "<style>\n",
       "    .dataframe thead tr:only-child th {\n",
       "        text-align: right;\n",
       "    }\n",
       "\n",
       "    .dataframe thead th {\n",
       "        text-align: left;\n",
       "    }\n",
       "\n",
       "    .dataframe tbody tr th {\n",
       "        vertical-align: top;\n",
       "    }\n",
       "</style>\n",
       "<table border=\"1\" class=\"dataframe\">\n",
       "  <thead>\n",
       "    <tr style=\"text-align: right;\">\n",
       "      <th>gender</th>\n",
       "      <th>F</th>\n",
       "      <th>M</th>\n",
       "    </tr>\n",
       "    <tr>\n",
       "      <th>title</th>\n",
       "      <th></th>\n",
       "      <th></th>\n",
       "    </tr>\n",
       "  </thead>\n",
       "  <tbody>\n",
       "    <tr>\n",
       "      <th>$1,000,000 Duck (1971)</th>\n",
       "      <td>3.375000</td>\n",
       "      <td>2.761905</td>\n",
       "    </tr>\n",
       "    <tr>\n",
       "      <th>'Night Mother (1986)</th>\n",
       "      <td>3.388889</td>\n",
       "      <td>3.352941</td>\n",
       "    </tr>\n",
       "    <tr>\n",
       "      <th>'Til There Was You (1997)</th>\n",
       "      <td>2.675676</td>\n",
       "      <td>2.733333</td>\n",
       "    </tr>\n",
       "    <tr>\n",
       "      <th>'burbs, The (1989)</th>\n",
       "      <td>2.793478</td>\n",
       "      <td>2.962085</td>\n",
       "    </tr>\n",
       "    <tr>\n",
       "      <th>...And Justice for All (1979)</th>\n",
       "      <td>3.828571</td>\n",
       "      <td>3.689024</td>\n",
       "    </tr>\n",
       "  </tbody>\n",
       "</table>\n",
       "</div>"
      ],
      "text/plain": [
       "gender                                F         M\n",
       "title                                            \n",
       "$1,000,000 Duck (1971)         3.375000  2.761905\n",
       "'Night Mother (1986)           3.388889  3.352941\n",
       "'Til There Was You (1997)      2.675676  2.733333\n",
       "'burbs, The (1989)             2.793478  2.962085\n",
       "...And Justice for All (1979)  3.828571  3.689024"
      ]
     },
     "execution_count": 14,
     "metadata": {},
     "output_type": "execute_result"
    }
   ],
   "source": [
    "mean_ratings[:5]"
   ]
  },
  {
   "cell_type": "code",
   "execution_count": 15,
   "metadata": {
    "collapsed": true
   },
   "outputs": [],
   "source": [
    "ratings_by_title = data.groupby('title').size()"
   ]
  },
  {
   "cell_type": "code",
   "execution_count": 16,
   "metadata": {},
   "outputs": [
    {
     "data": {
      "text/plain": [
       "title\n",
       "$1,000,000 Duck (1971)                37\n",
       "'Night Mother (1986)                  70\n",
       "'Til There Was You (1997)             52\n",
       "'burbs, The (1989)                   303\n",
       "...And Justice for All (1979)        199\n",
       "1-900 (1994)                           2\n",
       "10 Things I Hate About You (1999)    700\n",
       "101 Dalmatians (1961)                565\n",
       "101 Dalmatians (1996)                364\n",
       "12 Angry Men (1957)                  616\n",
       "dtype: int64"
      ]
     },
     "execution_count": 16,
     "metadata": {},
     "output_type": "execute_result"
    }
   ],
   "source": [
    "ratings_by_title[:10]"
   ]
  },
  {
   "cell_type": "code",
   "execution_count": 17,
   "metadata": {
    "collapsed": true
   },
   "outputs": [],
   "source": [
    "active_titles = ratings_by_title.index[ratings_by_title >= 250]"
   ]
  },
  {
   "cell_type": "code",
   "execution_count": 18,
   "metadata": {},
   "outputs": [
    {
     "data": {
      "text/plain": [
       "Index([''burbs, The (1989)', '10 Things I Hate About You (1999)',\n",
       "       '101 Dalmatians (1961)', '101 Dalmatians (1996)', '12 Angry Men (1957)',\n",
       "       '13th Warrior, The (1999)', '2 Days in the Valley (1996)',\n",
       "       '20,000 Leagues Under the Sea (1954)', '2001: A Space Odyssey (1968)',\n",
       "       '2010 (1984)',\n",
       "       ...\n",
       "       'X-Men (2000)', 'Year of Living Dangerously (1982)',\n",
       "       'Yellow Submarine (1968)', 'You've Got Mail (1998)',\n",
       "       'Young Frankenstein (1974)', 'Young Guns (1988)',\n",
       "       'Young Guns II (1990)', 'Young Sherlock Holmes (1985)',\n",
       "       'Zero Effect (1998)', 'eXistenZ (1999)'],\n",
       "      dtype='object', name='title', length=1216)"
      ]
     },
     "execution_count": 18,
     "metadata": {},
     "output_type": "execute_result"
    }
   ],
   "source": [
    "active_titles"
   ]
  },
  {
   "cell_type": "code",
   "execution_count": 20,
   "metadata": {
    "collapsed": true
   },
   "outputs": [],
   "source": [
    "mean_ratings = mean_ratings.loc[active_titles]"
   ]
  },
  {
   "cell_type": "code",
   "execution_count": 21,
   "metadata": {},
   "outputs": [
    {
     "name": "stdout",
     "output_type": "stream",
     "text": [
      "<class 'pandas.core.frame.DataFrame'>\n",
      "Index: 1216 entries, 'burbs, The (1989) to eXistenZ (1999)\n",
      "Data columns (total 2 columns):\n",
      "F    1216 non-null float64\n",
      "M    1216 non-null float64\n",
      "dtypes: float64(2)\n",
      "memory usage: 68.5+ KB\n"
     ]
    }
   ],
   "source": [
    "mean_ratings.info()"
   ]
  },
  {
   "cell_type": "code",
   "execution_count": 23,
   "metadata": {
    "collapsed": true
   },
   "outputs": [],
   "source": [
    "top_female_ratings = mean_ratings.sort_values(by='F', ascending=False)"
   ]
  },
  {
   "cell_type": "code",
   "execution_count": 24,
   "metadata": {},
   "outputs": [
    {
     "data": {
      "text/html": [
       "<div>\n",
       "<style>\n",
       "    .dataframe thead tr:only-child th {\n",
       "        text-align: right;\n",
       "    }\n",
       "\n",
       "    .dataframe thead th {\n",
       "        text-align: left;\n",
       "    }\n",
       "\n",
       "    .dataframe tbody tr th {\n",
       "        vertical-align: top;\n",
       "    }\n",
       "</style>\n",
       "<table border=\"1\" class=\"dataframe\">\n",
       "  <thead>\n",
       "    <tr style=\"text-align: right;\">\n",
       "      <th>gender</th>\n",
       "      <th>F</th>\n",
       "      <th>M</th>\n",
       "    </tr>\n",
       "    <tr>\n",
       "      <th>title</th>\n",
       "      <th></th>\n",
       "      <th></th>\n",
       "    </tr>\n",
       "  </thead>\n",
       "  <tbody>\n",
       "    <tr>\n",
       "      <th>Close Shave, A (1995)</th>\n",
       "      <td>4.644444</td>\n",
       "      <td>4.473795</td>\n",
       "    </tr>\n",
       "    <tr>\n",
       "      <th>Wrong Trousers, The (1993)</th>\n",
       "      <td>4.588235</td>\n",
       "      <td>4.478261</td>\n",
       "    </tr>\n",
       "    <tr>\n",
       "      <th>Sunset Blvd. (a.k.a. Sunset Boulevard) (1950)</th>\n",
       "      <td>4.572650</td>\n",
       "      <td>4.464589</td>\n",
       "    </tr>\n",
       "    <tr>\n",
       "      <th>Wallace &amp; Gromit: The Best of Aardman Animation (1996)</th>\n",
       "      <td>4.563107</td>\n",
       "      <td>4.385075</td>\n",
       "    </tr>\n",
       "    <tr>\n",
       "      <th>Schindler's List (1993)</th>\n",
       "      <td>4.562602</td>\n",
       "      <td>4.491415</td>\n",
       "    </tr>\n",
       "    <tr>\n",
       "      <th>Shawshank Redemption, The (1994)</th>\n",
       "      <td>4.539075</td>\n",
       "      <td>4.560625</td>\n",
       "    </tr>\n",
       "    <tr>\n",
       "      <th>Grand Day Out, A (1992)</th>\n",
       "      <td>4.537879</td>\n",
       "      <td>4.293255</td>\n",
       "    </tr>\n",
       "    <tr>\n",
       "      <th>To Kill a Mockingbird (1962)</th>\n",
       "      <td>4.536667</td>\n",
       "      <td>4.372611</td>\n",
       "    </tr>\n",
       "    <tr>\n",
       "      <th>Creature Comforts (1990)</th>\n",
       "      <td>4.513889</td>\n",
       "      <td>4.272277</td>\n",
       "    </tr>\n",
       "    <tr>\n",
       "      <th>Usual Suspects, The (1995)</th>\n",
       "      <td>4.513317</td>\n",
       "      <td>4.518248</td>\n",
       "    </tr>\n",
       "  </tbody>\n",
       "</table>\n",
       "</div>"
      ],
      "text/plain": [
       "gender                                                     F         M\n",
       "title                                                                 \n",
       "Close Shave, A (1995)                               4.644444  4.473795\n",
       "Wrong Trousers, The (1993)                          4.588235  4.478261\n",
       "Sunset Blvd. (a.k.a. Sunset Boulevard) (1950)       4.572650  4.464589\n",
       "Wallace & Gromit: The Best of Aardman Animation...  4.563107  4.385075\n",
       "Schindler's List (1993)                             4.562602  4.491415\n",
       "Shawshank Redemption, The (1994)                    4.539075  4.560625\n",
       "Grand Day Out, A (1992)                             4.537879  4.293255\n",
       "To Kill a Mockingbird (1962)                        4.536667  4.372611\n",
       "Creature Comforts (1990)                            4.513889  4.272277\n",
       "Usual Suspects, The (1995)                          4.513317  4.518248"
      ]
     },
     "execution_count": 24,
     "metadata": {},
     "output_type": "execute_result"
    }
   ],
   "source": [
    "top_female_ratings[:10]"
   ]
  },
  {
   "cell_type": "markdown",
   "metadata": {},
   "source": [
    "<h3>Measuring rating disagreement</h3>"
   ]
  },
  {
   "cell_type": "code",
   "execution_count": 25,
   "metadata": {
    "collapsed": true
   },
   "outputs": [],
   "source": [
    "mean_ratings['diff'] = mean_ratings['M'] - mean_ratings['F']"
   ]
  },
  {
   "cell_type": "code",
   "execution_count": 27,
   "metadata": {
    "collapsed": true
   },
   "outputs": [],
   "source": [
    "sorted_by_diff = mean_ratings.sort_values(by='diff')"
   ]
  },
  {
   "cell_type": "code",
   "execution_count": 28,
   "metadata": {},
   "outputs": [
    {
     "data": {
      "text/html": [
       "<div>\n",
       "<style>\n",
       "    .dataframe thead tr:only-child th {\n",
       "        text-align: right;\n",
       "    }\n",
       "\n",
       "    .dataframe thead th {\n",
       "        text-align: left;\n",
       "    }\n",
       "\n",
       "    .dataframe tbody tr th {\n",
       "        vertical-align: top;\n",
       "    }\n",
       "</style>\n",
       "<table border=\"1\" class=\"dataframe\">\n",
       "  <thead>\n",
       "    <tr style=\"text-align: right;\">\n",
       "      <th>gender</th>\n",
       "      <th>F</th>\n",
       "      <th>M</th>\n",
       "      <th>diff</th>\n",
       "    </tr>\n",
       "    <tr>\n",
       "      <th>title</th>\n",
       "      <th></th>\n",
       "      <th></th>\n",
       "      <th></th>\n",
       "    </tr>\n",
       "  </thead>\n",
       "  <tbody>\n",
       "    <tr>\n",
       "      <th>Dirty Dancing (1987)</th>\n",
       "      <td>3.790378</td>\n",
       "      <td>2.959596</td>\n",
       "      <td>-0.830782</td>\n",
       "    </tr>\n",
       "    <tr>\n",
       "      <th>Jumpin' Jack Flash (1986)</th>\n",
       "      <td>3.254717</td>\n",
       "      <td>2.578358</td>\n",
       "      <td>-0.676359</td>\n",
       "    </tr>\n",
       "    <tr>\n",
       "      <th>Grease (1978)</th>\n",
       "      <td>3.975265</td>\n",
       "      <td>3.367041</td>\n",
       "      <td>-0.608224</td>\n",
       "    </tr>\n",
       "    <tr>\n",
       "      <th>Little Women (1994)</th>\n",
       "      <td>3.870588</td>\n",
       "      <td>3.321739</td>\n",
       "      <td>-0.548849</td>\n",
       "    </tr>\n",
       "    <tr>\n",
       "      <th>Steel Magnolias (1989)</th>\n",
       "      <td>3.901734</td>\n",
       "      <td>3.365957</td>\n",
       "      <td>-0.535777</td>\n",
       "    </tr>\n",
       "    <tr>\n",
       "      <th>Anastasia (1997)</th>\n",
       "      <td>3.800000</td>\n",
       "      <td>3.281609</td>\n",
       "      <td>-0.518391</td>\n",
       "    </tr>\n",
       "    <tr>\n",
       "      <th>Rocky Horror Picture Show, The (1975)</th>\n",
       "      <td>3.673016</td>\n",
       "      <td>3.160131</td>\n",
       "      <td>-0.512885</td>\n",
       "    </tr>\n",
       "    <tr>\n",
       "      <th>Color Purple, The (1985)</th>\n",
       "      <td>4.158192</td>\n",
       "      <td>3.659341</td>\n",
       "      <td>-0.498851</td>\n",
       "    </tr>\n",
       "    <tr>\n",
       "      <th>Age of Innocence, The (1993)</th>\n",
       "      <td>3.827068</td>\n",
       "      <td>3.339506</td>\n",
       "      <td>-0.487561</td>\n",
       "    </tr>\n",
       "    <tr>\n",
       "      <th>Free Willy (1993)</th>\n",
       "      <td>2.921348</td>\n",
       "      <td>2.438776</td>\n",
       "      <td>-0.482573</td>\n",
       "    </tr>\n",
       "    <tr>\n",
       "      <th>French Kiss (1995)</th>\n",
       "      <td>3.535714</td>\n",
       "      <td>3.056962</td>\n",
       "      <td>-0.478752</td>\n",
       "    </tr>\n",
       "    <tr>\n",
       "      <th>Little Shop of Horrors, The (1960)</th>\n",
       "      <td>3.650000</td>\n",
       "      <td>3.179688</td>\n",
       "      <td>-0.470312</td>\n",
       "    </tr>\n",
       "    <tr>\n",
       "      <th>Guys and Dolls (1955)</th>\n",
       "      <td>4.051724</td>\n",
       "      <td>3.583333</td>\n",
       "      <td>-0.468391</td>\n",
       "    </tr>\n",
       "    <tr>\n",
       "      <th>Mary Poppins (1964)</th>\n",
       "      <td>4.197740</td>\n",
       "      <td>3.730594</td>\n",
       "      <td>-0.467147</td>\n",
       "    </tr>\n",
       "    <tr>\n",
       "      <th>Patch Adams (1998)</th>\n",
       "      <td>3.473282</td>\n",
       "      <td>3.008746</td>\n",
       "      <td>-0.464536</td>\n",
       "    </tr>\n",
       "  </tbody>\n",
       "</table>\n",
       "</div>"
      ],
      "text/plain": [
       "gender                                        F         M      diff\n",
       "title                                                              \n",
       "Dirty Dancing (1987)                   3.790378  2.959596 -0.830782\n",
       "Jumpin' Jack Flash (1986)              3.254717  2.578358 -0.676359\n",
       "Grease (1978)                          3.975265  3.367041 -0.608224\n",
       "Little Women (1994)                    3.870588  3.321739 -0.548849\n",
       "Steel Magnolias (1989)                 3.901734  3.365957 -0.535777\n",
       "Anastasia (1997)                       3.800000  3.281609 -0.518391\n",
       "Rocky Horror Picture Show, The (1975)  3.673016  3.160131 -0.512885\n",
       "Color Purple, The (1985)               4.158192  3.659341 -0.498851\n",
       "Age of Innocence, The (1993)           3.827068  3.339506 -0.487561\n",
       "Free Willy (1993)                      2.921348  2.438776 -0.482573\n",
       "French Kiss (1995)                     3.535714  3.056962 -0.478752\n",
       "Little Shop of Horrors, The (1960)     3.650000  3.179688 -0.470312\n",
       "Guys and Dolls (1955)                  4.051724  3.583333 -0.468391\n",
       "Mary Poppins (1964)                    4.197740  3.730594 -0.467147\n",
       "Patch Adams (1998)                     3.473282  3.008746 -0.464536"
      ]
     },
     "execution_count": 28,
     "metadata": {},
     "output_type": "execute_result"
    }
   ],
   "source": [
    "sorted_by_diff[:15]"
   ]
  },
  {
   "cell_type": "code",
   "execution_count": 29,
   "metadata": {},
   "outputs": [
    {
     "data": {
      "text/html": [
       "<div>\n",
       "<style>\n",
       "    .dataframe thead tr:only-child th {\n",
       "        text-align: right;\n",
       "    }\n",
       "\n",
       "    .dataframe thead th {\n",
       "        text-align: left;\n",
       "    }\n",
       "\n",
       "    .dataframe tbody tr th {\n",
       "        vertical-align: top;\n",
       "    }\n",
       "</style>\n",
       "<table border=\"1\" class=\"dataframe\">\n",
       "  <thead>\n",
       "    <tr style=\"text-align: right;\">\n",
       "      <th>gender</th>\n",
       "      <th>F</th>\n",
       "      <th>M</th>\n",
       "      <th>diff</th>\n",
       "    </tr>\n",
       "    <tr>\n",
       "      <th>title</th>\n",
       "      <th></th>\n",
       "      <th></th>\n",
       "      <th></th>\n",
       "    </tr>\n",
       "  </thead>\n",
       "  <tbody>\n",
       "    <tr>\n",
       "      <th>Good, The Bad and The Ugly, The (1966)</th>\n",
       "      <td>3.494949</td>\n",
       "      <td>4.221300</td>\n",
       "      <td>0.726351</td>\n",
       "    </tr>\n",
       "    <tr>\n",
       "      <th>Kentucky Fried Movie, The (1977)</th>\n",
       "      <td>2.878788</td>\n",
       "      <td>3.555147</td>\n",
       "      <td>0.676359</td>\n",
       "    </tr>\n",
       "    <tr>\n",
       "      <th>Dumb &amp; Dumber (1994)</th>\n",
       "      <td>2.697987</td>\n",
       "      <td>3.336595</td>\n",
       "      <td>0.638608</td>\n",
       "    </tr>\n",
       "    <tr>\n",
       "      <th>Longest Day, The (1962)</th>\n",
       "      <td>3.411765</td>\n",
       "      <td>4.031447</td>\n",
       "      <td>0.619682</td>\n",
       "    </tr>\n",
       "    <tr>\n",
       "      <th>Cable Guy, The (1996)</th>\n",
       "      <td>2.250000</td>\n",
       "      <td>2.863787</td>\n",
       "      <td>0.613787</td>\n",
       "    </tr>\n",
       "    <tr>\n",
       "      <th>Evil Dead II (Dead By Dawn) (1987)</th>\n",
       "      <td>3.297297</td>\n",
       "      <td>3.909283</td>\n",
       "      <td>0.611985</td>\n",
       "    </tr>\n",
       "    <tr>\n",
       "      <th>Hidden, The (1987)</th>\n",
       "      <td>3.137931</td>\n",
       "      <td>3.745098</td>\n",
       "      <td>0.607167</td>\n",
       "    </tr>\n",
       "    <tr>\n",
       "      <th>Rocky III (1982)</th>\n",
       "      <td>2.361702</td>\n",
       "      <td>2.943503</td>\n",
       "      <td>0.581801</td>\n",
       "    </tr>\n",
       "    <tr>\n",
       "      <th>Caddyshack (1980)</th>\n",
       "      <td>3.396135</td>\n",
       "      <td>3.969737</td>\n",
       "      <td>0.573602</td>\n",
       "    </tr>\n",
       "    <tr>\n",
       "      <th>For a Few Dollars More (1965)</th>\n",
       "      <td>3.409091</td>\n",
       "      <td>3.953795</td>\n",
       "      <td>0.544704</td>\n",
       "    </tr>\n",
       "    <tr>\n",
       "      <th>Porky's (1981)</th>\n",
       "      <td>2.296875</td>\n",
       "      <td>2.836364</td>\n",
       "      <td>0.539489</td>\n",
       "    </tr>\n",
       "    <tr>\n",
       "      <th>Animal House (1978)</th>\n",
       "      <td>3.628906</td>\n",
       "      <td>4.167192</td>\n",
       "      <td>0.538286</td>\n",
       "    </tr>\n",
       "    <tr>\n",
       "      <th>Exorcist, The (1973)</th>\n",
       "      <td>3.537634</td>\n",
       "      <td>4.067239</td>\n",
       "      <td>0.529605</td>\n",
       "    </tr>\n",
       "    <tr>\n",
       "      <th>Fright Night (1985)</th>\n",
       "      <td>2.973684</td>\n",
       "      <td>3.500000</td>\n",
       "      <td>0.526316</td>\n",
       "    </tr>\n",
       "    <tr>\n",
       "      <th>Barb Wire (1996)</th>\n",
       "      <td>1.585366</td>\n",
       "      <td>2.100386</td>\n",
       "      <td>0.515020</td>\n",
       "    </tr>\n",
       "  </tbody>\n",
       "</table>\n",
       "</div>"
      ],
      "text/plain": [
       "gender                                         F         M      diff\n",
       "title                                                               \n",
       "Good, The Bad and The Ugly, The (1966)  3.494949  4.221300  0.726351\n",
       "Kentucky Fried Movie, The (1977)        2.878788  3.555147  0.676359\n",
       "Dumb & Dumber (1994)                    2.697987  3.336595  0.638608\n",
       "Longest Day, The (1962)                 3.411765  4.031447  0.619682\n",
       "Cable Guy, The (1996)                   2.250000  2.863787  0.613787\n",
       "Evil Dead II (Dead By Dawn) (1987)      3.297297  3.909283  0.611985\n",
       "Hidden, The (1987)                      3.137931  3.745098  0.607167\n",
       "Rocky III (1982)                        2.361702  2.943503  0.581801\n",
       "Caddyshack (1980)                       3.396135  3.969737  0.573602\n",
       "For a Few Dollars More (1965)           3.409091  3.953795  0.544704\n",
       "Porky's (1981)                          2.296875  2.836364  0.539489\n",
       "Animal House (1978)                     3.628906  4.167192  0.538286\n",
       "Exorcist, The (1973)                    3.537634  4.067239  0.529605\n",
       "Fright Night (1985)                     2.973684  3.500000  0.526316\n",
       "Barb Wire (1996)                        1.585366  2.100386  0.515020"
      ]
     },
     "execution_count": 29,
     "metadata": {},
     "output_type": "execute_result"
    }
   ],
   "source": [
    "sorted_by_diff[::-1][:15]"
   ]
  },
  {
   "cell_type": "code",
   "execution_count": 30,
   "metadata": {
    "collapsed": true
   },
   "outputs": [],
   "source": [
    "ratings_std_by_title = data.groupby('title')['rating'].std()"
   ]
  },
  {
   "cell_type": "code",
   "execution_count": 35,
   "metadata": {
    "collapsed": true
   },
   "outputs": [],
   "source": [
    "ratings_std_by_title = ratings_std_by_title.loc[active_titles]"
   ]
  },
  {
   "cell_type": "code",
   "execution_count": 37,
   "metadata": {},
   "outputs": [
    {
     "data": {
      "text/plain": [
       "title\n",
       "Dumb & Dumber (1994)                     1.321333\n",
       "Blair Witch Project, The (1999)          1.316368\n",
       "Natural Born Killers (1994)              1.307198\n",
       "Tank Girl (1995)                         1.277695\n",
       "Rocky Horror Picture Show, The (1975)    1.260177\n",
       "Eyes Wide Shut (1999)                    1.259624\n",
       "Evita (1996)                             1.253631\n",
       "Billy Madison (1995)                     1.249970\n",
       "Fear and Loathing in Las Vegas (1998)    1.246408\n",
       "Bicentennial Man (1999)                  1.245533\n",
       "Name: rating, dtype: float64"
      ]
     },
     "execution_count": 37,
     "metadata": {},
     "output_type": "execute_result"
    }
   ],
   "source": [
    "ratings_std_by_title.sort_values(ascending=False)[:10]"
   ]
  },
  {
   "cell_type": "markdown",
   "metadata": {},
   "source": [
    "<h2>US Baby Names 1880-2010</h2>"
   ]
  },
  {
   "cell_type": "code",
   "execution_count": 5,
   "metadata": {
    "collapsed": true
   },
   "outputs": [],
   "source": [
    "import pandas as pd"
   ]
  },
  {
   "cell_type": "code",
   "execution_count": 6,
   "metadata": {},
   "outputs": [],
   "source": [
    "names1880 = pd.read_csv('ch02/babynames/yob1880.txt', names=['name', 'sex', 'births'])"
   ]
  },
  {
   "cell_type": "code",
   "execution_count": 7,
   "metadata": {},
   "outputs": [
    {
     "name": "stdout",
     "output_type": "stream",
     "text": [
      "<class 'pandas.core.frame.DataFrame'>\n",
      "RangeIndex: 2000 entries, 0 to 1999\n",
      "Data columns (total 3 columns):\n",
      "name      2000 non-null object\n",
      "sex       2000 non-null object\n",
      "births    2000 non-null int64\n",
      "dtypes: int64(1), object(2)\n",
      "memory usage: 47.0+ KB\n"
     ]
    }
   ],
   "source": [
    "names1880.info()"
   ]
  },
  {
   "cell_type": "code",
   "execution_count": 8,
   "metadata": {},
   "outputs": [
    {
     "data": {
      "text/plain": [
       "sex\n",
       "F     90993\n",
       "M    110493\n",
       "Name: births, dtype: int64"
      ]
     },
     "execution_count": 8,
     "metadata": {},
     "output_type": "execute_result"
    }
   ],
   "source": [
    "names1880.groupby('sex').births.sum()"
   ]
  },
  {
   "cell_type": "code",
   "execution_count": 9,
   "metadata": {
    "collapsed": true
   },
   "outputs": [],
   "source": [
    "years = range(1880, 2011)\n",
    "\n",
    "pieces = []\n",
    "columns = ['name', 'sex', 'births']\n",
    "\n",
    "for year in years:\n",
    "    path = 'ch02/babynames/yob{}.txt'.format(year)\n",
    "    frame = pd.read_csv(path, names=columns)\n",
    "    \n",
    "    frame['year'] = year\n",
    "    pieces.append(frame)\n",
    "\n",
    "# Concatenate everything into a single DataFrame\n",
    "names = pd.concat(pieces, ignore_index=True)"
   ]
  },
  {
   "cell_type": "code",
   "execution_count": 10,
   "metadata": {},
   "outputs": [
    {
     "name": "stdout",
     "output_type": "stream",
     "text": [
      "<class 'pandas.core.frame.DataFrame'>\n",
      "RangeIndex: 1690784 entries, 0 to 1690783\n",
      "Data columns (total 4 columns):\n",
      "name      1690784 non-null object\n",
      "sex       1690784 non-null object\n",
      "births    1690784 non-null int64\n",
      "year      1690784 non-null int64\n",
      "dtypes: int64(2), object(2)\n",
      "memory usage: 51.6+ MB\n"
     ]
    }
   ],
   "source": [
    "names.info()"
   ]
  },
  {
   "cell_type": "code",
   "execution_count": 11,
   "metadata": {
    "collapsed": true
   },
   "outputs": [],
   "source": [
    "total_births = names.pivot_table(values='births', index='year', columns='sex', aggfunc=sum)"
   ]
  },
  {
   "cell_type": "code",
   "execution_count": 12,
   "metadata": {},
   "outputs": [
    {
     "data": {
      "text/html": [
       "<div>\n",
       "<style>\n",
       "    .dataframe thead tr:only-child th {\n",
       "        text-align: right;\n",
       "    }\n",
       "\n",
       "    .dataframe thead th {\n",
       "        text-align: left;\n",
       "    }\n",
       "\n",
       "    .dataframe tbody tr th {\n",
       "        vertical-align: top;\n",
       "    }\n",
       "</style>\n",
       "<table border=\"1\" class=\"dataframe\">\n",
       "  <thead>\n",
       "    <tr style=\"text-align: right;\">\n",
       "      <th>sex</th>\n",
       "      <th>F</th>\n",
       "      <th>M</th>\n",
       "    </tr>\n",
       "    <tr>\n",
       "      <th>year</th>\n",
       "      <th></th>\n",
       "      <th></th>\n",
       "    </tr>\n",
       "  </thead>\n",
       "  <tbody>\n",
       "    <tr>\n",
       "      <th>2006</th>\n",
       "      <td>1896468</td>\n",
       "      <td>2050234</td>\n",
       "    </tr>\n",
       "    <tr>\n",
       "      <th>2007</th>\n",
       "      <td>1916888</td>\n",
       "      <td>2069242</td>\n",
       "    </tr>\n",
       "    <tr>\n",
       "      <th>2008</th>\n",
       "      <td>1883645</td>\n",
       "      <td>2032310</td>\n",
       "    </tr>\n",
       "    <tr>\n",
       "      <th>2009</th>\n",
       "      <td>1827643</td>\n",
       "      <td>1973359</td>\n",
       "    </tr>\n",
       "    <tr>\n",
       "      <th>2010</th>\n",
       "      <td>1759010</td>\n",
       "      <td>1898382</td>\n",
       "    </tr>\n",
       "  </tbody>\n",
       "</table>\n",
       "</div>"
      ],
      "text/plain": [
       "sex         F        M\n",
       "year                  \n",
       "2006  1896468  2050234\n",
       "2007  1916888  2069242\n",
       "2008  1883645  2032310\n",
       "2009  1827643  1973359\n",
       "2010  1759010  1898382"
      ]
     },
     "execution_count": 12,
     "metadata": {},
     "output_type": "execute_result"
    }
   ],
   "source": [
    "total_births.tail()"
   ]
  },
  {
   "cell_type": "code",
   "execution_count": 13,
   "metadata": {},
   "outputs": [
    {
     "name": "stdout",
     "output_type": "stream",
     "text": [
      "Populating the interactive namespace from numpy and matplotlib\n"
     ]
    },
    {
     "data": {
      "text/plain": [
       "<matplotlib.axes._subplots.AxesSubplot at 0x2e52f43bcc0>"
      ]
     },
     "execution_count": 13,
     "metadata": {},
     "output_type": "execute_result"
    },
    {
     "data": {
      "image/png": "[encoded data removed]",
      "text/plain": [
       "<matplotlib.figure.Figure at 0x2e52febbfd0>"
      ]
     },
     "metadata": {},
     "output_type": "display_data"
    }
   ],
   "source": [
    "%pylab inline\n",
    "total_births.plot(title='Total births by sex and year')"
   ]
  },
  {
   "cell_type": "code",
   "execution_count": 14,
   "metadata": {
    "collapsed": true
   },
   "outputs": [],
   "source": [
    "def add_prop(group):\n",
    "    # Integer division floors\n",
    "    births = group.births\n",
    "    group['prop'] = births / births.sum()\n",
    "    return group\n",
    "names = names.groupby(['year', 'sex']).apply(add_prop)"
   ]
  },
  {
   "cell_type": "code",
   "execution_count": 15,
   "metadata": {},
   "outputs": [
    {
     "name": "stdout",
     "output_type": "stream",
     "text": [
      "<class 'pandas.core.frame.DataFrame'>\n",
      "RangeIndex: 1690784 entries, 0 to 1690783\n",
      "Data columns (total 5 columns):\n",
      "name      1690784 non-null object\n",
      "sex       1690784 non-null object\n",
      "births    1690784 non-null int64\n",
      "year      1690784 non-null int64\n",
      "prop      1690784 non-null float64\n",
      "dtypes: float64(1), int64(2), object(2)\n",
      "memory usage: 64.5+ MB\n"
     ]
    }
   ],
   "source": [
    "names.info()"
   ]
  },
  {
   "cell_type": "code",
   "execution_count": 16,
   "metadata": {},
   "outputs": [
    {
     "data": {
      "text/html": [
       "<div>\n",
       "<style>\n",
       "    .dataframe thead tr:only-child th {\n",
       "        text-align: right;\n",
       "    }\n",
       "\n",
       "    .dataframe thead th {\n",
       "        text-align: left;\n",
       "    }\n",
       "\n",
       "    .dataframe tbody tr th {\n",
       "        vertical-align: top;\n",
       "    }\n",
       "</style>\n",
       "<table border=\"1\" class=\"dataframe\">\n",
       "  <thead>\n",
       "    <tr style=\"text-align: right;\">\n",
       "      <th></th>\n",
       "      <th>name</th>\n",
       "      <th>sex</th>\n",
       "      <th>births</th>\n",
       "      <th>year</th>\n",
       "      <th>prop</th>\n",
       "    </tr>\n",
       "  </thead>\n",
       "  <tbody>\n",
       "    <tr>\n",
       "      <th>0</th>\n",
       "      <td>Mary</td>\n",
       "      <td>F</td>\n",
       "      <td>7065</td>\n",
       "      <td>1880</td>\n",
       "      <td>0.077643</td>\n",
       "    </tr>\n",
       "    <tr>\n",
       "      <th>1</th>\n",
       "      <td>Anna</td>\n",
       "      <td>F</td>\n",
       "      <td>2604</td>\n",
       "      <td>1880</td>\n",
       "      <td>0.028618</td>\n",
       "    </tr>\n",
       "    <tr>\n",
       "      <th>2</th>\n",
       "      <td>Emma</td>\n",
       "      <td>F</td>\n",
       "      <td>2003</td>\n",
       "      <td>1880</td>\n",
       "      <td>0.022013</td>\n",
       "    </tr>\n",
       "    <tr>\n",
       "      <th>3</th>\n",
       "      <td>Elizabeth</td>\n",
       "      <td>F</td>\n",
       "      <td>1939</td>\n",
       "      <td>1880</td>\n",
       "      <td>0.021309</td>\n",
       "    </tr>\n",
       "    <tr>\n",
       "      <th>4</th>\n",
       "      <td>Minnie</td>\n",
       "      <td>F</td>\n",
       "      <td>1746</td>\n",
       "      <td>1880</td>\n",
       "      <td>0.019188</td>\n",
       "    </tr>\n",
       "  </tbody>\n",
       "</table>\n",
       "</div>"
      ],
      "text/plain": [
       "        name sex  births  year      prop\n",
       "0       Mary   F    7065  1880  0.077643\n",
       "1       Anna   F    2604  1880  0.028618\n",
       "2       Emma   F    2003  1880  0.022013\n",
       "3  Elizabeth   F    1939  1880  0.021309\n",
       "4     Minnie   F    1746  1880  0.019188"
      ]
     },
     "execution_count": 16,
     "metadata": {},
     "output_type": "execute_result"
    }
   ],
   "source": [
    "names[:5]"
   ]
  },
  {
   "cell_type": "code",
   "execution_count": 17,
   "metadata": {},
   "outputs": [
    {
     "data": {
      "text/plain": [
       "True"
      ]
     },
     "execution_count": 17,
     "metadata": {},
     "output_type": "execute_result"
    }
   ],
   "source": [
    "np.allclose(names.groupby(['year', 'sex']).prop.sum(), 1)"
   ]
  },
  {
   "cell_type": "code",
   "execution_count": 18,
   "metadata": {
    "collapsed": true
   },
   "outputs": [],
   "source": [
    "def get_top1000(group):\n",
    "    return group.sort_values(by='births', ascending=False)[:1000]\n",
    "\n",
    "grouped = names.groupby(['year', 'sex'])\n",
    "top1000 = grouped.apply(get_top1000)"
   ]
  },
  {
   "cell_type": "code",
   "execution_count": 19,
   "metadata": {},
   "outputs": [
    {
     "name": "stdout",
     "output_type": "stream",
     "text": [
      "<class 'pandas.core.frame.DataFrame'>\n",
      "MultiIndex: 261877 entries, (1880, F, 0) to (2010, M, 1677645)\n",
      "Data columns (total 5 columns):\n",
      "name      261877 non-null object\n",
      "sex       261877 non-null object\n",
      "births    261877 non-null int64\n",
      "year      261877 non-null int64\n",
      "prop      261877 non-null float64\n",
      "dtypes: float64(1), int64(2), object(2)\n",
      "memory usage: 13.7+ MB\n"
     ]
    }
   ],
   "source": [
    "top1000.info()"
   ]
  },
  {
   "cell_type": "markdown",
   "metadata": {
    "collapsed": true
   },
   "source": [
    "<h3>Analyzing Naming Trends</h3>"
   ]
  },
  {
   "cell_type": "code",
   "execution_count": 20,
   "metadata": {
    "collapsed": true
   },
   "outputs": [],
   "source": [
    "boys = top1000[top1000.sex == 'M' ]\n",
    "girls = top1000[top1000.sex == 'F']"
   ]
  },
  {
   "cell_type": "code",
   "execution_count": 28,
   "metadata": {},
   "outputs": [
    {
     "name": "stderr",
     "output_type": "stream",
     "text": [
      "C:\\Users\\yakov\\Miniconda3\\lib\\site-packages\\pandas\\core\\reshape\\pivot.py:135: FutureWarning: 'year' is both a column name and an index level.\n",
      "Defaulting to column but this will raise an ambiguity error in a future version\n",
      "  grouped = data.groupby(keys)\n"
     ]
    },
    {
     "name": "stdout",
     "output_type": "stream",
     "text": [
      "<class 'pandas.core.frame.DataFrame'>\n",
      "Int64Index: 131 entries, 1880 to 2010\n",
      "Columns: 6868 entries, Aaden to Zuri\n",
      "dtypes: float64(6868)\n",
      "memory usage: 6.9 MB\n"
     ]
    }
   ],
   "source": [
    "total_births = top1000.pivot_table(values='births', index='year', columns='name', aggfunc=sum)\n",
    "total_births.info()"
   ]
  },
  {
   "cell_type": "code",
   "execution_count": 29,
   "metadata": {},
   "outputs": [
    {
     "data": {
      "text/plain": [
       "array([<matplotlib.axes._subplots.AxesSubplot object at 0x000002E532B07D30>,\n",
       "       <matplotlib.axes._subplots.AxesSubplot object at 0x000002E532A399E8>,\n",
       "       <matplotlib.axes._subplots.AxesSubplot object at 0x000002E532AD83C8>,\n",
       "       <matplotlib.axes._subplots.AxesSubplot object at 0x000002E50018FF28>], dtype=object)"
      ]
     },
     "execution_count": 29,
     "metadata": {},
     "output_type": "execute_result"
    },
    {
     "data": {
      "image/png": "[encoded data removed]",
      "text/plain": [
       "<matplotlib.figure.Figure at 0x2e532b07240>"
      ]
     },
     "metadata": {},
     "output_type": "display_data"
    }
   ],
   "source": [
    "subset = total_births[['John', 'Harry', 'James', 'Anna']]\n",
    "subset.plot(subplots=True, figsize=(12, 10), grid=False, title='Number of births per year')"
   ]
  },
  {
   "cell_type": "code",
   "execution_count": 30,
   "metadata": {},
   "outputs": [
    {
     "name": "stderr",
     "output_type": "stream",
     "text": [
      "C:\\Users\\yakov\\Miniconda3\\lib\\site-packages\\pandas\\core\\reshape\\pivot.py:135: FutureWarning: 'year' is both a column name and an index level.\n",
      "Defaulting to column but this will raise an ambiguity error in a future version\n",
      "  grouped = data.groupby(keys)\n",
      "C:\\Users\\yakov\\Miniconda3\\lib\\site-packages\\pandas\\core\\reshape\\pivot.py:135: FutureWarning: 'sex' is both a column name and an index level.\n",
      "Defaulting to column but this will raise an ambiguity error in a future version\n",
      "  grouped = data.groupby(keys)\n"
     ]
    }
   ],
   "source": [
    "table = top1000.pivot_table(values='prop', index='year', columns='sex', aggfunc=sum)"
   ]
  },
  {
   "cell_type": "code",
   "execution_count": 32,
   "metadata": {},
   "outputs": [
    {
     "data": {
      "text/plain": [
       "<matplotlib.axes._subplots.AxesSubplot at 0x2e50070ba58>"
      ]
     },
     "execution_count": 32,
     "metadata": {},
     "output_type": "execute_result"
    },
    {
     "data": {
      "image/png": "[encoded data removed]",
      "text/plain": [
       "<matplotlib.figure.Figure at 0x2e5324f2e48>"
      ]
     },
     "metadata": {},
     "output_type": "display_data"
    }
   ],
   "source": [
    "table.plot(title='Sum of table1000.prop by year and sex', yticks=np.linspace(0, 1.2, 13), xticks=range(1880, 2020, 10))"
   ]
  },
  {
   "cell_type": "code",
   "execution_count": 40,
   "metadata": {
    "collapsed": true
   },
   "outputs": [],
   "source": [
    "df = boys[boys.year == 2010]"
   ]
  },
  {
   "cell_type": "code",
   "execution_count": 41,
   "metadata": {},
   "outputs": [
    {
     "name": "stdout",
     "output_type": "stream",
     "text": [
      "<class 'pandas.core.frame.DataFrame'>\n",
      "MultiIndex: 1000 entries, (2010, M, 1676644) to (2010, M, 1677645)\n",
      "Data columns (total 5 columns):\n",
      "name      1000 non-null object\n",
      "sex       1000 non-null object\n",
      "births    1000 non-null int64\n",
      "year      1000 non-null int64\n",
      "prop      1000 non-null float64\n",
      "dtypes: float64(1), int64(2), object(2)\n",
      "memory usage: 2.0+ MB\n"
     ]
    }
   ],
   "source": [
    "df.info()"
   ]
  },
  {
   "cell_type": "code",
   "execution_count": 42,
   "metadata": {},
   "outputs": [],
   "source": [
    "prop_cumsum = df.sort_values(by='prop', ascending=False).prop.cumsum()"
   ]
  },
  {
   "cell_type": "code",
   "execution_count": 43,
   "metadata": {},
   "outputs": [
    {
     "data": {
      "text/plain": [
       "year  sex         \n",
       "2010  M    1676644    0.011523\n",
       "           1676645    0.020934\n",
       "           1676646    0.029959\n",
       "           1676647    0.038930\n",
       "           1676648    0.047817\n",
       "           1676649    0.056579\n",
       "           1676650    0.065155\n",
       "           1676651    0.073414\n",
       "           1676652    0.081528\n",
       "           1676653    0.089621\n",
       "Name: prop, dtype: float64"
      ]
     },
     "execution_count": 43,
     "metadata": {},
     "output_type": "execute_result"
    }
   ],
   "source": [
    "prop_cumsum[:10]"
   ]
  },
  {
   "cell_type": "code",
   "execution_count": 44,
   "metadata": {},
   "outputs": [
    {
     "data": {
      "text/plain": [
       "array([116], dtype=int64)"
      ]
     },
     "execution_count": 44,
     "metadata": {},
     "output_type": "execute_result"
    }
   ],
   "source": [
    "prop_cumsum.searchsorted(0.5)"
   ]
  },
  {
   "cell_type": "code",
   "execution_count": 45,
   "metadata": {
    "collapsed": true
   },
   "outputs": [],
   "source": [
    "df = boys[boys.year == 1900]"
   ]
  },
  {
   "cell_type": "code",
   "execution_count": 46,
   "metadata": {
    "collapsed": true
   },
   "outputs": [],
   "source": [
    "in1900 = df.sort_values(by='prop', ascending=False).prop.cumsum()"
   ]
  },
  {
   "cell_type": "code",
   "execution_count": 47,
   "metadata": {},
   "outputs": [
    {
     "data": {
      "text/plain": [
       "array([25], dtype=int64)"
      ]
     },
     "execution_count": 47,
     "metadata": {},
     "output_type": "execute_result"
    }
   ],
   "source": [
    "in1900.searchsorted(0.5) + 1"
   ]
  },
  {
   "cell_type": "code",
   "execution_count": 52,
   "metadata": {},
   "outputs": [
    {
     "name": "stderr",
     "output_type": "stream",
     "text": [
      "C:\\Users\\yakov\\Miniconda3\\lib\\site-packages\\ipykernel_launcher.py:4: FutureWarning: 'year' is both a column name and an index level.\n",
      "Defaulting to column but this will raise an ambiguity error in a future version\n",
      "  after removing the cwd from sys.path.\n",
      "C:\\Users\\yakov\\Miniconda3\\lib\\site-packages\\ipykernel_launcher.py:4: FutureWarning: 'sex' is both a column name and an index level.\n",
      "Defaulting to column but this will raise an ambiguity error in a future version\n",
      "  after removing the cwd from sys.path.\n"
     ]
    },
    {
     "data": {
      "text/html": [
       "<div>\n",
       "<style>\n",
       "    .dataframe thead tr:only-child th {\n",
       "        text-align: right;\n",
       "    }\n",
       "\n",
       "    .dataframe thead th {\n",
       "        text-align: left;\n",
       "    }\n",
       "\n",
       "    .dataframe tbody tr th {\n",
       "        vertical-align: top;\n",
       "    }\n",
       "</style>\n",
       "<table border=\"1\" class=\"dataframe\">\n",
       "  <thead>\n",
       "    <tr style=\"text-align: right;\">\n",
       "      <th>sex</th>\n",
       "      <th>F</th>\n",
       "      <th>M</th>\n",
       "    </tr>\n",
       "    <tr>\n",
       "      <th>year</th>\n",
       "      <th></th>\n",
       "      <th></th>\n",
       "    </tr>\n",
       "  </thead>\n",
       "  <tbody>\n",
       "    <tr>\n",
       "      <th>1880</th>\n",
       "      <td>38</td>\n",
       "      <td>14</td>\n",
       "    </tr>\n",
       "    <tr>\n",
       "      <th>1881</th>\n",
       "      <td>38</td>\n",
       "      <td>14</td>\n",
       "    </tr>\n",
       "    <tr>\n",
       "      <th>1882</th>\n",
       "      <td>38</td>\n",
       "      <td>15</td>\n",
       "    </tr>\n",
       "    <tr>\n",
       "      <th>1883</th>\n",
       "      <td>39</td>\n",
       "      <td>15</td>\n",
       "    </tr>\n",
       "    <tr>\n",
       "      <th>1884</th>\n",
       "      <td>39</td>\n",
       "      <td>16</td>\n",
       "    </tr>\n",
       "  </tbody>\n",
       "</table>\n",
       "</div>"
      ],
      "text/plain": [
       "sex    F   M\n",
       "year        \n",
       "1880  38  14\n",
       "1881  38  14\n",
       "1882  38  15\n",
       "1883  39  15\n",
       "1884  39  16"
      ]
     },
     "execution_count": 52,
     "metadata": {},
     "output_type": "execute_result"
    }
   ],
   "source": [
    "def get_quantile_count(group, q=0.5):\n",
    "    group = group.sort_values(by='prop', ascending=False)\n",
    "    return group.prop.cumsum().searchsorted(q)[0] + 1\n",
    "diversity = top1000.groupby(['year', 'sex']).apply(get_quantile_count)\n",
    "diversity = diversity.unstack('sex')\n",
    "diversity.head()"
   ]
  },
  {
   "cell_type": "code",
   "execution_count": 53,
   "metadata": {},
   "outputs": [
    {
     "data": {
      "text/plain": [
       "<matplotlib.axes._subplots.AxesSubplot at 0x2e5009d0f28>"
      ]
     },
     "execution_count": 53,
     "metadata": {},
     "output_type": "execute_result"
    },
    {
     "data": {
      "image/png": "[encoded data removed]",
      "text/plain": [
       "<matplotlib.figure.Figure at 0x2e5009d09b0>"
      ]
     },
     "metadata": {},
     "output_type": "display_data"
    }
   ],
   "source": [
    "diversity.plot(title='Number of popular names in top 50%')"
   ]
  },
  {
   "cell_type": "code",
   "execution_count": 57,
   "metadata": {},
   "outputs": [
    {
     "data": {
      "text/plain": [
       "0    y\n",
       "1    a\n",
       "2    a\n",
       "3    h\n",
       "4    e\n",
       "Name: name, dtype: object"
      ]
     },
     "execution_count": 57,
     "metadata": {},
     "output_type": "execute_result"
    }
   ],
   "source": [
    "# extract last letter from name column\n",
    "get_last_letter = lambda x: x[-1]\n",
    "last_letters = names.name.map(get_last_letter)\n",
    "last_letters[:5]"
   ]
  },
  {
   "cell_type": "code",
   "execution_count": 68,
   "metadata": {},
   "outputs": [
    {
     "name": "stdout",
     "output_type": "stream",
     "text": [
      "<class 'pandas.core.frame.DataFrame'>\n",
      "Index: 26 entries, a to z\n",
      "Columns: 262 entries, (F, 1880) to (M, 2010)\n",
      "dtypes: float64(262)\n",
      "memory usage: 53.4+ KB\n"
     ]
    }
   ],
   "source": [
    "last_letters.name = 'last_letter asdf'\n",
    "table = names.pivot_table(values='births', index=last_letters,\n",
    "columns=['sex', 'year'], aggfunc=sum)\n",
    "table.info()"
   ]
  },
  {
   "cell_type": "code",
   "execution_count": 69,
   "metadata": {
    "collapsed": true
   },
   "outputs": [],
   "source": [
    "subtable = table.reindex(columns=[1910, 1960, 2010], level='year')"
   ]
  },
  {
   "cell_type": "code",
   "execution_count": 70,
   "metadata": {},
   "outputs": [
    {
     "data": {
      "text/html": [
       "<div>\n",
       "<style>\n",
       "    .dataframe thead tr:only-child th {\n",
       "        text-align: right;\n",
       "    }\n",
       "\n",
       "    .dataframe thead th {\n",
       "        text-align: left;\n",
       "    }\n",
       "\n",
       "    .dataframe tbody tr th {\n",
       "        vertical-align: top;\n",
       "    }\n",
       "</style>\n",
       "<table border=\"1\" class=\"dataframe\">\n",
       "  <thead>\n",
       "    <tr>\n",
       "      <th>sex</th>\n",
       "      <th colspan=\"3\" halign=\"left\">F</th>\n",
       "      <th colspan=\"3\" halign=\"left\">M</th>\n",
       "    </tr>\n",
       "    <tr>\n",
       "      <th>year</th>\n",
       "      <th>1910</th>\n",
       "      <th>1960</th>\n",
       "      <th>2010</th>\n",
       "      <th>1910</th>\n",
       "      <th>1960</th>\n",
       "      <th>2010</th>\n",
       "    </tr>\n",
       "    <tr>\n",
       "      <th>last_letter asdf</th>\n",
       "      <th></th>\n",
       "      <th></th>\n",
       "      <th></th>\n",
       "      <th></th>\n",
       "      <th></th>\n",
       "      <th></th>\n",
       "    </tr>\n",
       "  </thead>\n",
       "  <tbody>\n",
       "    <tr>\n",
       "      <th>a</th>\n",
       "      <td>108376.0</td>\n",
       "      <td>691247.0</td>\n",
       "      <td>670605.0</td>\n",
       "      <td>977.0</td>\n",
       "      <td>5204.0</td>\n",
       "      <td>28438.0</td>\n",
       "    </tr>\n",
       "    <tr>\n",
       "      <th>b</th>\n",
       "      <td>NaN</td>\n",
       "      <td>694.0</td>\n",
       "      <td>450.0</td>\n",
       "      <td>411.0</td>\n",
       "      <td>3912.0</td>\n",
       "      <td>38859.0</td>\n",
       "    </tr>\n",
       "    <tr>\n",
       "      <th>c</th>\n",
       "      <td>5.0</td>\n",
       "      <td>49.0</td>\n",
       "      <td>946.0</td>\n",
       "      <td>482.0</td>\n",
       "      <td>15476.0</td>\n",
       "      <td>23125.0</td>\n",
       "    </tr>\n",
       "    <tr>\n",
       "      <th>d</th>\n",
       "      <td>6750.0</td>\n",
       "      <td>3729.0</td>\n",
       "      <td>2607.0</td>\n",
       "      <td>22111.0</td>\n",
       "      <td>262112.0</td>\n",
       "      <td>44398.0</td>\n",
       "    </tr>\n",
       "    <tr>\n",
       "      <th>e</th>\n",
       "      <td>133569.0</td>\n",
       "      <td>435013.0</td>\n",
       "      <td>313833.0</td>\n",
       "      <td>28655.0</td>\n",
       "      <td>178823.0</td>\n",
       "      <td>129012.0</td>\n",
       "    </tr>\n",
       "  </tbody>\n",
       "</table>\n",
       "</div>"
      ],
      "text/plain": [
       "sex                      F                            M                    \n",
       "year                  1910      1960      2010     1910      1960      2010\n",
       "last_letter asdf                                                           \n",
       "a                 108376.0  691247.0  670605.0    977.0    5204.0   28438.0\n",
       "b                      NaN     694.0     450.0    411.0    3912.0   38859.0\n",
       "c                      5.0      49.0     946.0    482.0   15476.0   23125.0\n",
       "d                   6750.0    3729.0    2607.0  22111.0  262112.0   44398.0\n",
       "e                 133569.0  435013.0  313833.0  28655.0  178823.0  129012.0"
      ]
     },
     "execution_count": 70,
     "metadata": {},
     "output_type": "execute_result"
    }
   ],
   "source": [
    "subtable.head()"
   ]
  },
  {
   "cell_type": "code",
   "execution_count": 71,
   "metadata": {},
   "outputs": [
    {
     "data": {
      "text/plain": [
       "sex  year\n",
       "F    1910     396416.0\n",
       "     1960    2022062.0\n",
       "     2010    1759010.0\n",
       "M    1910     194198.0\n",
       "     1960    2132588.0\n",
       "     2010    1898382.0\n",
       "dtype: float64"
      ]
     },
     "execution_count": 71,
     "metadata": {},
     "output_type": "execute_result"
    }
   ],
   "source": [
    "subtable.sum()"
   ]
  },
  {
   "cell_type": "code",
   "execution_count": 72,
   "metadata": {
    "collapsed": true
   },
   "outputs": [],
   "source": [
    "letter_prop = subtable/subtable.sum()"
   ]
  },
  {
   "cell_type": "code",
   "execution_count": 73,
   "metadata": {},
   "outputs": [
    {
     "data": {
      "text/plain": [
       "<matplotlib.axes._subplots.AxesSubplot at 0x2e500b0ea20>"
      ]
     },
     "execution_count": 73,
     "metadata": {},
     "output_type": "execute_result"
    },
    {
     "data": {
      "image/png": "[encoded data removed]",
      "text/plain": [
       "<matplotlib.figure.Figure at 0x2e500b55d68>"
      ]
     },
     "metadata": {},
     "output_type": "display_data"
    }
   ],
   "source": [
    "fig, axes = plt.subplots(2, 1, figsize=(10, 8))\n",
    "letter_prop['M'].plot(kind='bar', rot=0, ax=axes[0], title='Male')\n",
    "letter_prop['F'].plot(kind='bar', rot=0, ax=axes[1], title='Female',\n",
    "legend=False)"
   ]
  },
  {
   "cell_type": "code",
   "execution_count": 74,
   "metadata": {
    "collapsed": true
   },
   "outputs": [],
   "source": [
    "letter_prop = table / table.sum()"
   ]
  },
  {
   "cell_type": "code",
   "execution_count": 75,
   "metadata": {},
   "outputs": [],
   "source": [
    "dny_ts = letter_prop.loc[['d', 'n', 'y'], 'M'].T"
   ]
  },
  {
   "cell_type": "code",
   "execution_count": 76,
   "metadata": {},
   "outputs": [
    {
     "data": {
      "text/html": [
       "<div>\n",
       "<style>\n",
       "    .dataframe thead tr:only-child th {\n",
       "        text-align: right;\n",
       "    }\n",
       "\n",
       "    .dataframe thead th {\n",
       "        text-align: left;\n",
       "    }\n",
       "\n",
       "    .dataframe tbody tr th {\n",
       "        vertical-align: top;\n",
       "    }\n",
       "</style>\n",
       "<table border=\"1\" class=\"dataframe\">\n",
       "  <thead>\n",
       "    <tr style=\"text-align: right;\">\n",
       "      <th>last_letter asdf</th>\n",
       "      <th>d</th>\n",
       "      <th>n</th>\n",
       "      <th>y</th>\n",
       "    </tr>\n",
       "    <tr>\n",
       "      <th>year</th>\n",
       "      <th></th>\n",
       "      <th></th>\n",
       "      <th></th>\n",
       "    </tr>\n",
       "  </thead>\n",
       "  <tbody>\n",
       "    <tr>\n",
       "      <th>1880</th>\n",
       "      <td>0.083055</td>\n",
       "      <td>0.153213</td>\n",
       "      <td>0.075760</td>\n",
       "    </tr>\n",
       "    <tr>\n",
       "      <th>1881</th>\n",
       "      <td>0.083247</td>\n",
       "      <td>0.153214</td>\n",
       "      <td>0.077451</td>\n",
       "    </tr>\n",
       "    <tr>\n",
       "      <th>1882</th>\n",
       "      <td>0.085340</td>\n",
       "      <td>0.149560</td>\n",
       "      <td>0.077537</td>\n",
       "    </tr>\n",
       "    <tr>\n",
       "      <th>1883</th>\n",
       "      <td>0.084066</td>\n",
       "      <td>0.151646</td>\n",
       "      <td>0.079144</td>\n",
       "    </tr>\n",
       "    <tr>\n",
       "      <th>1884</th>\n",
       "      <td>0.086120</td>\n",
       "      <td>0.149915</td>\n",
       "      <td>0.080405</td>\n",
       "    </tr>\n",
       "  </tbody>\n",
       "</table>\n",
       "</div>"
      ],
      "text/plain": [
       "last_letter asdf         d         n         y\n",
       "year                                          \n",
       "1880              0.083055  0.153213  0.075760\n",
       "1881              0.083247  0.153214  0.077451\n",
       "1882              0.085340  0.149560  0.077537\n",
       "1883              0.084066  0.151646  0.079144\n",
       "1884              0.086120  0.149915  0.080405"
      ]
     },
     "execution_count": 76,
     "metadata": {},
     "output_type": "execute_result"
    }
   ],
   "source": [
    "dny_ts.head()"
   ]
  },
  {
   "cell_type": "code",
   "execution_count": 77,
   "metadata": {},
   "outputs": [
    {
     "data": {
      "text/plain": [
       "<matplotlib.axes._subplots.AxesSubplot at 0x2e5010adf98>"
      ]
     },
     "execution_count": 77,
     "metadata": {},
     "output_type": "execute_result"
    },
    {
     "data": {
      "image/png": "[encoded data removed]",
      "text/plain": [
       "<matplotlib.figure.Figure at 0x2e500b554a8>"
      ]
     },
     "metadata": {},
     "output_type": "display_data"
    }
   ],
   "source": [
    "dny_ts.plot()"
   ]
  },
  {
   "cell_type": "code",
   "execution_count": 84,
   "metadata": {},
   "outputs": [
    {
     "data": {
      "text/plain": [
       "array(['Mary', 'Anna', 'Emma', ..., 'Yousef', 'Joziah', 'Maxton'], dtype=object)"
      ]
     },
     "execution_count": 84,
     "metadata": {},
     "output_type": "execute_result"
    }
   ],
   "source": [
    "all_names = top1000.name.unique()\n",
    "all_names"
   ]
  },
  {
   "cell_type": "code",
   "execution_count": 85,
   "metadata": {
    "collapsed": true
   },
   "outputs": [],
   "source": [
    "mask = np.array(['lesl' in x.lower() for x in all_names])"
   ]
  },
  {
   "cell_type": "code",
   "execution_count": 86,
   "metadata": {
    "collapsed": true
   },
   "outputs": [],
   "source": [
    "lesley_like = all_names[mask]"
   ]
  },
  {
   "cell_type": "code",
   "execution_count": 87,
   "metadata": {},
   "outputs": [
    {
     "data": {
      "text/plain": [
       "array(['Leslie', 'Lesley', 'Leslee', 'Lesli', 'Lesly'], dtype=object)"
      ]
     },
     "execution_count": 87,
     "metadata": {},
     "output_type": "execute_result"
    }
   ],
   "source": [
    "lesley_like"
   ]
  },
  {
   "cell_type": "code",
   "execution_count": 88,
   "metadata": {
    "collapsed": true
   },
   "outputs": [],
   "source": [
    "filtered = top1000[top1000.name.isin(lesley_like)]"
   ]
  },
  {
   "cell_type": "code",
   "execution_count": 89,
   "metadata": {},
   "outputs": [
    {
     "data": {
      "text/plain": [
       "name\n",
       "Leslee      1082\n",
       "Lesley     35022\n",
       "Lesli        929\n",
       "Leslie    370429\n",
       "Lesly      10067\n",
       "Name: births, dtype: int64"
      ]
     },
     "execution_count": 89,
     "metadata": {},
     "output_type": "execute_result"
    }
   ],
   "source": [
    "filtered.groupby('name').births.sum()"
   ]
  },
  {
   "cell_type": "code",
   "execution_count": 101,
   "metadata": {},
   "outputs": [
    {
     "name": "stderr",
     "output_type": "stream",
     "text": [
      "C:\\Users\\yakov\\Miniconda3\\lib\\site-packages\\pandas\\core\\reshape\\pivot.py:135: FutureWarning: 'year' is both a column name and an index level.\n",
      "Defaulting to column but this will raise an ambiguity error in a future version\n",
      "  grouped = data.groupby(keys)\n",
      "C:\\Users\\yakov\\Miniconda3\\lib\\site-packages\\pandas\\core\\reshape\\pivot.py:135: FutureWarning: 'sex' is both a column name and an index level.\n",
      "Defaulting to column but this will raise an ambiguity error in a future version\n",
      "  grouped = data.groupby(keys)\n"
     ]
    }
   ],
   "source": [
    "table = filtered.pivot_table(values='births', index='year', columns='sex', aggfunc='sum')"
   ]
  },
  {
   "cell_type": "code",
   "execution_count": 104,
   "metadata": {
    "collapsed": true
   },
   "outputs": [],
   "source": [
    "table = table.div(table.sum(1), axis=0)"
   ]
  },
  {
   "cell_type": "code",
   "execution_count": 105,
   "metadata": {},
   "outputs": [
    {
     "data": {
      "text/html": [
       "<div>\n",
       "<style>\n",
       "    .dataframe thead tr:only-child th {\n",
       "        text-align: right;\n",
       "    }\n",
       "\n",
       "    .dataframe thead th {\n",
       "        text-align: left;\n",
       "    }\n",
       "\n",
       "    .dataframe tbody tr th {\n",
       "        vertical-align: top;\n",
       "    }\n",
       "</style>\n",
       "<table border=\"1\" class=\"dataframe\">\n",
       "  <thead>\n",
       "    <tr style=\"text-align: right;\">\n",
       "      <th>sex</th>\n",
       "      <th>F</th>\n",
       "      <th>M</th>\n",
       "    </tr>\n",
       "    <tr>\n",
       "      <th>year</th>\n",
       "      <th></th>\n",
       "      <th></th>\n",
       "    </tr>\n",
       "  </thead>\n",
       "  <tbody>\n",
       "    <tr>\n",
       "      <th>2006</th>\n",
       "      <td>1.0</td>\n",
       "      <td>NaN</td>\n",
       "    </tr>\n",
       "    <tr>\n",
       "      <th>2007</th>\n",
       "      <td>1.0</td>\n",
       "      <td>NaN</td>\n",
       "    </tr>\n",
       "    <tr>\n",
       "      <th>2008</th>\n",
       "      <td>1.0</td>\n",
       "      <td>NaN</td>\n",
       "    </tr>\n",
       "    <tr>\n",
       "      <th>2009</th>\n",
       "      <td>1.0</td>\n",
       "      <td>NaN</td>\n",
       "    </tr>\n",
       "    <tr>\n",
       "      <th>2010</th>\n",
       "      <td>1.0</td>\n",
       "      <td>NaN</td>\n",
       "    </tr>\n",
       "  </tbody>\n",
       "</table>\n",
       "</div>"
      ],
      "text/plain": [
       "sex     F   M\n",
       "year         \n",
       "2006  1.0 NaN\n",
       "2007  1.0 NaN\n",
       "2008  1.0 NaN\n",
       "2009  1.0 NaN\n",
       "2010  1.0 NaN"
      ]
     },
     "execution_count": 105,
     "metadata": {},
     "output_type": "execute_result"
    }
   ],
   "source": [
    "table.tail()"
   ]
  },
  {
   "cell_type": "code",
   "execution_count": 106,
   "metadata": {},
   "outputs": [
    {
     "data": {
      "text/plain": [
       "<matplotlib.axes._subplots.AxesSubplot at 0x2e5016ef198>"
      ]
     },
     "execution_count": 106,
     "metadata": {},
     "output_type": "execute_result"
    },
    {
     "data": {
      "image/png": "[encoded data removed]",
      "text/plain": [
       "<matplotlib.figure.Figure at 0x2e532a31390>"
      ]
     },
     "metadata": {},
     "output_type": "display_data"
    }
   ],
   "source": [
    "table.plot(style={'M': 'k-', 'F': 'k--'})"
   ]
  },
  {
   "cell_type": "code",
   "execution_count": 107,
   "metadata": {},
   "outputs": [
    {
     "name": "stdout",
     "output_type": "stream",
     "text": [
      "<class 'pandas.core.frame.DataFrame'>\n",
      "Int64Index: 131 entries, 1880 to 2010\n",
      "Data columns (total 2 columns):\n",
      "F    131 non-null float64\n",
      "M    118 non-null float64\n",
      "dtypes: float64(2)\n",
      "memory usage: 3.1 KB\n"
     ]
    }
   ],
   "source": [
    "table.info()"
   ]
  },
  {
   "cell_type": "code",
   "execution_count": 108,
   "metadata": {},
   "outputs": [
    {
     "data": {
      "text/html": [
       "<div>\n",
       "<style>\n",
       "    .dataframe thead tr:only-child th {\n",
       "        text-align: right;\n",
       "    }\n",
       "\n",
       "    .dataframe thead th {\n",
       "        text-align: left;\n",
       "    }\n",
       "\n",
       "    .dataframe tbody tr th {\n",
       "        vertical-align: top;\n",
       "    }\n",
       "</style>\n",
       "<table border=\"1\" class=\"dataframe\">\n",
       "  <thead>\n",
       "    <tr style=\"text-align: right;\">\n",
       "      <th>sex</th>\n",
       "      <th>F</th>\n",
       "      <th>M</th>\n",
       "    </tr>\n",
       "    <tr>\n",
       "      <th>year</th>\n",
       "      <th></th>\n",
       "      <th></th>\n",
       "    </tr>\n",
       "  </thead>\n",
       "  <tbody>\n",
       "    <tr>\n",
       "      <th>1880</th>\n",
       "      <td>0.091954</td>\n",
       "      <td>0.908046</td>\n",
       "    </tr>\n",
       "    <tr>\n",
       "      <th>1881</th>\n",
       "      <td>0.106796</td>\n",
       "      <td>0.893204</td>\n",
       "    </tr>\n",
       "    <tr>\n",
       "      <th>1882</th>\n",
       "      <td>0.065693</td>\n",
       "      <td>0.934307</td>\n",
       "    </tr>\n",
       "    <tr>\n",
       "      <th>1883</th>\n",
       "      <td>0.053030</td>\n",
       "      <td>0.946970</td>\n",
       "    </tr>\n",
       "    <tr>\n",
       "      <th>1884</th>\n",
       "      <td>0.107143</td>\n",
       "      <td>0.892857</td>\n",
       "    </tr>\n",
       "  </tbody>\n",
       "</table>\n",
       "</div>"
      ],
      "text/plain": [
       "sex          F         M\n",
       "year                    \n",
       "1880  0.091954  0.908046\n",
       "1881  0.106796  0.893204\n",
       "1882  0.065693  0.934307\n",
       "1883  0.053030  0.946970\n",
       "1884  0.107143  0.892857"
      ]
     },
     "execution_count": 108,
     "metadata": {},
     "output_type": "execute_result"
    }
   ],
   "source": [
    "table[:5]"
   ]
  },
  {
   "cell_type": "code",
   "execution_count": null,
   "metadata": {
    "collapsed": true
   },
   "outputs": [],
   "source": []
  }
 ],
 "metadata": {
  "kernelspec": {
   "display_name": "Python 3",
   "language": "python",
   "name": "python3"
  },
  "language_info": {
   "codemirror_mode": {
    "name": "ipython",
    "version": 3
   },
   "file_extension": ".py",
   "mimetype": "text/x-python",
   "name": "python",
   "nbconvert_exporter": "python",
   "pygments_lexer": "ipython3",
   "version": "3.6.1"
  }
 },
 "nbformat": 4,
 "nbformat_minor": 2
}
